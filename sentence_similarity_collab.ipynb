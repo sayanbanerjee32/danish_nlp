{
  "nbformat": 4,
  "nbformat_minor": 0,
  "metadata": {
    "colab": {
      "name": "sentence_similarity.ipynb",
      "provenance": [],
      "include_colab_link": true
    },
    "kernelspec": {
      "display_name": "Python 3",
      "language": "python",
      "name": "python3"
    },
    "language_info": {
      "codemirror_mode": {
        "name": "ipython",
        "version": 3
      },
      "file_extension": ".py",
      "mimetype": "text/x-python",
      "name": "python",
      "nbconvert_exporter": "python",
      "pygments_lexer": "ipython3",
      "version": "3.7.9"
    }
  },
  "cells": [
    {
      "cell_type": "markdown",
      "metadata": {
        "id": "view-in-github",
        "colab_type": "text"
      },
      "source": [
        "<a href=\"https://colab.research.google.com/github/sayanbanerjee32/danish_nlp/blob/main/sentence_similarity_collab.ipynb\" target=\"_parent\"><img src=\"https://colab.research.google.com/assets/colab-badge.svg\" alt=\"Open In Colab\"/></a>"
      ]
    },
    {
      "cell_type": "markdown",
      "metadata": {
        "id": "SysYG9RiBA32"
      },
      "source": [
        "# Danish Sentence similarity"
      ]
    },
    {
      "cell_type": "code",
      "metadata": {
        "id": "gEO5qpcxBA4U"
      },
      "source": [
        "import pandas as pd\n",
        "from sklearn.metrics.pairwise import cosine_similarity\n",
        "import numpy as np"
      ],
      "execution_count": 1,
      "outputs": []
    },
    {
      "cell_type": "code",
      "metadata": {
        "id": "1yBp73D8BA4V"
      },
      "source": [
        "# import os\n",
        "# os.chdir('D:/DataScienceWorkSpace/danish_sentence_similarty/src')"
      ],
      "execution_count": null,
      "outputs": []
    },
    {
      "cell_type": "code",
      "metadata": {
        "id": "8x5EkZY2BA4W"
      },
      "source": [
        "# data fie path in local\n",
        "data_file = 'https://raw.githubusercontent.com/lassehjorthmadsen/data-science-assignment/master/data/sentences.csv'\n",
        "#'../data/sentences.csv'"
      ],
      "execution_count": 2,
      "outputs": []
    },
    {
      "cell_type": "code",
      "metadata": {
        "colab": {
          "base_uri": "https://localhost:8080/",
          "height": 204
        },
        "id": "eE-fQPOmBA4W",
        "outputId": "b21b105e-7cd6-44d8-f1ec-0da33bfd451b"
      },
      "source": [
        "# read the sentences in a dataframe\n",
        "sentence_df = pd.read_csv(data_file)\n",
        "sentence_df.head()"
      ],
      "execution_count": 3,
      "outputs": [
        {
          "output_type": "execute_result",
          "data": {
            "text/html": [
              "<div>\n",
              "<style scoped>\n",
              "    .dataframe tbody tr th:only-of-type {\n",
              "        vertical-align: middle;\n",
              "    }\n",
              "\n",
              "    .dataframe tbody tr th {\n",
              "        vertical-align: top;\n",
              "    }\n",
              "\n",
              "    .dataframe thead th {\n",
              "        text-align: right;\n",
              "    }\n",
              "</style>\n",
              "<table border=\"1\" class=\"dataframe\">\n",
              "  <thead>\n",
              "    <tr style=\"text-align: right;\">\n",
              "      <th></th>\n",
              "      <th>id</th>\n",
              "      <th>text</th>\n",
              "    </tr>\n",
              "  </thead>\n",
              "  <tbody>\n",
              "    <tr>\n",
              "      <th>0</th>\n",
              "      <td>10-12-176</td>\n",
              "      <td>Vanddamp er en usynlig gas, der forekommer i s...</td>\n",
              "    </tr>\n",
              "    <tr>\n",
              "      <th>1</th>\n",
              "      <td>10-13-182</td>\n",
              "      <td>Er der nogen herinde der har erfaring med at k...</td>\n",
              "    </tr>\n",
              "    <tr>\n",
              "      <th>2</th>\n",
              "      <td>10-14-29</td>\n",
              "      <td>Ved ikke lige hvordan disse er i størrelsen?</td>\n",
              "    </tr>\n",
              "    <tr>\n",
              "      <th>3</th>\n",
              "      <td>10-16-39</td>\n",
              "      <td>Dog kan jeg godt lide pang farver;)</td>\n",
              "    </tr>\n",
              "    <tr>\n",
              "      <th>4</th>\n",
              "      <td>10-17-297</td>\n",
              "      <td>Pengene bliver dog ofte først udbetalt efter 5...</td>\n",
              "    </tr>\n",
              "  </tbody>\n",
              "</table>\n",
              "</div>"
            ],
            "text/plain": [
              "          id                                               text\n",
              "0  10-12-176  Vanddamp er en usynlig gas, der forekommer i s...\n",
              "1  10-13-182  Er der nogen herinde der har erfaring med at k...\n",
              "2   10-14-29       Ved ikke lige hvordan disse er i størrelsen?\n",
              "3   10-16-39                Dog kan jeg godt lide pang farver;)\n",
              "4  10-17-297  Pengene bliver dog ofte først udbetalt efter 5..."
            ]
          },
          "metadata": {
            "tags": []
          },
          "execution_count": 3
        }
      ]
    },
    {
      "cell_type": "code",
      "metadata": {
        "colab": {
          "base_uri": "https://localhost:8080/",
          "height": 35
        },
        "id": "QyBr6QlnBA4X",
        "outputId": "e2daaa67-4512-4a57-ec5e-d24331c1c73d"
      },
      "source": [
        "# target sentence for finding similar senences\n",
        "target_sentence = sentence_df.loc[sentence_df['id']=='7-21-440','text']\n",
        "target_sentence.values[0]"
      ],
      "execution_count": 4,
      "outputs": [
        {
          "output_type": "execute_result",
          "data": {
            "application/vnd.google.colaboratory.intrinsic+json": {
              "type": "string"
            },
            "text/plain": [
              "'Ifølge Dansk Kennelklub angriber muskelhunde dyr og mennesker cirka hver 14. dag.'"
            ]
          },
          "metadata": {
            "tags": []
          },
          "execution_count": 4
        }
      ]
    },
    {
      "cell_type": "markdown",
      "metadata": {
        "id": "RGe9Rt8JBA4Y"
      },
      "source": [
        "English translation for this sentence - __According to the Danish Kennel Club, muscular dogs attack animals and humans approximately every 14 days.__"
      ]
    },
    {
      "cell_type": "markdown",
      "metadata": {
        "id": "TY11MG2dBA4Y"
      },
      "source": [
        "## Option 1: Toenization > cleaning > Count vectorizer / TF-IDF vectorizer > Similarity"
      ]
    },
    {
      "cell_type": "code",
      "metadata": {
        "colab": {
          "base_uri": "https://localhost:8080/"
        },
        "id": "UDpY5OCmaueb",
        "outputId": "ccc0010a-6cbe-4cde-b5b0-4bbc3d7b18bf"
      },
      "source": [
        "!pip install clean-text"
      ],
      "execution_count": 7,
      "outputs": [
        {
          "output_type": "stream",
          "text": [
            "Collecting clean-text\n",
            "  Downloading https://files.pythonhosted.org/packages/78/30/7013e9bf37e00ad81406c771e8f5b071c624b8ab27a7984cd9b8434bed4f/clean_text-0.3.0-py3-none-any.whl\n",
            "Collecting emoji\n",
            "\u001b[?25l  Downloading https://files.pythonhosted.org/packages/24/fa/b3368f41b95a286f8d300e323449ab4e86b85334c2e0b477e94422b8ed0f/emoji-1.2.0-py3-none-any.whl (131kB)\n",
            "\u001b[K     |████████████████████████████████| 133kB 4.9MB/s \n",
            "\u001b[?25hCollecting ftfy<6.0,>=5.8\n",
            "\u001b[?25l  Downloading https://files.pythonhosted.org/packages/ff/e2/3b51c53dffb1e52d9210ebc01f1fb9f2f6eba9b3201fa971fd3946643c71/ftfy-5.8.tar.gz (64kB)\n",
            "\u001b[K     |████████████████████████████████| 71kB 4.9MB/s \n",
            "\u001b[?25hRequirement already satisfied: wcwidth in /usr/local/lib/python3.6/dist-packages (from ftfy<6.0,>=5.8->clean-text) (0.2.5)\n",
            "Building wheels for collected packages: ftfy\n",
            "  Building wheel for ftfy (setup.py) ... \u001b[?25l\u001b[?25hdone\n",
            "  Created wheel for ftfy: filename=ftfy-5.8-cp36-none-any.whl size=45613 sha256=f9b688f9c8806d29db57f523a085af4e05265f85909003268bf24cc8bb3f0f5a\n",
            "  Stored in directory: /root/.cache/pip/wheels/ba/c0/ef/f28c4da5ac84a4e06ac256ca9182fc34fa57fefffdbc68425b\n",
            "Successfully built ftfy\n",
            "Installing collected packages: emoji, ftfy, clean-text\n",
            "Successfully installed clean-text-0.3.0 emoji-1.2.0 ftfy-5.8\n"
          ],
          "name": "stdout"
        }
      ]
    },
    {
      "cell_type": "code",
      "metadata": {
        "id": "eM8wwm3uBA4Z",
        "colab": {
          "base_uri": "https://localhost:8080/"
        },
        "outputId": "64866338-f157-4e5b-a343-76585450a16b"
      },
      "source": [
        "import nltk\n",
        "from nltk.corpus import stopwords\n",
        "from sklearn.feature_extraction.text import CountVectorizer, TfidfVectorizer\n",
        "from nltk.stem.snowball import DanishStemmer\n",
        "\n",
        "\n",
        "from cleantext import clean"
      ],
      "execution_count": 8,
      "outputs": [
        {
          "output_type": "stream",
          "text": [
            "Since the GPL-licensed package `unidecode` is not installed, using Python's `unicodedata` package which yields worse results.\n"
          ],
          "name": "stderr"
        }
      ]
    },
    {
      "cell_type": "code",
      "metadata": {
        "colab": {
          "base_uri": "https://localhost:8080/"
        },
        "id": "tuVzlZRXmp7b",
        "outputId": "8e30f854-1396-4226-977c-e39453ed2458"
      },
      "source": [
        "# nltk.download('punkt')\r\n",
        "# nltk.download('stopwords')"
      ],
      "execution_count": 10,
      "outputs": [
        {
          "output_type": "stream",
          "text": [
            "[nltk_data] Downloading package punkt to /root/nltk_data...\n",
            "[nltk_data]   Unzipping tokenizers/punkt.zip.\n",
            "[nltk_data] Downloading package stopwords to /root/nltk_data...\n",
            "[nltk_data]   Unzipping corpora/stopwords.zip.\n"
          ],
          "name": "stdout"
        },
        {
          "output_type": "execute_result",
          "data": {
            "text/plain": [
              "True"
            ]
          },
          "metadata": {
            "tags": []
          },
          "execution_count": 10
        }
      ]
    },
    {
      "cell_type": "code",
      "metadata": {
        "colab": {
          "base_uri": "https://localhost:8080/",
          "height": 35
        },
        "id": "uQId98B1BA4Z",
        "outputId": "c8d63ac3-1586-4b26-e34e-01165f1538d1"
      },
      "source": [
        "# tokenization function with Danish language Stemmer\n",
        "def tokenize(text):\n",
        "    tokens = nltk.word_tokenize(text)\n",
        "    stems = []\n",
        "    for item in tokens:\n",
        "        stems.append(DanishStemmer().stem(item))\n",
        "    return stems\n",
        "\n",
        "# clean text by lowering abd removing email, number, url, currency, punctuation, \n",
        "def normalize_text(text):\n",
        "    return clean(text,\n",
        "     no_urls=True,                  # replace all URLs with a special token\n",
        "    no_emails=True,                # replace all email addresses with a special token\n",
        "    no_phone_numbers=True,         # replace all phone numbers with a special token\n",
        "    no_numbers=True,               # replace all numbers with a special token\n",
        "    no_digits=True,                # replace all digits with a special token\n",
        "    no_currency_symbols=True,      # replace all currency symbols with a special token\n",
        "    no_punct=True,\n",
        "    replace_with_punct=\"\",          # instead of removing punctuations you may replace them\n",
        "    replace_with_url=\"\",\n",
        "    replace_with_email=\"\",\n",
        "    replace_with_phone_number=\"\",\n",
        "    replace_with_number=\"\",\n",
        "    replace_with_currency_symbol=\"\",\n",
        "#     replace_with_punct=\" ~PUNCT~ \",          # instead of removing punctuations you may replace them\n",
        "#     replace_with_url=\" ~URL~ \",\n",
        "#     replace_with_email=\" ~EMAIL~ \",\n",
        "#     replace_with_phone_number=\" ~PHONE~ \",\n",
        "#     replace_with_number=\" ~NUMBER~ \",\n",
        "#     replace_with_currency_symbol=\" ~CUR~ \",\n",
        "    lang=\"de\") # german is used as assumed that german would be closeer to Danish that english\n",
        "\n",
        "# sample output for the target text\n",
        "tokenize(normalize_text(target_sentence.values[0]))\n",
        "#normalize_text(target_sentence.values[0])"
      ],
      "execution_count": 35,
      "outputs": [
        {
          "output_type": "execute_result",
          "data": {
            "application/vnd.google.colaboratory.intrinsic+json": {
              "type": "string"
            },
            "text/plain": [
              "'iflge dansk kennelklub angriber muskelhunde dyr og mennesker cirka hver dag'"
            ]
          },
          "metadata": {
            "tags": []
          },
          "execution_count": 35
        }
      ]
    },
    {
      "cell_type": "code",
      "metadata": {
        "colab": {
          "base_uri": "https://localhost:8080/"
        },
        "id": "xbAAB00uBA4a",
        "outputId": "40b57b37-ce2c-41dd-a997-8b57b6ae10b4"
      },
      "source": [
        "# create a replica of the sentence dataframe for processing\n",
        "sentence_df_cp_op1 = sentence_df.copy()\n",
        "sentence_df_cp_op1 = sentence_df_cp_op1.text.apply(normalize_text)\n",
        "sentence_df_cp_op1"
      ],
      "execution_count": 12,
      "outputs": [
        {
          "output_type": "execute_result",
          "data": {
            "text/plain": [
              "0       vanddamp er en usynlig gas der forekommer i st...\n",
              "1       er der nogen herinde der har erfaring med at k...\n",
              "2              ved ikke lige hvordan disse er i strrelsen\n",
              "3                       dog kan jeg godt lide pang farver\n",
              "4       pengene bliver dog ofte frst udbetalt efter da...\n",
              "                              ...                        \n",
              "4995    i dag i idrt skulle vi sa have bip test hvor j...\n",
              "4996    p men tnkt nu hvis de bragte mere fra danskspr...\n",
              "4997                             kathani hejsa allesammen\n",
              "4998    weeeeeee jeg har mega optur pa de var begge mi...\n",
              "4999    archon der blev jo ikke sagt noget om hvem der...\n",
              "Name: text, Length: 5000, dtype: object"
            ]
          },
          "metadata": {
            "tags": []
          },
          "execution_count": 12
        }
      ]
    },
    {
      "cell_type": "markdown",
      "metadata": {
        "id": "WkFJg4kaBA4b"
      },
      "source": [
        "### Cosine similarity on count vectorizer"
      ]
    },
    {
      "cell_type": "code",
      "metadata": {
        "id": "3tkIEt8yCd65"
      },
      "source": [
        "stopwords_da = stopwords.words('danish')\r\n",
        "stopwords_da.append('dag')\r\n",
        "stopwords_da.append('cirka')\r\n",
        "stopwords_da.append('hver')\r\n",
        "stopwords_da.append('iflge')\r\n",
        "stopwords_da.append('dansk')"
      ],
      "execution_count": 36,
      "outputs": []
    },
    {
      "cell_type": "code",
      "metadata": {
        "id": "9Vz9dCbIBA4b",
        "colab": {
          "base_uri": "https://localhost:8080/"
        },
        "outputId": "1bbd0296-d8b3-4311-fed6-0494f28968fb"
      },
      "source": [
        "# fit count vectorizer with Danish stop words\n",
        "# use the custom tokenizer with Danish Stemmer\n",
        "count_vect = CountVectorizer(tokenizer=tokenize, stop_words=stopwords_da)\n",
        "# fit on cleaned text\n",
        "count_vect_matrix = count_vect.fit_transform(sentence_df_cp_op1)\n",
        "# vocab sze 13574\n",
        "count_vect_matrix.shape"
      ],
      "execution_count": 37,
      "outputs": [
        {
          "output_type": "stream",
          "text": [
            "/usr/local/lib/python3.6/dist-packages/sklearn/feature_extraction/text.py:385: UserWarning: Your stop_words may be inconsistent with your preprocessing. Tokenizing the stop words generated tokens ['all', 'and', 'bliv', 'dis', 'eft', 'ell', 'hav', 'havd', 'hend', 'iflg', 'ikk', 'kun', 'mang', 'meg', 'nog', 'nogl', 'skul', 'und', 'vær'] not in stop_words.\n",
            "  'stop_words.' % sorted(inconsistent))\n"
          ],
          "name": "stderr"
        },
        {
          "output_type": "execute_result",
          "data": {
            "text/plain": [
              "(5000, 13570)"
            ]
          },
          "metadata": {
            "tags": []
          },
          "execution_count": 37
        }
      ]
    },
    {
      "cell_type": "code",
      "metadata": {
        "id": "paR8bIPhBA4c"
      },
      "source": [
        "# find cosine similarity for the count vector matrix\n",
        "cosine_matrix_cv = cosine_similarity(count_vect_matrix)"
      ],
      "execution_count": 38,
      "outputs": []
    },
    {
      "cell_type": "code",
      "metadata": {
        "id": "vWL5GTs5BA4c"
      },
      "source": [
        "# convert to Data Frame\n",
        "cosine_df_cv = pd.DataFrame(cosine_matrix_cv, columns = sentence_df['id'], index = sentence_df['id'])"
      ],
      "execution_count": 39,
      "outputs": []
    },
    {
      "cell_type": "code",
      "metadata": {
        "id": "gC-BEQFABA4c",
        "colab": {
          "base_uri": "https://localhost:8080/"
        },
        "outputId": "09e75379-baf2-4070-8c96-734b626bc69c"
      },
      "source": [
        "# select the row for target sentence\n",
        "target_cosine_array = cosine_df_cv.loc['7-21-440',:]\n",
        "# sort descending\n",
        "target_cosine_array.sort_values(ascending = False)[:10]"
      ],
      "execution_count": 40,
      "outputs": [
        {
          "output_type": "execute_result",
          "data": {
            "text/plain": [
              "id\n",
              "7-21-440      1.000000\n",
              "45-86-368     0.288675\n",
              "34-2-723      0.235702\n",
              "40-81-2158    0.218218\n",
              "36-90-2811    0.204124\n",
              "35-72-306     0.204124\n",
              "51-3-3235     0.198030\n",
              "6-37-308      0.198030\n",
              "28-58-176     0.192450\n",
              "42-96-175     0.182574\n",
              "Name: 7-21-440, dtype: float64"
            ]
          },
          "metadata": {
            "tags": []
          },
          "execution_count": 40
        }
      ]
    },
    {
      "cell_type": "code",
      "metadata": {
        "id": "fwWdFZZrBA4d"
      },
      "source": [
        "# gather indices for top 10 similar sentences\n",
        "top_10_similarity = target_cosine_array.sort_values(ascending = False)[:10].index.tolist()"
      ],
      "execution_count": 41,
      "outputs": []
    },
    {
      "cell_type": "code",
      "metadata": {
        "id": "JKZJY0dbBA4d",
        "colab": {
          "base_uri": "https://localhost:8080/",
          "height": 35
        },
        "outputId": "e850d15f-eef6-4793-89ab-dcc9cbd890f1"
      },
      "source": [
        "sentence_df.loc[sentence_df.id == top_10_similarity[1],'text'].values[0]"
      ],
      "execution_count": 42,
      "outputs": [
        {
          "output_type": "execute_result",
          "data": {
            "application/vnd.google.colaboratory.intrinsic+json": {
              "type": "string"
            },
            "text/plain": [
              "'Hvad er dyrets yndlingsfoder?'"
            ]
          },
          "metadata": {
            "tags": []
          },
          "execution_count": 42
        }
      ]
    },
    {
      "cell_type": "code",
      "metadata": {
        "id": "RGY6rWLuBA4e",
        "colab": {
          "base_uri": "https://localhost:8080/",
          "height": 35
        },
        "outputId": "5df1710f-43fc-4c5c-f632-7651e0eed591"
      },
      "source": [
        "sentence_df.loc[sentence_df.id == top_10_similarity[2],'text'].values[0]"
      ],
      "execution_count": 43,
      "outputs": [
        {
          "output_type": "execute_result",
          "data": {
            "application/vnd.google.colaboratory.intrinsic+json": {
              "type": "string"
            },
            "text/plain": [
              "'Hvad er det dog, vi mennesker gør ved dig?'"
            ]
          },
          "metadata": {
            "tags": []
          },
          "execution_count": 43
        }
      ]
    },
    {
      "cell_type": "code",
      "metadata": {
        "id": "DFNa9TNNBA4e",
        "colab": {
          "base_uri": "https://localhost:8080/",
          "height": 35
        },
        "outputId": "38d516a5-f68a-4c01-c8a4-a212666ea2ea"
      },
      "source": [
        "sentence_df.loc[sentence_df.id == top_10_similarity[3],'text'].values[0]"
      ],
      "execution_count": 44,
      "outputs": [
        {
          "output_type": "execute_result",
          "data": {
            "application/vnd.google.colaboratory.intrinsic+json": {
              "type": "string"
            },
            "text/plain": [
              "'Ifølge Henning Otte Hansen må forbrugerne herhjemme nu nok under alle omstændigheder affinde sig med, at maden er relativt dyr:'"
            ]
          },
          "metadata": {
            "tags": []
          },
          "execution_count": 44
        }
      ]
    },
    {
      "cell_type": "code",
      "metadata": {
        "id": "V7OL-OeHBA4e",
        "colab": {
          "base_uri": "https://localhost:8080/",
          "height": 35
        },
        "outputId": "a236fc22-50e9-41ef-83f9-686c87d7e853"
      },
      "source": [
        "sentence_df.loc[sentence_df.id == top_10_similarity[4],'text'].values[0]"
      ],
      "execution_count": 45,
      "outputs": [
        {
          "output_type": "execute_result",
          "data": {
            "application/vnd.google.colaboratory.intrinsic+json": {
              "type": "string"
            },
            "text/plain": [
              "'De seneste 10 år har der ifølge Søfartsstyrelsen'"
            ]
          },
          "metadata": {
            "tags": []
          },
          "execution_count": 45
        }
      ]
    },
    {
      "cell_type": "code",
      "metadata": {
        "id": "qa-7A0Q9BA4f",
        "colab": {
          "base_uri": "https://localhost:8080/",
          "height": 35
        },
        "outputId": "a65ed71e-2b73-4061-e0b5-357d6d8acc75"
      },
      "source": [
        "sentence_df.loc[sentence_df.id == top_10_similarity[5],'text'].values[0]"
      ],
      "execution_count": 46,
      "outputs": [
        {
          "output_type": "execute_result",
          "data": {
            "application/vnd.google.colaboratory.intrinsic+json": {
              "type": "string"
            },
            "text/plain": [
              "'I livet indførte mennesket som hjerne'"
            ]
          },
          "metadata": {
            "tags": []
          },
          "execution_count": 46
        }
      ]
    },
    {
      "cell_type": "markdown",
      "metadata": {
        "id": "uWd3V9NpBA4f"
      },
      "source": [
        "### Cosine similarity on TF-IDF vectorizer"
      ]
    },
    {
      "cell_type": "code",
      "metadata": {
        "id": "WJtrTtX4BA4f",
        "colab": {
          "base_uri": "https://localhost:8080/"
        },
        "outputId": "08be398f-4b18-4c26-a933-9ffacaf49396"
      },
      "source": [
        "# fit tf-idf vectorizer with Danish stop words\n",
        "# use the custom tokenizer with Danish Stemmer\n",
        "tfidf_vect = TfidfVectorizer(tokenizer=tokenize, stop_words=stopwords_da)\n",
        "# fit on cleaned text\n",
        "tfidf_vect_matrix = tfidf_vect.fit_transform(sentence_df_cp_op1)\n",
        "tfidf_vect_matrix.shape"
      ],
      "execution_count": null,
      "outputs": [
        {
          "output_type": "stream",
          "text": [
            "/usr/local/lib/python3.6/dist-packages/sklearn/feature_extraction/text.py:385: UserWarning: Your stop_words may be inconsistent with your preprocessing. Tokenizing the stop words generated tokens ['all', 'and', 'bliv', 'dis', 'eft', 'ell', 'hav', 'havd', 'hend', 'ifølg', 'ikk', 'kun', 'mang', 'meg', 'nog', 'nogl', 'skul', 'und', 'vær'] not in stop_words.\n",
            "  'stop_words.' % sorted(inconsistent))\n"
          ],
          "name": "stderr"
        },
        {
          "output_type": "execute_result",
          "data": {
            "text/plain": [
              "(5000, 13571)"
            ]
          },
          "metadata": {
            "tags": []
          },
          "execution_count": 99
        }
      ]
    },
    {
      "cell_type": "code",
      "metadata": {
        "id": "4kI114NJBA4g"
      },
      "source": [
        "# pairwise cosine similarity for tf-idf vector matrix\n",
        "cosine_matrix_ti = cosine_similarity(tfidf_vect_matrix)"
      ],
      "execution_count": null,
      "outputs": []
    },
    {
      "cell_type": "code",
      "metadata": {
        "id": "FNmyVxtfBA4i"
      },
      "source": [
        "# convert to DF\n",
        "cosine_df_ti = pd.DataFrame(cosine_matrix_ti, columns = sentence_df['id'], index = sentence_df['id'])"
      ],
      "execution_count": null,
      "outputs": []
    },
    {
      "cell_type": "code",
      "metadata": {
        "id": "0xzUG-CQBA4j",
        "colab": {
          "base_uri": "https://localhost:8080/"
        },
        "outputId": "adc9220f-27eb-463e-8201-15422241aba4"
      },
      "source": [
        "# select row for target sentence\n",
        "target_cosine_array = cosine_df_ti.loc['7-21-440',:]\n",
        "# sort descending\n",
        "target_cosine_array.sort_values(ascending = False)[:10]"
      ],
      "execution_count": null,
      "outputs": [
        {
          "output_type": "execute_result",
          "data": {
            "text/plain": [
              "id\n",
              "7-21-440      1.000000\n",
              "45-86-368     0.205748\n",
              "38-78-1469    0.191179\n",
              "34-2-723      0.190701\n",
              "40-81-2158    0.176440\n",
              "51-3-3235     0.170464\n",
              "36-90-2811    0.167261\n",
              "28-58-176     0.166315\n",
              "38-92-376     0.160373\n",
              "51-34-3098    0.154647\n",
              "Name: 7-21-440, dtype: float64"
            ]
          },
          "metadata": {
            "tags": []
          },
          "execution_count": 102
        }
      ]
    },
    {
      "cell_type": "code",
      "metadata": {
        "id": "G7Rrsh0DBA4j"
      },
      "source": [
        "# Indices for top 10 similr sentences\n",
        "top_10_similarity = target_cosine_array.sort_values(ascending = False)[:10].index.tolist()"
      ],
      "execution_count": null,
      "outputs": []
    },
    {
      "cell_type": "code",
      "metadata": {
        "id": "9yS0zRgBBA4j",
        "colab": {
          "base_uri": "https://localhost:8080/",
          "height": 35
        },
        "outputId": "8237e464-ba95-47f1-850e-ced5f21df05e"
      },
      "source": [
        "sentence_df.loc[sentence_df.id == top_10_similarity[1],'text'].values[0]"
      ],
      "execution_count": null,
      "outputs": [
        {
          "output_type": "execute_result",
          "data": {
            "application/vnd.google.colaboratory.intrinsic+json": {
              "type": "string"
            },
            "text/plain": [
              "'Hvad er dyrets yndlingsfoder?'"
            ]
          },
          "metadata": {
            "tags": []
          },
          "execution_count": 104
        }
      ]
    },
    {
      "cell_type": "code",
      "metadata": {
        "id": "toXHMiRhBA4k",
        "colab": {
          "base_uri": "https://localhost:8080/",
          "height": 35
        },
        "outputId": "446234c3-7d86-4b67-a661-2cbaca146f5e"
      },
      "source": [
        "sentence_df.loc[sentence_df.id == top_10_similarity[2],'text'].values[0]"
      ],
      "execution_count": null,
      "outputs": [
        {
          "output_type": "execute_result",
          "data": {
            "application/vnd.google.colaboratory.intrinsic+json": {
              "type": "string"
            },
            "text/plain": [
              "'Men det fik ikke den farlige angriber til at skåne City.'"
            ]
          },
          "metadata": {
            "tags": []
          },
          "execution_count": 105
        }
      ]
    },
    {
      "cell_type": "code",
      "metadata": {
        "id": "OYvvzkXLBA4l",
        "colab": {
          "base_uri": "https://localhost:8080/",
          "height": 35
        },
        "outputId": "79c316ab-a800-46a2-cbd0-5f95d7727e11"
      },
      "source": [
        "sentence_df.loc[sentence_df.id == top_10_similarity[3],'text'].values[0]"
      ],
      "execution_count": null,
      "outputs": [
        {
          "output_type": "execute_result",
          "data": {
            "application/vnd.google.colaboratory.intrinsic+json": {
              "type": "string"
            },
            "text/plain": [
              "'Hvad er det dog, vi mennesker gør ved dig?'"
            ]
          },
          "metadata": {
            "tags": []
          },
          "execution_count": 106
        }
      ]
    },
    {
      "cell_type": "code",
      "metadata": {
        "id": "EaYOzsNWBA4l",
        "colab": {
          "base_uri": "https://localhost:8080/",
          "height": 35
        },
        "outputId": "34c5f496-5b65-4d18-95a4-7e5909fad154"
      },
      "source": [
        "sentence_df.loc[sentence_df.id == top_10_similarity[4],'text'].values[0]"
      ],
      "execution_count": null,
      "outputs": [
        {
          "output_type": "execute_result",
          "data": {
            "application/vnd.google.colaboratory.intrinsic+json": {
              "type": "string"
            },
            "text/plain": [
              "'Ifølge Henning Otte Hansen må forbrugerne herhjemme nu nok under alle omstændigheder affinde sig med, at maden er relativt dyr:'"
            ]
          },
          "metadata": {
            "tags": []
          },
          "execution_count": 107
        }
      ]
    },
    {
      "cell_type": "code",
      "metadata": {
        "id": "iIWROOGkBA4m",
        "colab": {
          "base_uri": "https://localhost:8080/",
          "height": 35
        },
        "outputId": "b959f6e9-3e3b-4c8c-b507-fd9bfac95ca3"
      },
      "source": [
        "sentence_df.loc[sentence_df.id == top_10_similarity[5],'text'].values[0]"
      ],
      "execution_count": null,
      "outputs": [
        {
          "output_type": "execute_result",
          "data": {
            "application/vnd.google.colaboratory.intrinsic+json": {
              "type": "string"
            },
            "text/plain": [
              "'Men indtil nu er alle teorierne kommet mere eller mindre til kort, da man hele tiden kan finde dyr, der har noget, der ligner menneskelige egenskaber.'"
            ]
          },
          "metadata": {
            "tags": []
          },
          "execution_count": 108
        }
      ]
    },
    {
      "cell_type": "markdown",
      "metadata": {
        "id": "Ysev0_7BBA4n"
      },
      "source": [
        "## Option 2: spaCy word embedding vector for sentence similarity"
      ]
    },
    {
      "cell_type": "code",
      "metadata": {
        "id": "StexwZIxBA4n"
      },
      "source": [
        "import spacy"
      ],
      "execution_count": null,
      "outputs": []
    },
    {
      "cell_type": "code",
      "metadata": {
        "id": "a33Q9tO1BA4n"
      },
      "source": [
        "# load a spaCy model, depending on language, scale, etc.\n",
        "nlp = spacy.load(\"da_core_news_md\")"
      ],
      "execution_count": null,
      "outputs": []
    },
    {
      "cell_type": "code",
      "metadata": {
        "id": "0Rc_GSf1BA4o",
        "outputId": "e5352762-d8eb-4cd1-d18a-fce4be1b0dcb"
      },
      "source": [
        "# create replica for cleaned text df from last section\n",
        "sentence_df_cp_op2 = sentence_df_cp_op1.copy()\n",
        "sentence_df_cp_op2 = pd.DataFrame(sentence_df_cp_op2.values, columns = ['text'], index = sentence_df['id'])\n",
        "sentence_df_cp_op2.head() "
      ],
      "execution_count": null,
      "outputs": [
        {
          "output_type": "execute_result",
          "data": {
            "text/html": [
              "<div>\n",
              "<style scoped>\n",
              "    .dataframe tbody tr th:only-of-type {\n",
              "        vertical-align: middle;\n",
              "    }\n",
              "\n",
              "    .dataframe tbody tr th {\n",
              "        vertical-align: top;\n",
              "    }\n",
              "\n",
              "    .dataframe thead th {\n",
              "        text-align: right;\n",
              "    }\n",
              "</style>\n",
              "<table border=\"1\" class=\"dataframe\">\n",
              "  <thead>\n",
              "    <tr style=\"text-align: right;\">\n",
              "      <th></th>\n",
              "      <th>text</th>\n",
              "    </tr>\n",
              "    <tr>\n",
              "      <th>id</th>\n",
              "      <th></th>\n",
              "    </tr>\n",
              "  </thead>\n",
              "  <tbody>\n",
              "    <tr>\n",
              "      <th>10-12-176</th>\n",
              "      <td>vanddamp er en usynlig gas der forekommer i st...</td>\n",
              "    </tr>\n",
              "    <tr>\n",
              "      <th>10-13-182</th>\n",
              "      <td>er der nogen herinde der har erfaring med at k...</td>\n",
              "    </tr>\n",
              "    <tr>\n",
              "      <th>10-14-29</th>\n",
              "      <td>ved ikke lige hvordan disse er i strrelsen</td>\n",
              "    </tr>\n",
              "    <tr>\n",
              "      <th>10-16-39</th>\n",
              "      <td>dog kan jeg godt lide pang farver</td>\n",
              "    </tr>\n",
              "    <tr>\n",
              "      <th>10-17-297</th>\n",
              "      <td>pengene bliver dog ofte frst udbetalt efter da...</td>\n",
              "    </tr>\n",
              "  </tbody>\n",
              "</table>\n",
              "</div>"
            ],
            "text/plain": [
              "                                                        text\n",
              "id                                                          \n",
              "10-12-176  vanddamp er en usynlig gas der forekommer i st...\n",
              "10-13-182  er der nogen herinde der har erfaring med at k...\n",
              "10-14-29          ved ikke lige hvordan disse er i strrelsen\n",
              "10-16-39                   dog kan jeg godt lide pang farver\n",
              "10-17-297  pengene bliver dog ofte frst udbetalt efter da..."
            ]
          },
          "metadata": {
            "tags": []
          },
          "execution_count": 15
        }
      ]
    },
    {
      "cell_type": "code",
      "metadata": {
        "id": "S_ShmAA9BA4o"
      },
      "source": [
        "# nlp pipeline for target sentence\n",
        "base = nlp(sentence_df_cp_op2.loc['7-21-440',:].values[0])"
      ],
      "execution_count": null,
      "outputs": []
    },
    {
      "cell_type": "code",
      "metadata": {
        "id": "ZqBE338WBA4p"
      },
      "source": [
        "# custom function for similarity scoring between 2 sentences\n",
        "def calculate_similarity(text2):\n",
        "    compare = nlp(text2)\n",
        "    return base.similarity(compare)"
      ],
      "execution_count": null,
      "outputs": []
    },
    {
      "cell_type": "code",
      "metadata": {
        "id": "MRUP3q9QBA4q",
        "outputId": "683526ec-2970-4702-b530-7201d3c2533c"
      },
      "source": [
        "# apply on each row\n",
        "sentence_df_cp_op2['sim_score'] = sentence_df_cp_op2['text'].apply(calculate_similarity)"
      ],
      "execution_count": null,
      "outputs": [
        {
          "output_type": "stream",
          "text": [
            "D:\\Anaconda\\envs\\danish_nlp\\lib\\site-packages\\ipykernel_launcher.py:3: UserWarning: [W008] Evaluating Doc.similarity based on empty vectors.\n",
            "  This is separate from the ipykernel package so we can avoid doing imports until\n"
          ],
          "name": "stderr"
        }
      ]
    },
    {
      "cell_type": "code",
      "metadata": {
        "id": "a8PbIuCXBA4q"
      },
      "source": [
        "# sort descending\n",
        "sentence_df_cp_op2.sort_values(by = ['sim_score'], ascending = False, inplace = True)"
      ],
      "execution_count": null,
      "outputs": []
    },
    {
      "cell_type": "code",
      "metadata": {
        "id": "ucsOu4pmBA4r"
      },
      "source": [
        "# top 10 similar sentences, index 0 being the sentence itself\n",
        "top_10 = sentence_df_cp_op2.iloc[:10,:]['text']"
      ],
      "execution_count": null,
      "outputs": []
    },
    {
      "cell_type": "code",
      "metadata": {
        "id": "PG2sXooBBA4r",
        "outputId": "8e5a2b71-7a36-47d5-f5f9-3704348a49e5"
      },
      "source": [
        "top_10[1]"
      ],
      "execution_count": null,
      "outputs": [
        {
          "output_type": "execute_result",
          "data": {
            "text/plain": [
              "'nar man kommer slbende med vrkende kn og ildrd nse efter timers vandring gr det godt at stte sig til bordet sammen med de andre gster og bliver krset for i en fransk bjerghytte'"
            ]
          },
          "metadata": {
            "tags": []
          },
          "execution_count": 39
        }
      ]
    },
    {
      "cell_type": "code",
      "metadata": {
        "id": "sZqE-yMCBA4s",
        "outputId": "03c23db9-b677-4383-c026-ed877226fdf9"
      },
      "source": [
        "top_10[2]"
      ],
      "execution_count": null,
      "outputs": [
        {
          "output_type": "execute_result",
          "data": {
            "text/plain": [
              "'stadig flere danskere fatter interesse for den kontante sportsgren hvor veltrnede mnd pa langt over kilo kaster sig efter hinanden'"
            ]
          },
          "metadata": {
            "tags": []
          },
          "execution_count": 34
        }
      ]
    },
    {
      "cell_type": "code",
      "metadata": {
        "id": "BbtNlMXYBA4s",
        "outputId": "2fd33028-3e46-4bce-e1af-c997043f6687"
      },
      "source": [
        "top_10[3]"
      ],
      "execution_count": null,
      "outputs": [
        {
          "output_type": "execute_result",
          "data": {
            "text/plain": [
              "'det tager i hvert fald en hel dag at overvre indmarchen af de snorlige rkker af musketerer farverige flagkastere grnne skytter krigere med armbrster byens skyttedronning og de forskellige madvogne som helt bogstaveligt smider brd og plser i hovedet pa publikum'"
            ]
          },
          "metadata": {
            "tags": []
          },
          "execution_count": 35
        }
      ]
    },
    {
      "cell_type": "code",
      "metadata": {
        "id": "kX_cFgBgBA4t",
        "outputId": "b25eac5e-4256-47fa-b434-4541ae727951"
      },
      "source": [
        "top_10[4]"
      ],
      "execution_count": null,
      "outputs": [
        {
          "output_type": "execute_result",
          "data": {
            "text/plain": [
              "'og nok stter to unge mnd sig pa fortovscafeen og far en kop kaffe og taler arabisk men det er cafe latte de taler ogsa dansk og de har parkeret en stor kassevogn foran cafeen'"
            ]
          },
          "metadata": {
            "tags": []
          },
          "execution_count": 36
        }
      ]
    },
    {
      "cell_type": "code",
      "metadata": {
        "id": "8LgxUdRMBA4t",
        "outputId": "ca627d81-4823-496a-9847-98e79cddc037"
      },
      "source": [
        "top_10[5]"
      ],
      "execution_count": null,
      "outputs": [
        {
          "output_type": "execute_result",
          "data": {
            "text/plain": [
              "'hver lrdag klokken mdes en gruppe kinesiske forldre og deres brn i little mermaid chinese culture school der startede som et privat initiativ i mens forldrene sludrer og dyrker tai chi far brnene undervisning i kinesisk sprog og kultur i de lante klasselokaler'"
            ]
          },
          "metadata": {
            "tags": []
          },
          "execution_count": 37
        }
      ]
    },
    {
      "cell_type": "markdown",
      "metadata": {
        "id": "M5AoVaCJBA4u"
      },
      "source": [
        "## Option 3: BERT embedding for Danish > Similarity"
      ]
    },
    {
      "cell_type": "code",
      "metadata": {
        "id": "5EYsrBA5BA4u"
      },
      "source": [
        "# BERT based sentence embedding for Danish\n",
        "from danish_bert_embeddings import DanishBertEmbeddings\n",
        "embedder = DanishBertEmbeddings()"
      ],
      "execution_count": null,
      "outputs": []
    },
    {
      "cell_type": "code",
      "metadata": {
        "id": "MQpG4CPeBA4u"
      },
      "source": [
        "# sample embedding\n",
        "embedding = embedder.embed(target_sentence.values[0])"
      ],
      "execution_count": null,
      "outputs": []
    },
    {
      "cell_type": "code",
      "metadata": {
        "id": "3ve3WJgBBA4v",
        "outputId": "826cf76b-e5a5-4c5c-efb2-de49a8a9239a"
      },
      "source": [
        "embedding.shape"
      ],
      "execution_count": null,
      "outputs": [
        {
          "output_type": "execute_result",
          "data": {
            "text/plain": [
              "torch.Size([768])"
            ]
          },
          "metadata": {
            "tags": []
          },
          "execution_count": 12
        }
      ]
    },
    {
      "cell_type": "code",
      "metadata": {
        "id": "clmi4KzVBA4v"
      },
      "source": [
        "# convert to embedding for each sentence\n",
        "sentence_df_embed = sentence_df['text'].apply(embedder.embed)"
      ],
      "execution_count": null,
      "outputs": []
    },
    {
      "cell_type": "code",
      "metadata": {
        "id": "yCqVw4UoBA4v"
      },
      "source": [
        "# convert to np array\n",
        "sentence_embed_list = [t.numpy() for t in sentence_df_embed]"
      ],
      "execution_count": null,
      "outputs": []
    },
    {
      "cell_type": "markdown",
      "metadata": {
        "id": "MCraL9YdBA4w"
      },
      "source": [
        "### Cosine similarity"
      ]
    },
    {
      "cell_type": "code",
      "metadata": {
        "id": "T9n7SZYpBA4w"
      },
      "source": [
        "# pairewise cosine similarity between sentence embeddings\n",
        "cosine_matrix = cosine_similarity(sentence_embed_list)"
      ],
      "execution_count": null,
      "outputs": []
    },
    {
      "cell_type": "code",
      "metadata": {
        "id": "6Ik6b5hdBA4w"
      },
      "source": [
        "# convert to dataframe\n",
        "cosine_df = pd.DataFrame(cosine_matrix, columns = sentence_df['id'], index = sentence_df['id'])"
      ],
      "execution_count": null,
      "outputs": []
    },
    {
      "cell_type": "code",
      "metadata": {
        "id": "M5v3FuShBA4x",
        "outputId": "b5638a00-b44c-4c58-c595-4b6b6a0d2ce0"
      },
      "source": [
        "# select the row for target sentence\n",
        "target_cosine_array = cosine_df.loc['7-21-440',:]\n",
        "# sort descending\n",
        "target_cosine_array.sort_values(ascending = False)[:10]"
      ],
      "execution_count": null,
      "outputs": [
        {
          "output_type": "execute_result",
          "data": {
            "text/plain": [
              "id\n",
              "7-21-440      1.000000\n",
              "38-21-615     0.713109\n",
              "36-0-2615     0.705893\n",
              "6-37-308      0.705858\n",
              "51-3-3235     0.699858\n",
              "36-7-877      0.694900\n",
              "40-44-510     0.693219\n",
              "3-28-67       0.692790\n",
              "38-59-1673    0.692642\n",
              "51-34-3098    0.692097\n",
              "Name: 7-21-440, dtype: float32"
            ]
          },
          "metadata": {
            "tags": []
          },
          "execution_count": 52
        }
      ]
    },
    {
      "cell_type": "code",
      "metadata": {
        "id": "sw0DE2s7BA4x"
      },
      "source": [
        "# gather indices for top 10 similr sentences\n",
        "top_10_similarity = target_cosine_array.sort_values(ascending = False)[:10].index.tolist()"
      ],
      "execution_count": null,
      "outputs": []
    },
    {
      "cell_type": "code",
      "metadata": {
        "id": "XagZkf4yBA4x",
        "outputId": "1caed1af-f889-4b3b-dfe6-27baae1e1f6e"
      },
      "source": [
        "sentence_df.loc[sentence_df.id == top_10_similarity[1],'text'].values[0]"
      ],
      "execution_count": null,
      "outputs": [
        {
          "output_type": "execute_result",
          "data": {
            "text/plain": [
              "'Han er fossilekspert, og foruden at være museumsinspektør ved Geomuseum Faxe er han forsker ved Københavns Universitet:\" Over revet var der 200- 400 meter havvand, og Thoracosaurus har- akkurat som nulevende havkrokodiller- jagtet sit bytte i de øvre vandlag.'"
            ]
          },
          "metadata": {
            "tags": []
          },
          "execution_count": 61
        }
      ]
    },
    {
      "cell_type": "code",
      "metadata": {
        "id": "GuB6F9mlBA4y",
        "outputId": "cfb6ee98-1f71-4e22-9525-95e2dd7ad1a5"
      },
      "source": [
        "sentence_df.loc[sentence_df.id == top_10_similarity[2],'text'].values[0]"
      ],
      "execution_count": null,
      "outputs": [
        {
          "output_type": "execute_result",
          "data": {
            "text/plain": [
              "'På 24 timer mellem 15. og 16. april 1949 fløj 1. 398 maskiner i alt 12. 849 tons fragt ind til den isolerede storby'"
            ]
          },
          "metadata": {
            "tags": []
          },
          "execution_count": 62
        }
      ]
    },
    {
      "cell_type": "code",
      "metadata": {
        "id": "XtWb2gYPBA4y",
        "outputId": "8f27b199-10cb-4963-be1c-be48048ad4b1"
      },
      "source": [
        "sentence_df.loc[sentence_df.id == top_10_similarity[3],'text'].values[0]"
      ],
      "execution_count": null,
      "outputs": [
        {
          "output_type": "execute_result",
          "data": {
            "text/plain": [
              "'Hovedårsagen til, at Katrina blev så dyr, at skaderne blev så omfangsrige, er ganske enkelt, at der i dag bor langt flere mennesker i kystområderne end tidligere.'"
            ]
          },
          "metadata": {
            "tags": []
          },
          "execution_count": 63
        }
      ]
    },
    {
      "cell_type": "code",
      "metadata": {
        "id": "faRTVbmwBA4y",
        "outputId": "36ddd70d-d879-4981-988f-1847ff4c349e"
      },
      "source": [
        "sentence_df.loc[sentence_df.id == top_10_similarity[4],'text'].values[0]"
      ],
      "execution_count": null,
      "outputs": [
        {
          "output_type": "execute_result",
          "data": {
            "text/plain": [
              "'Men indtil nu er alle teorierne kommet mere eller mindre til kort, da man hele tiden kan finde dyr, der har noget, der ligner menneskelige egenskaber.'"
            ]
          },
          "metadata": {
            "tags": []
          },
          "execution_count": 64
        }
      ]
    },
    {
      "cell_type": "code",
      "metadata": {
        "id": "xJe-IvnbBA4z",
        "outputId": "5fcaf871-9f03-4551-ff66-beaf77d2687d"
      },
      "source": [
        "sentence_df.loc[sentence_df.id == top_10_similarity[5],'text'].values[0]"
      ],
      "execution_count": null,
      "outputs": [
        {
          "output_type": "execute_result",
          "data": {
            "text/plain": [
              "'Børshandlere er såvidt vides udstyret med samme biologiske profil som alle andre mennesker.'"
            ]
          },
          "metadata": {
            "tags": []
          },
          "execution_count": 65
        }
      ]
    },
    {
      "cell_type": "markdown",
      "metadata": {
        "id": "_-GmyRDfBA4z"
      },
      "source": [
        "## Option 4: Sub word tokenization > TF-IDF vercorization > cosine similarity"
      ]
    },
    {
      "cell_type": "code",
      "metadata": {
        "colab": {
          "base_uri": "https://localhost:8080/"
        },
        "id": "qDIroNBncaW3",
        "outputId": "0778e81b-c0db-4aa4-969f-443ccfa216bb"
      },
      "source": [
        "!pip install sentencepiece"
      ],
      "execution_count": null,
      "outputs": [
        {
          "output_type": "stream",
          "text": [
            "Collecting sentencepiece\n",
            "\u001b[?25l  Downloading https://files.pythonhosted.org/packages/14/67/e42bd1181472c95c8cda79305df848264f2a7f62740995a46945d9797b67/sentencepiece-0.1.95-cp36-cp36m-manylinux2014_x86_64.whl (1.2MB)\n",
            "\r\u001b[K     |▎                               | 10kB 13.6MB/s eta 0:00:01\r\u001b[K     |▌                               | 20kB 19.1MB/s eta 0:00:01\r\u001b[K     |▉                               | 30kB 12.6MB/s eta 0:00:01\r\u001b[K     |█                               | 40kB 10.8MB/s eta 0:00:01\r\u001b[K     |█▍                              | 51kB 6.9MB/s eta 0:00:01\r\u001b[K     |█▋                              | 61kB 7.4MB/s eta 0:00:01\r\u001b[K     |██                              | 71kB 7.9MB/s eta 0:00:01\r\u001b[K     |██▏                             | 81kB 8.4MB/s eta 0:00:01\r\u001b[K     |██▌                             | 92kB 8.0MB/s eta 0:00:01\r\u001b[K     |██▊                             | 102kB 8.5MB/s eta 0:00:01\r\u001b[K     |███                             | 112kB 8.5MB/s eta 0:00:01\r\u001b[K     |███▎                            | 122kB 8.5MB/s eta 0:00:01\r\u001b[K     |███▌                            | 133kB 8.5MB/s eta 0:00:01\r\u001b[K     |███▉                            | 143kB 8.5MB/s eta 0:00:01\r\u001b[K     |████                            | 153kB 8.5MB/s eta 0:00:01\r\u001b[K     |████▍                           | 163kB 8.5MB/s eta 0:00:01\r\u001b[K     |████▋                           | 174kB 8.5MB/s eta 0:00:01\r\u001b[K     |█████                           | 184kB 8.5MB/s eta 0:00:01\r\u001b[K     |█████▏                          | 194kB 8.5MB/s eta 0:00:01\r\u001b[K     |█████▌                          | 204kB 8.5MB/s eta 0:00:01\r\u001b[K     |█████▊                          | 215kB 8.5MB/s eta 0:00:01\r\u001b[K     |██████                          | 225kB 8.5MB/s eta 0:00:01\r\u001b[K     |██████▎                         | 235kB 8.5MB/s eta 0:00:01\r\u001b[K     |██████▌                         | 245kB 8.5MB/s eta 0:00:01\r\u001b[K     |██████▉                         | 256kB 8.5MB/s eta 0:00:01\r\u001b[K     |███████                         | 266kB 8.5MB/s eta 0:00:01\r\u001b[K     |███████▍                        | 276kB 8.5MB/s eta 0:00:01\r\u001b[K     |███████▋                        | 286kB 8.5MB/s eta 0:00:01\r\u001b[K     |████████                        | 296kB 8.5MB/s eta 0:00:01\r\u001b[K     |████████▏                       | 307kB 8.5MB/s eta 0:00:01\r\u001b[K     |████████▍                       | 317kB 8.5MB/s eta 0:00:01\r\u001b[K     |████████▊                       | 327kB 8.5MB/s eta 0:00:01\r\u001b[K     |█████████                       | 337kB 8.5MB/s eta 0:00:01\r\u001b[K     |█████████▎                      | 348kB 8.5MB/s eta 0:00:01\r\u001b[K     |█████████▌                      | 358kB 8.5MB/s eta 0:00:01\r\u001b[K     |█████████▉                      | 368kB 8.5MB/s eta 0:00:01\r\u001b[K     |██████████                      | 378kB 8.5MB/s eta 0:00:01\r\u001b[K     |██████████▍                     | 389kB 8.5MB/s eta 0:00:01\r\u001b[K     |██████████▋                     | 399kB 8.5MB/s eta 0:00:01\r\u001b[K     |███████████                     | 409kB 8.5MB/s eta 0:00:01\r\u001b[K     |███████████▏                    | 419kB 8.5MB/s eta 0:00:01\r\u001b[K     |███████████▍                    | 430kB 8.5MB/s eta 0:00:01\r\u001b[K     |███████████▊                    | 440kB 8.5MB/s eta 0:00:01\r\u001b[K     |████████████                    | 450kB 8.5MB/s eta 0:00:01\r\u001b[K     |████████████▎                   | 460kB 8.5MB/s eta 0:00:01\r\u001b[K     |████████████▌                   | 471kB 8.5MB/s eta 0:00:01\r\u001b[K     |████████████▉                   | 481kB 8.5MB/s eta 0:00:01\r\u001b[K     |█████████████                   | 491kB 8.5MB/s eta 0:00:01\r\u001b[K     |█████████████▍                  | 501kB 8.5MB/s eta 0:00:01\r\u001b[K     |█████████████▋                  | 512kB 8.5MB/s eta 0:00:01\r\u001b[K     |█████████████▉                  | 522kB 8.5MB/s eta 0:00:01\r\u001b[K     |██████████████▏                 | 532kB 8.5MB/s eta 0:00:01\r\u001b[K     |██████████████▍                 | 542kB 8.5MB/s eta 0:00:01\r\u001b[K     |██████████████▊                 | 552kB 8.5MB/s eta 0:00:01\r\u001b[K     |███████████████                 | 563kB 8.5MB/s eta 0:00:01\r\u001b[K     |███████████████▎                | 573kB 8.5MB/s eta 0:00:01\r\u001b[K     |███████████████▌                | 583kB 8.5MB/s eta 0:00:01\r\u001b[K     |███████████████▉                | 593kB 8.5MB/s eta 0:00:01\r\u001b[K     |████████████████                | 604kB 8.5MB/s eta 0:00:01\r\u001b[K     |████████████████▍               | 614kB 8.5MB/s eta 0:00:01\r\u001b[K     |████████████████▋               | 624kB 8.5MB/s eta 0:00:01\r\u001b[K     |████████████████▉               | 634kB 8.5MB/s eta 0:00:01\r\u001b[K     |█████████████████▏              | 645kB 8.5MB/s eta 0:00:01\r\u001b[K     |█████████████████▍              | 655kB 8.5MB/s eta 0:00:01\r\u001b[K     |█████████████████▊              | 665kB 8.5MB/s eta 0:00:01\r\u001b[K     |██████████████████              | 675kB 8.5MB/s eta 0:00:01\r\u001b[K     |██████████████████▎             | 686kB 8.5MB/s eta 0:00:01\r\u001b[K     |██████████████████▌             | 696kB 8.5MB/s eta 0:00:01\r\u001b[K     |██████████████████▉             | 706kB 8.5MB/s eta 0:00:01\r\u001b[K     |███████████████████             | 716kB 8.5MB/s eta 0:00:01\r\u001b[K     |███████████████████▎            | 727kB 8.5MB/s eta 0:00:01\r\u001b[K     |███████████████████▋            | 737kB 8.5MB/s eta 0:00:01\r\u001b[K     |███████████████████▉            | 747kB 8.5MB/s eta 0:00:01\r\u001b[K     |████████████████████▏           | 757kB 8.5MB/s eta 0:00:01\r\u001b[K     |████████████████████▍           | 768kB 8.5MB/s eta 0:00:01\r\u001b[K     |████████████████████▊           | 778kB 8.5MB/s eta 0:00:01\r\u001b[K     |█████████████████████           | 788kB 8.5MB/s eta 0:00:01\r\u001b[K     |█████████████████████▎          | 798kB 8.5MB/s eta 0:00:01\r\u001b[K     |█████████████████████▌          | 808kB 8.5MB/s eta 0:00:01\r\u001b[K     |█████████████████████▉          | 819kB 8.5MB/s eta 0:00:01\r\u001b[K     |██████████████████████          | 829kB 8.5MB/s eta 0:00:01\r\u001b[K     |██████████████████████▎         | 839kB 8.5MB/s eta 0:00:01\r\u001b[K     |██████████████████████▋         | 849kB 8.5MB/s eta 0:00:01\r\u001b[K     |██████████████████████▉         | 860kB 8.5MB/s eta 0:00:01\r\u001b[K     |███████████████████████▏        | 870kB 8.5MB/s eta 0:00:01\r\u001b[K     |███████████████████████▍        | 880kB 8.5MB/s eta 0:00:01\r\u001b[K     |███████████████████████▊        | 890kB 8.5MB/s eta 0:00:01\r\u001b[K     |████████████████████████        | 901kB 8.5MB/s eta 0:00:01\r\u001b[K     |████████████████████████▎       | 911kB 8.5MB/s eta 0:00:01\r\u001b[K     |████████████████████████▌       | 921kB 8.5MB/s eta 0:00:01\r\u001b[K     |████████████████████████▊       | 931kB 8.5MB/s eta 0:00:01\r\u001b[K     |█████████████████████████       | 942kB 8.5MB/s eta 0:00:01\r\u001b[K     |█████████████████████████▎      | 952kB 8.5MB/s eta 0:00:01\r\u001b[K     |█████████████████████████▋      | 962kB 8.5MB/s eta 0:00:01\r\u001b[K     |█████████████████████████▉      | 972kB 8.5MB/s eta 0:00:01\r\u001b[K     |██████████████████████████▏     | 983kB 8.5MB/s eta 0:00:01\r\u001b[K     |██████████████████████████▍     | 993kB 8.5MB/s eta 0:00:01\r\u001b[K     |██████████████████████████▊     | 1.0MB 8.5MB/s eta 0:00:01\r\u001b[K     |███████████████████████████     | 1.0MB 8.5MB/s eta 0:00:01\r\u001b[K     |███████████████████████████▎    | 1.0MB 8.5MB/s eta 0:00:01\r\u001b[K     |███████████████████████████▌    | 1.0MB 8.5MB/s eta 0:00:01\r\u001b[K     |███████████████████████████▊    | 1.0MB 8.5MB/s eta 0:00:01\r\u001b[K     |████████████████████████████    | 1.1MB 8.5MB/s eta 0:00:01\r\u001b[K     |████████████████████████████▎   | 1.1MB 8.5MB/s eta 0:00:01\r\u001b[K     |████████████████████████████▋   | 1.1MB 8.5MB/s eta 0:00:01\r\u001b[K     |████████████████████████████▉   | 1.1MB 8.5MB/s eta 0:00:01\r\u001b[K     |█████████████████████████████▏  | 1.1MB 8.5MB/s eta 0:00:01\r\u001b[K     |█████████████████████████████▍  | 1.1MB 8.5MB/s eta 0:00:01\r\u001b[K     |█████████████████████████████▊  | 1.1MB 8.5MB/s eta 0:00:01\r\u001b[K     |██████████████████████████████  | 1.1MB 8.5MB/s eta 0:00:01\r\u001b[K     |██████████████████████████████▏ | 1.1MB 8.5MB/s eta 0:00:01\r\u001b[K     |██████████████████████████████▌ | 1.1MB 8.5MB/s eta 0:00:01\r\u001b[K     |██████████████████████████████▊ | 1.2MB 8.5MB/s eta 0:00:01\r\u001b[K     |███████████████████████████████ | 1.2MB 8.5MB/s eta 0:00:01\r\u001b[K     |███████████████████████████████▎| 1.2MB 8.5MB/s eta 0:00:01\r\u001b[K     |███████████████████████████████▋| 1.2MB 8.5MB/s eta 0:00:01\r\u001b[K     |███████████████████████████████▉| 1.2MB 8.5MB/s eta 0:00:01\r\u001b[K     |████████████████████████████████| 1.2MB 8.5MB/s \n",
            "\u001b[?25hInstalling collected packages: sentencepiece\n",
            "Successfully installed sentencepiece-0.1.95\n"
          ],
          "name": "stdout"
        }
      ]
    },
    {
      "cell_type": "code",
      "metadata": {
        "id": "r3e3N2EWBA40"
      },
      "source": [
        "import sentencepiece as spm"
      ],
      "execution_count": null,
      "outputs": []
    },
    {
      "cell_type": "code",
      "metadata": {
        "id": "-Ybu5_e4BA40"
      },
      "source": [
        "# file for subword tokenization training\n",
        "sub_word_file = 'sub_word_training.txt'"
      ],
      "execution_count": null,
      "outputs": []
    },
    {
      "cell_type": "code",
      "metadata": {
        "id": "GJHdOnLnBA40"
      },
      "source": [
        "# cconsolidate all sentences in a file\n",
        "all_sentences = '\\n'.join(sentence_df['text'])\n",
        "with open(sub_word_file, 'w') as _file:\n",
        "    _file.write(all_sentences)"
      ],
      "execution_count": null,
      "outputs": []
    },
    {
      "cell_type": "code",
      "metadata": {
        "id": "Y74c8_kuBA40"
      },
      "source": [
        "# train sentencepiece model from sub_word_file and makes `m.model` and `m.vocab`\n",
        "# `m.vocab` is just a reference. not used in the segmentation.\n",
        "spm.SentencePieceTrainer.train('--input=sub_word_training.txt --model_prefix=m --vocab_size=10000')"
      ],
      "execution_count": null,
      "outputs": []
    },
    {
      "cell_type": "code",
      "metadata": {
        "colab": {
          "base_uri": "https://localhost:8080/"
        },
        "id": "bIhRMbUEBA41",
        "outputId": "e9cab9e1-d78f-4d29-ad74-460f39cf745c"
      },
      "source": [
        "# makes segmenter instance and loads the model file (m.model)\n",
        "sp = spm.SentencePieceProcessor()\n",
        "sp.load('m.model')"
      ],
      "execution_count": null,
      "outputs": [
        {
          "output_type": "execute_result",
          "data": {
            "text/plain": [
              "True"
            ]
          },
          "metadata": {
            "tags": []
          },
          "execution_count": 55
        }
      ]
    },
    {
      "cell_type": "code",
      "metadata": {
        "colab": {
          "base_uri": "https://localhost:8080/"
        },
        "id": "cmGUkviuBA41",
        "outputId": "9c7a2450-1db1-4f23-eb43-4597ff85be46"
      },
      "source": [
        "# encode: text => id\n",
        "print(sp.encode_as_pieces(target_sentence.values[0]))\n",
        "print(sp.encode_as_ids(target_sentence.values[0]))"
      ],
      "execution_count": null,
      "outputs": [
        {
          "output_type": "stream",
          "text": [
            "['▁I', 'følge', '▁Dansk', '▁Kenne', 'l', 'klub', '▁angriber', '▁mu', 'skel', 'hund', 'e', '▁dyr', '▁og', '▁mennesker', '▁cirk', 'a', '▁hver', '▁14', '.', '▁dag', '.']\n",
            "[52, 458, 360, 3112, 185, 2736, 3224, 2246, 4454, 3534, 11, 1032, 7, 332, 1330, 66, 149, 511, 4, 121, 4]\n"
          ],
          "name": "stdout"
        }
      ]
    },
    {
      "cell_type": "markdown",
      "metadata": {
        "id": "mEOKPzJPBA44"
      },
      "source": [
        "### Cosine similarity on TF-IDF vectorizer"
      ]
    },
    {
      "cell_type": "code",
      "metadata": {
        "colab": {
          "base_uri": "https://localhost:8080/"
        },
        "id": "K3p-B5rDBA44",
        "outputId": "a97b9f13-8d0c-4a5f-d193-e956958e1c8b"
      },
      "source": [
        "# fit TF-IDF vectorizer without Danish stop words\n",
        "# use the sub word tokenizer with Danish Stemmer\n",
        "tfidf_vect_sw = TfidfVectorizer(tokenizer=sp.encode_as_ids)#, stop_words=stopwords.words('danish'))\n",
        "# fit on cleaned text\n",
        "tfidf_vect_matrix_sw = tfidf_vect_sw.fit_transform(sentence_df_cp_op1)\n",
        "# vocab sze 13574\n",
        "tfidf_vect_matrix_sw.shape"
      ],
      "execution_count": null,
      "outputs": [
        {
          "output_type": "execute_result",
          "data": {
            "text/plain": [
              "(5000, 6394)"
            ]
          },
          "metadata": {
            "tags": []
          },
          "execution_count": 57
        }
      ]
    },
    {
      "cell_type": "code",
      "metadata": {
        "id": "zd9Fuq9PBA45"
      },
      "source": [
        "# find cosine similarity for the count vector matrix\n",
        "cosine_matrix_ti_sw = cosine_similarity(tfidf_vect_matrix_sw)"
      ],
      "execution_count": null,
      "outputs": []
    },
    {
      "cell_type": "code",
      "metadata": {
        "id": "rEa1v8GhBA45"
      },
      "source": [
        "# convert to Data Frame\n",
        "cosine_df_ti_sw = pd.DataFrame(cosine_matrix_ti_sw, columns = sentence_df['id'], index = sentence_df['id'])"
      ],
      "execution_count": null,
      "outputs": []
    },
    {
      "cell_type": "code",
      "metadata": {
        "colab": {
          "base_uri": "https://localhost:8080/"
        },
        "id": "XTu4pUcTBA45",
        "outputId": "69d54e93-79c2-449a-9ff1-bc9b87313acc"
      },
      "source": [
        "# select the row for target sentence\n",
        "target_cosine_array = cosine_df_ti_sw.loc['7-21-440',:]\n",
        "# sort descending\n",
        "target_cosine_array.sort_values(ascending = False)[:10]"
      ],
      "execution_count": null,
      "outputs": [
        {
          "output_type": "execute_result",
          "data": {
            "text/plain": [
              "id\n",
              "7-21-440      1.000000\n",
              "47-2-28       0.214849\n",
              "51-58-1495    0.178410\n",
              "34-7-768      0.167955\n",
              "38-20-1059    0.153800\n",
              "42-33-69      0.150390\n",
              "3-55-8        0.148307\n",
              "6-37-308      0.148256\n",
              "38-78-1469    0.141425\n",
              "6-47-994      0.140513\n",
              "Name: 7-21-440, dtype: float64"
            ]
          },
          "metadata": {
            "tags": []
          },
          "execution_count": 60
        }
      ]
    },
    {
      "cell_type": "code",
      "metadata": {
        "id": "-dXS-9RABA46"
      },
      "source": [
        "# gather indices for top 10 similar sentences\n",
        "top_10_similarity = target_cosine_array.sort_values(ascending = False)[:10].index.tolist()"
      ],
      "execution_count": null,
      "outputs": []
    },
    {
      "cell_type": "code",
      "metadata": {
        "colab": {
          "base_uri": "https://localhost:8080/",
          "height": 35
        },
        "id": "rwiKSc4nBA46",
        "outputId": "a130e376-0b43-4d3c-90ab-c9391e27647d"
      },
      "source": [
        "sentence_df.loc[sentence_df.id == top_10_similarity[1],'text'].values[0]"
      ],
      "execution_count": null,
      "outputs": [
        {
          "output_type": "execute_result",
          "data": {
            "application/vnd.google.colaboratory.intrinsic+json": {
              "type": "string"
            },
            "text/plain": [
              "'I dag'"
            ]
          },
          "metadata": {
            "tags": []
          },
          "execution_count": 62
        }
      ]
    },
    {
      "cell_type": "code",
      "metadata": {
        "colab": {
          "base_uri": "https://localhost:8080/",
          "height": 35
        },
        "id": "F378EHiDBA47",
        "outputId": "9a555daa-bb7c-4a2a-d71e-71999d660a1f"
      },
      "source": [
        "sentence_df.loc[sentence_df.id == top_10_similarity[2],'text'].values[0]"
      ],
      "execution_count": null,
      "outputs": [
        {
          "output_type": "execute_result",
          "data": {
            "application/vnd.google.colaboratory.intrinsic+json": {
              "type": "string"
            },
            "text/plain": [
              "'Paa Marken;'"
            ]
          },
          "metadata": {
            "tags": []
          },
          "execution_count": 63
        }
      ]
    },
    {
      "cell_type": "code",
      "metadata": {
        "colab": {
          "base_uri": "https://localhost:8080/",
          "height": 35
        },
        "id": "OvXMBlygBA47",
        "outputId": "bbe319b7-c0dc-4fa4-8b2c-a24403f630c8"
      },
      "source": [
        "sentence_df.loc[sentence_df.id == top_10_similarity[3],'text'].values[0]"
      ],
      "execution_count": null,
      "outputs": [
        {
          "output_type": "execute_result",
          "data": {
            "application/vnd.google.colaboratory.intrinsic+json": {
              "type": "string"
            },
            "text/plain": [
              "'Hvor forbrugernes valgmuligheder for 20 år siden kunne tælles på en hånd eller to, så kan de i dag vælge mellem cirka 150 forskellige realkreditlån.'"
            ]
          },
          "metadata": {
            "tags": []
          },
          "execution_count": 64
        }
      ]
    },
    {
      "cell_type": "code",
      "metadata": {
        "colab": {
          "base_uri": "https://localhost:8080/",
          "height": 35
        },
        "id": "n5BwixmWBA47",
        "outputId": "21797985-bfcc-4f2e-9638-ff86bcc76e98"
      },
      "source": [
        "sentence_df.loc[sentence_df.id == top_10_similarity[4],'text'].values[0]"
      ],
      "execution_count": null,
      "outputs": [
        {
          "output_type": "execute_result",
          "data": {
            "application/vnd.google.colaboratory.intrinsic+json": {
              "type": "string"
            },
            "text/plain": [
              "'Jeg ved, at niveauet er højt blandt alle angriberne i Serie A og kræver en toppræstation hver eneste gang.'"
            ]
          },
          "metadata": {
            "tags": []
          },
          "execution_count": 65
        }
      ]
    },
    {
      "cell_type": "code",
      "metadata": {
        "colab": {
          "base_uri": "https://localhost:8080/",
          "height": 35
        },
        "id": "l6bkY1GVBA48",
        "outputId": "f0f4e387-8428-4ee3-b830-cfb16090c533"
      },
      "source": [
        "sentence_df.loc[sentence_df.id == top_10_similarity[5],'text'].values[0]"
      ],
      "execution_count": null,
      "outputs": [
        {
          "output_type": "execute_result",
          "data": {
            "application/vnd.google.colaboratory.intrinsic+json": {
              "type": "string"
            },
            "text/plain": [
              "'KAN MAN SKÆRE MUGGEN VÆK?'"
            ]
          },
          "metadata": {
            "tags": []
          },
          "execution_count": 66
        }
      ]
    },
    {
      "cell_type": "markdown",
      "metadata": {
        "id": "w903pDxwBA48"
      },
      "source": [
        "## Option 5: TOP2VEC for topic clustering with sentence transformer"
      ]
    },
    {
      "cell_type": "code",
      "metadata": {
        "colab": {
          "base_uri": "https://localhost:8080/",
          "height": 1000
        },
        "id": "EykHj396B8fe",
        "outputId": "87d7444d-0f05-4568-b62a-9f68be89c11e"
      },
      "source": [
        "#!pip install top2vec[sentence_transformers]"
      ],
      "execution_count": null,
      "outputs": [
        {
          "output_type": "stream",
          "text": [
            "Collecting top2vec[sentence_transformers]\n",
            "  Downloading https://files.pythonhosted.org/packages/6e/b0/7335cdddddd8036c0fc30f8aa6fb2170c7bcaf101fcf384a6dca6aa8dbde/top2vec-1.0.20-py3-none-any.whl\n",
            "Requirement already satisfied: pandas in /usr/local/lib/python3.6/dist-packages (from top2vec[sentence_transformers]) (1.1.5)\n",
            "Requirement already satisfied: gensim in /usr/local/lib/python3.6/dist-packages (from top2vec[sentence_transformers]) (3.6.0)\n",
            "Collecting hdbscan\n",
            "\u001b[?25l  Downloading https://files.pythonhosted.org/packages/22/2f/2423d844072f007a74214c1adc46260e45f034bb1679ccadfbb8a601f647/hdbscan-0.8.26.tar.gz (4.7MB)\n",
            "\u001b[K     |████████████████████████████████| 4.7MB 7.0MB/s \n",
            "\u001b[?25h  Installing build dependencies ... \u001b[?25l\u001b[?25hdone\n",
            "  Getting requirements to build wheel ... \u001b[?25l\u001b[?25hdone\n",
            "    Preparing wheel metadata ... \u001b[?25l\u001b[?25hdone\n",
            "Collecting joblib<1.0.0\n",
            "\u001b[?25l  Downloading https://files.pythonhosted.org/packages/fc/c9/f58220ac44a1592f79a343caba12f6837f9e0c04c196176a3d66338e1ea8/joblib-0.17.0-py3-none-any.whl (301kB)\n",
            "\u001b[K     |████████████████████████████████| 307kB 41.6MB/s \n",
            "\u001b[?25hRequirement already satisfied: numpy in /usr/local/lib/python3.6/dist-packages (from top2vec[sentence_transformers]) (1.19.5)\n",
            "Requirement already satisfied: umap-learn in /usr/local/lib/python3.6/dist-packages (from top2vec[sentence_transformers]) (0.5.0)\n",
            "Requirement already satisfied: pynndescent>=0.4 in /usr/local/lib/python3.6/dist-packages (from top2vec[sentence_transformers]) (0.5.1)\n",
            "Requirement already satisfied: wordcloud in /usr/local/lib/python3.6/dist-packages (from top2vec[sentence_transformers]) (1.5.0)\n",
            "Collecting sentence-transformers; extra == \"sentence_transformers\"\n",
            "\u001b[?25l  Downloading https://files.pythonhosted.org/packages/6a/e2/84d6acfcee2d83164149778a33b6bdd1a74e1bcb59b2b2cd1b861359b339/sentence-transformers-0.4.1.2.tar.gz (64kB)\n",
            "\u001b[K     |████████████████████████████████| 71kB 8.1MB/s \n",
            "\u001b[?25hRequirement already satisfied: torch; extra == \"sentence_transformers\" in /usr/local/lib/python3.6/dist-packages (from top2vec[sentence_transformers]) (1.7.0+cu101)\n",
            "Requirement already satisfied: python-dateutil>=2.7.3 in /usr/local/lib/python3.6/dist-packages (from pandas->top2vec[sentence_transformers]) (2.8.1)\n",
            "Requirement already satisfied: pytz>=2017.2 in /usr/local/lib/python3.6/dist-packages (from pandas->top2vec[sentence_transformers]) (2018.9)\n",
            "Requirement already satisfied: six>=1.5.0 in /usr/local/lib/python3.6/dist-packages (from gensim->top2vec[sentence_transformers]) (1.15.0)\n",
            "Requirement already satisfied: smart-open>=1.2.1 in /usr/local/lib/python3.6/dist-packages (from gensim->top2vec[sentence_transformers]) (4.1.2)\n",
            "Requirement already satisfied: scipy>=0.18.1 in /usr/local/lib/python3.6/dist-packages (from gensim->top2vec[sentence_transformers]) (1.4.1)\n",
            "Requirement already satisfied: scikit-learn>=0.17 in /usr/local/lib/python3.6/dist-packages (from hdbscan->top2vec[sentence_transformers]) (0.22.2.post1)\n",
            "Requirement already satisfied: cython>=0.27 in /usr/local/lib/python3.6/dist-packages (from hdbscan->top2vec[sentence_transformers]) (0.29.21)\n",
            "Requirement already satisfied: numba>=0.49 in /usr/local/lib/python3.6/dist-packages (from umap-learn->top2vec[sentence_transformers]) (0.51.2)\n",
            "Requirement already satisfied: llvmlite>=0.30 in /usr/local/lib/python3.6/dist-packages (from pynndescent>=0.4->top2vec[sentence_transformers]) (0.34.0)\n",
            "Requirement already satisfied: pillow in /usr/local/lib/python3.6/dist-packages (from wordcloud->top2vec[sentence_transformers]) (7.0.0)\n",
            "Collecting transformers<5.0.0,>=3.1.0\n",
            "\u001b[?25l  Downloading https://files.pythonhosted.org/packages/88/b1/41130a228dd656a1a31ba281598a968320283f48d42782845f6ba567f00b/transformers-4.2.2-py3-none-any.whl (1.8MB)\n",
            "\u001b[K     |████████████████████████████████| 1.8MB 41.5MB/s \n",
            "\u001b[?25hRequirement already satisfied: tqdm in /usr/local/lib/python3.6/dist-packages (from sentence-transformers; extra == \"sentence_transformers\"->top2vec[sentence_transformers]) (4.41.1)\n",
            "Requirement already satisfied: nltk in /usr/local/lib/python3.6/dist-packages (from sentence-transformers; extra == \"sentence_transformers\"->top2vec[sentence_transformers]) (3.2.5)\n",
            "Collecting sentencepiece\n",
            "\u001b[?25l  Downloading https://files.pythonhosted.org/packages/14/67/e42bd1181472c95c8cda79305df848264f2a7f62740995a46945d9797b67/sentencepiece-0.1.95-cp36-cp36m-manylinux2014_x86_64.whl (1.2MB)\n",
            "\u001b[K     |████████████████████████████████| 1.2MB 50.9MB/s \n",
            "\u001b[?25hRequirement already satisfied: dataclasses in /usr/local/lib/python3.6/dist-packages (from torch; extra == \"sentence_transformers\"->top2vec[sentence_transformers]) (0.8)\n",
            "Requirement already satisfied: future in /usr/local/lib/python3.6/dist-packages (from torch; extra == \"sentence_transformers\"->top2vec[sentence_transformers]) (0.16.0)\n",
            "Requirement already satisfied: typing-extensions in /usr/local/lib/python3.6/dist-packages (from torch; extra == \"sentence_transformers\"->top2vec[sentence_transformers]) (3.7.4.3)\n",
            "Requirement already satisfied: setuptools in /usr/local/lib/python3.6/dist-packages (from numba>=0.49->umap-learn->top2vec[sentence_transformers]) (51.3.3)\n",
            "Requirement already satisfied: packaging in /usr/local/lib/python3.6/dist-packages (from transformers<5.0.0,>=3.1.0->sentence-transformers; extra == \"sentence_transformers\"->top2vec[sentence_transformers]) (20.8)\n",
            "Requirement already satisfied: requests in /usr/local/lib/python3.6/dist-packages (from transformers<5.0.0,>=3.1.0->sentence-transformers; extra == \"sentence_transformers\"->top2vec[sentence_transformers]) (2.23.0)\n",
            "Requirement already satisfied: regex!=2019.12.17 in /usr/local/lib/python3.6/dist-packages (from transformers<5.0.0,>=3.1.0->sentence-transformers; extra == \"sentence_transformers\"->top2vec[sentence_transformers]) (2019.12.20)\n",
            "Collecting sacremoses\n",
            "\u001b[?25l  Downloading https://files.pythonhosted.org/packages/7d/34/09d19aff26edcc8eb2a01bed8e98f13a1537005d31e95233fd48216eed10/sacremoses-0.0.43.tar.gz (883kB)\n",
            "\u001b[K     |████████████████████████████████| 890kB 42.7MB/s \n",
            "\u001b[?25hRequirement already satisfied: filelock in /usr/local/lib/python3.6/dist-packages (from transformers<5.0.0,>=3.1.0->sentence-transformers; extra == \"sentence_transformers\"->top2vec[sentence_transformers]) (3.0.12)\n",
            "Requirement already satisfied: importlib-metadata; python_version < \"3.8\" in /usr/local/lib/python3.6/dist-packages (from transformers<5.0.0,>=3.1.0->sentence-transformers; extra == \"sentence_transformers\"->top2vec[sentence_transformers]) (3.4.0)\n",
            "Collecting tokenizers==0.9.4\n",
            "\u001b[?25l  Downloading https://files.pythonhosted.org/packages/0f/1c/e789a8b12e28be5bc1ce2156cf87cb522b379be9cadc7ad8091a4cc107c4/tokenizers-0.9.4-cp36-cp36m-manylinux2010_x86_64.whl (2.9MB)\n",
            "\u001b[K     |████████████████████████████████| 2.9MB 50.0MB/s \n",
            "\u001b[?25hRequirement already satisfied: pyparsing>=2.0.2 in /usr/local/lib/python3.6/dist-packages (from packaging->transformers<5.0.0,>=3.1.0->sentence-transformers; extra == \"sentence_transformers\"->top2vec[sentence_transformers]) (2.4.7)\n",
            "Requirement already satisfied: urllib3!=1.25.0,!=1.25.1,<1.26,>=1.21.1 in /usr/local/lib/python3.6/dist-packages (from requests->transformers<5.0.0,>=3.1.0->sentence-transformers; extra == \"sentence_transformers\"->top2vec[sentence_transformers]) (1.24.3)\n",
            "Requirement already satisfied: chardet<4,>=3.0.2 in /usr/local/lib/python3.6/dist-packages (from requests->transformers<5.0.0,>=3.1.0->sentence-transformers; extra == \"sentence_transformers\"->top2vec[sentence_transformers]) (3.0.4)\n",
            "Requirement already satisfied: idna<3,>=2.5 in /usr/local/lib/python3.6/dist-packages (from requests->transformers<5.0.0,>=3.1.0->sentence-transformers; extra == \"sentence_transformers\"->top2vec[sentence_transformers]) (2.10)\n",
            "Requirement already satisfied: certifi>=2017.4.17 in /usr/local/lib/python3.6/dist-packages (from requests->transformers<5.0.0,>=3.1.0->sentence-transformers; extra == \"sentence_transformers\"->top2vec[sentence_transformers]) (2020.12.5)\n",
            "Requirement already satisfied: click in /usr/local/lib/python3.6/dist-packages (from sacremoses->transformers<5.0.0,>=3.1.0->sentence-transformers; extra == \"sentence_transformers\"->top2vec[sentence_transformers]) (7.1.2)\n",
            "Requirement already satisfied: zipp>=0.5 in /usr/local/lib/python3.6/dist-packages (from importlib-metadata; python_version < \"3.8\"->transformers<5.0.0,>=3.1.0->sentence-transformers; extra == \"sentence_transformers\"->top2vec[sentence_transformers]) (3.4.0)\n",
            "Building wheels for collected packages: hdbscan\n",
            "  Building wheel for hdbscan (PEP 517) ... \u001b[?25l\u001b[?25hdone\n",
            "  Created wheel for hdbscan: filename=hdbscan-0.8.26-cp36-cp36m-linux_x86_64.whl size=2301792 sha256=97814d97d5f327c7254d686357fe60931a5512c3de2907496af865255df1a64c\n",
            "  Stored in directory: /root/.cache/pip/wheels/82/38/41/372f034d8abd271ef7787a681e0a47fc05d472683a7eb088ed\n",
            "Successfully built hdbscan\n",
            "Building wheels for collected packages: sentence-transformers, sacremoses\n",
            "  Building wheel for sentence-transformers (setup.py) ... \u001b[?25l\u001b[?25hdone\n",
            "  Created wheel for sentence-transformers: filename=sentence_transformers-0.4.1.2-cp36-none-any.whl size=103068 sha256=55498b5cc63a34f2c7f758727112bc15fc1129507d7b5534b665f8dd83480c3f\n",
            "  Stored in directory: /root/.cache/pip/wheels/3d/33/d1/5703dd56199c09d4a1b41e0c07fb4e7765a84d787cbdc48ac3\n",
            "  Building wheel for sacremoses (setup.py) ... \u001b[?25l\u001b[?25hdone\n",
            "  Created wheel for sacremoses: filename=sacremoses-0.0.43-cp36-none-any.whl size=893261 sha256=2eeaf05b4635dba84a87917b30308e98c5a09ecaaf107204a47bb2d3803a0c29\n",
            "  Stored in directory: /root/.cache/pip/wheels/29/3c/fd/7ce5c3f0666dab31a50123635e6fb5e19ceb42ce38d4e58f45\n",
            "Successfully built sentence-transformers sacremoses\n",
            "Installing collected packages: joblib, hdbscan, sacremoses, tokenizers, transformers, sentencepiece, sentence-transformers, top2vec\n",
            "  Found existing installation: joblib 1.0.0\n",
            "    Uninstalling joblib-1.0.0:\n",
            "      Successfully uninstalled joblib-1.0.0\n",
            "Successfully installed hdbscan-0.8.26 joblib-0.17.0 sacremoses-0.0.43 sentence-transformers-0.4.1.2 sentencepiece-0.1.95 tokenizers-0.9.4 top2vec-1.0.20 transformers-4.2.2\n"
          ],
          "name": "stdout"
        },
        {
          "output_type": "display_data",
          "data": {
            "application/vnd.colab-display-data+json": {
              "pip_warning": {
                "packages": [
                  "joblib"
                ]
              }
            }
          },
          "metadata": {
            "tags": []
          }
        }
      ]
    },
    {
      "cell_type": "code",
      "metadata": {
        "id": "TlhMY9fwBA48"
      },
      "source": [
        "from top2vec import Top2Vec"
      ],
      "execution_count": null,
      "outputs": []
    },
    {
      "cell_type": "code",
      "metadata": {
        "colab": {
          "base_uri": "https://localhost:8080/"
        },
        "id": "3p_5KBJBBA49",
        "outputId": "df86424a-f86f-4d96-b70a-75684f69cca1"
      },
      "source": [
        "# topic modelling using BERT based sentence transformer\n",
        "topic_model = Top2Vec(list(sentence_df.text),embedding_model='distiluse-base-multilingual-cased',speed=\"deep-learn\")"
      ],
      "execution_count": null,
      "outputs": [
        {
          "output_type": "stream",
          "text": [
            "2021-02-01 15:23:58,104 - top2vec - INFO - Pre-processing documents for training\n",
            "2021-02-01 15:23:58,470 - top2vec - INFO - Downloading distiluse-base-multilingual-cased model\n",
            "100%|██████████| 504M/504M [00:55<00:00, 9.12MB/s]\n",
            "2021-02-01 15:25:05,350 - top2vec - INFO - Creating joint document/word embedding\n",
            "2021-02-01 15:29:00,761 - top2vec - INFO - Creating lower dimension embedding of documents\n",
            "2021-02-01 15:29:37,390 - top2vec - INFO - Finding dense areas of documents\n",
            "2021-02-01 15:29:37,647 - top2vec - INFO - Finding topics\n"
          ],
          "name": "stderr"
        }
      ]
    },
    {
      "cell_type": "code",
      "metadata": {
        "colab": {
          "base_uri": "https://localhost:8080/"
        },
        "id": "K1PdaQo3BA49",
        "outputId": "88ab91bd-fbd3-4cad-d61a-b7493111d1e3"
      },
      "source": [
        "# total number of topics discovered\n",
        "topic_model.get_num_topics()"
      ],
      "execution_count": null,
      "outputs": [
        {
          "output_type": "execute_result",
          "data": {
            "text/plain": [
              "39"
            ]
          },
          "metadata": {
            "tags": []
          },
          "execution_count": 9
        }
      ]
    },
    {
      "cell_type": "code",
      "metadata": {
        "colab": {
          "base_uri": "https://localhost:8080/"
        },
        "id": "WAN3mDCpBA4-",
        "outputId": "f24e407d-7576-451a-fb15-81a8e0d342a9"
      },
      "source": [
        "# num of senteces in topic\n",
        "topic_sizes, topic_nums = topic_model.get_topic_sizes()\n",
        "topic_sizes, topic_nums"
      ],
      "execution_count": null,
      "outputs": [
        {
          "output_type": "execute_result",
          "data": {
            "text/plain": [
              "(array([412, 314, 279, 207, 207, 203, 202, 184, 158, 150, 135, 126, 126,\n",
              "        126, 122, 122, 115, 115, 113, 110,  99,  98,  97,  93,  92,  91,\n",
              "         91,  88,  87,  82,  74,  71,  69,  69,  68,  61,  52,  47,  45]),\n",
              " array([ 0,  1,  2,  3,  4,  5,  6,  7,  8,  9, 10, 11, 12, 13, 14, 15, 16,\n",
              "        17, 18, 19, 20, 21, 22, 23, 24, 25, 26, 27, 28, 29, 30, 31, 32, 33,\n",
              "        34, 35, 36, 37, 38]))"
            ]
          },
          "metadata": {
            "tags": []
          },
          "execution_count": 10
        }
      ]
    },
    {
      "cell_type": "code",
      "metadata": {
        "colab": {
          "base_uri": "https://localhost:8080/"
        },
        "id": "zSbpax_0BA4-",
        "outputId": "c7f0121a-8feb-4bde-db25-6d1a46e04538"
      },
      "source": [
        "# \r\n",
        "doc_topic_list = []\r\n",
        "for s, n in zip(topic_sizes, topic_nums):\r\n",
        "    documents, document_scores, document_ids = topic_model.search_documents_by_topic(topic_num=n, num_docs = s)\r\n",
        "    \r\n",
        "    for doc, score, doc_id in zip(documents, document_scores, document_ids):\r\n",
        "        doc_topic_list.append({\"Document_id\": doc_id,\r\n",
        "                               \"Score\": score,\r\n",
        "                               \"text\":doc,\r\n",
        "                               \"topic_id\": n})\r\n",
        "doc_topic_list[:2]"
      ],
      "execution_count": null,
      "outputs": [
        {
          "output_type": "execute_result",
          "data": {
            "text/plain": [
              "[{'Document_id': 3906,\n",
              "  'Score': 0.88263214,\n",
              "  'text': 'Hansen( DF)',\n",
              "  'topic_id': 0},\n",
              " {'Document_id': 3404, 'Score': 0.87143725, 'text': 'Lao Tzu¹', 'topic_id': 0}]"
            ]
          },
          "metadata": {
            "tags": []
          },
          "execution_count": 22
        }
      ]
    },
    {
      "cell_type": "code",
      "metadata": {
        "colab": {
          "base_uri": "https://localhost:8080/",
          "height": 204
        },
        "id": "8mDG5A2aPBBD",
        "outputId": "9c3f152b-795c-4c16-cf28-12edf3bafd08"
      },
      "source": [
        "doc_topc_df = pd.DataFrame(doc_topic_list)\r\n",
        "doc_topc_df.sort_values(by = [\"Document_id\"], ascending = True, inplace= True)\r\n",
        "doc_topc_df = doc_topc_df.reset_index(drop=True)\r\n",
        "doc_topc_df.head()"
      ],
      "execution_count": null,
      "outputs": [
        {
          "output_type": "execute_result",
          "data": {
            "text/html": [
              "<div>\n",
              "<style scoped>\n",
              "    .dataframe tbody tr th:only-of-type {\n",
              "        vertical-align: middle;\n",
              "    }\n",
              "\n",
              "    .dataframe tbody tr th {\n",
              "        vertical-align: top;\n",
              "    }\n",
              "\n",
              "    .dataframe thead th {\n",
              "        text-align: right;\n",
              "    }\n",
              "</style>\n",
              "<table border=\"1\" class=\"dataframe\">\n",
              "  <thead>\n",
              "    <tr style=\"text-align: right;\">\n",
              "      <th></th>\n",
              "      <th>Document_id</th>\n",
              "      <th>Score</th>\n",
              "      <th>text</th>\n",
              "      <th>topic_id</th>\n",
              "    </tr>\n",
              "  </thead>\n",
              "  <tbody>\n",
              "    <tr>\n",
              "      <th>0</th>\n",
              "      <td>0</td>\n",
              "      <td>0.171193</td>\n",
              "      <td>Vanddamp er en usynlig gas, der forekommer i s...</td>\n",
              "      <td>9</td>\n",
              "    </tr>\n",
              "    <tr>\n",
              "      <th>1</th>\n",
              "      <td>1</td>\n",
              "      <td>0.164515</td>\n",
              "      <td>Er der nogen herinde der har erfaring med at k...</td>\n",
              "      <td>13</td>\n",
              "    </tr>\n",
              "    <tr>\n",
              "      <th>2</th>\n",
              "      <td>2</td>\n",
              "      <td>0.297734</td>\n",
              "      <td>Ved ikke lige hvordan disse er i størrelsen?</td>\n",
              "      <td>3</td>\n",
              "    </tr>\n",
              "    <tr>\n",
              "      <th>3</th>\n",
              "      <td>3</td>\n",
              "      <td>0.398476</td>\n",
              "      <td>Dog kan jeg godt lide pang farver;)</td>\n",
              "      <td>6</td>\n",
              "    </tr>\n",
              "    <tr>\n",
              "      <th>4</th>\n",
              "      <td>4</td>\n",
              "      <td>0.384771</td>\n",
              "      <td>Pengene bliver dog ofte først udbetalt efter 5...</td>\n",
              "      <td>28</td>\n",
              "    </tr>\n",
              "  </tbody>\n",
              "</table>\n",
              "</div>"
            ],
            "text/plain": [
              "   Document_id  ...  topic_id\n",
              "0            0  ...         9\n",
              "1            1  ...        13\n",
              "2            2  ...         3\n",
              "3            3  ...         6\n",
              "4            4  ...        28\n",
              "\n",
              "[5 rows x 4 columns]"
            ]
          },
          "metadata": {
            "tags": []
          },
          "execution_count": 36
        }
      ]
    },
    {
      "cell_type": "code",
      "metadata": {
        "id": "dqwFJPtMRybE"
      },
      "source": [
        "doc_topc_df = pd.concat([doc_topc_df, sentence_df[['id']]], axis = 1)\r\n"
      ],
      "execution_count": null,
      "outputs": []
    },
    {
      "cell_type": "code",
      "metadata": {
        "colab": {
          "base_uri": "https://localhost:8080/",
          "height": 80
        },
        "id": "CrgkyrwOSXgS",
        "outputId": "6f321c5b-0755-4712-90de-7a79c44e0f9a"
      },
      "source": [
        "doc_topc_df.loc[doc_topc_df['id']=='7-21-440',:]"
      ],
      "execution_count": null,
      "outputs": [
        {
          "output_type": "execute_result",
          "data": {
            "text/html": [
              "<div>\n",
              "<style scoped>\n",
              "    .dataframe tbody tr th:only-of-type {\n",
              "        vertical-align: middle;\n",
              "    }\n",
              "\n",
              "    .dataframe tbody tr th {\n",
              "        vertical-align: top;\n",
              "    }\n",
              "\n",
              "    .dataframe thead th {\n",
              "        text-align: right;\n",
              "    }\n",
              "</style>\n",
              "<table border=\"1\" class=\"dataframe\">\n",
              "  <thead>\n",
              "    <tr style=\"text-align: right;\">\n",
              "      <th></th>\n",
              "      <th>Document_id</th>\n",
              "      <th>Score</th>\n",
              "      <th>text</th>\n",
              "      <th>topic_id</th>\n",
              "      <th>id</th>\n",
              "    </tr>\n",
              "  </thead>\n",
              "  <tbody>\n",
              "    <tr>\n",
              "      <th>4659</th>\n",
              "      <td>4659</td>\n",
              "      <td>0.310199</td>\n",
              "      <td>Ifølge Dansk Kennelklub angriber muskelhunde d...</td>\n",
              "      <td>4</td>\n",
              "      <td>7-21-440</td>\n",
              "    </tr>\n",
              "  </tbody>\n",
              "</table>\n",
              "</div>"
            ],
            "text/plain": [
              "      Document_id     Score  ... topic_id        id\n",
              "4659         4659  0.310199  ...        4  7-21-440\n",
              "\n",
              "[1 rows x 5 columns]"
            ]
          },
          "metadata": {
            "tags": []
          },
          "execution_count": 38
        }
      ]
    },
    {
      "cell_type": "code",
      "metadata": {
        "colab": {
          "base_uri": "https://localhost:8080/"
        },
        "id": "QyWMFGDkS8Tz",
        "outputId": "5e90a848-7ef5-43fa-d74d-09feabe595ab"
      },
      "source": [
        "topic4_df = doc_topc_df.loc[doc_topc_df['topic_id']==4,:]\r\n",
        "topic4_df.sort_values(by = ['Score'], ascending = False, inplace = True) \r\n",
        "topic4_df_sim = topic4_df.loc[(topic4_df['Score'] >= 0.28) & (topic4_df['Score'] <= 0.32),:]\r\n",
        "topic4_df_sim.shape"
      ],
      "execution_count": null,
      "outputs": [
        {
          "output_type": "stream",
          "text": [
            "/usr/local/lib/python3.6/dist-packages/ipykernel_launcher.py:2: SettingWithCopyWarning: \n",
            "A value is trying to be set on a copy of a slice from a DataFrame\n",
            "\n",
            "See the caveats in the documentation: https://pandas.pydata.org/pandas-docs/stable/user_guide/indexing.html#returning-a-view-versus-a-copy\n",
            "  \n"
          ],
          "name": "stderr"
        },
        {
          "output_type": "execute_result",
          "data": {
            "text/plain": [
              "(11, 5)"
            ]
          },
          "metadata": {
            "tags": []
          },
          "execution_count": 47
        }
      ]
    },
    {
      "cell_type": "code",
      "metadata": {
        "colab": {
          "base_uri": "https://localhost:8080/"
        },
        "id": "4p32yG6yTzHt",
        "outputId": "8a743a70-d5d0-48b0-8edb-5ad0cfd8bc58"
      },
      "source": [
        "topic4_df_sim.text.values"
      ],
      "execution_count": null,
      "outputs": [
        {
          "output_type": "execute_result",
          "data": {
            "text/plain": [
              "array(['20 pct. af Europas bønder 80 pct. af EU s samlede landbrugsstøtte, og hvis vi ikke får bremset op for den udvikling, ja, så ender det jo med, at der kun er tre gårde tilbage i et sogn.',\n",
              "       'Enhedslisten har fremsat forslag om, at regeringen skal indgå aftale med Kommunernes Landsforening og Danske Regioner om økologisk indkøb af fødevarer i det offentlige og om omlægning til økologisk produktion på al offentligt ejet jord.',\n",
              "       'Vores svenske nabo har ratificeret den.',\n",
              "       'I 900- tallet ankom svenske vikinger for første gang byen Konstantinopel( som de kaldte Miklagård).',\n",
              "       'Og så ikke mindst et euroforbehold.',\n",
              "       'Ifølge Dansk Kennelklub angriber muskelhunde dyr og mennesker cirka hver 14. dag.',\n",
              "       'Indridason er selv nået til bind nummer ni, og nu udkommer bind seks, Manden i søen, som fjerde Erlendur- udgivelse på dansk.',\n",
              "       'Læreruddannelsen på KDAS, som er del af Professionshøjskolen København, har på hjemmesiden for KLM formuleret fagets bidrag til de almene lærerkvalifikationer.',\n",
              "       'På www. venstre. dk i toppen finder du VenstreTV, og her kan du se alle indslagene fra Venstres Landsmøde.',\n",
              "       'Hans ledelseskoncept byggede på stærke lokale ledelser og en skandinavisk ledelsesfilosofimed respekt, omsorg for mennesker, uddannelse og en uformel omgangstone.',\n",
              "       'På grund af sin isolation mellem den enorme indlandsis og havets pakis forekom der ikke en sådan kolonisering af Østgrønland, området forblev praktisk talt ukendt for alle andre end befolkningen ved Ammassalik'],\n",
              "      dtype=object)"
            ]
          },
          "metadata": {
            "tags": []
          },
          "execution_count": 49
        }
      ]
    },
    {
      "cell_type": "markdown",
      "metadata": {
        "id": "ro26EpGrXygd"
      },
      "source": [
        "## Option 6: Pre-trained subword token > tf-idf  / count vectorizer > cosine similarity"
      ]
    },
    {
      "cell_type": "code",
      "metadata": {
        "colab": {
          "base_uri": "https://localhost:8080/"
        },
        "id": "FWtbYyN6VZlx",
        "outputId": "40ca1353-8e7a-41fd-c90f-f238149da308"
      },
      "source": [
        "!pip install bpemb "
      ],
      "execution_count": 47,
      "outputs": [
        {
          "output_type": "stream",
          "text": [
            "Collecting bpemb\n",
            "  Downloading https://files.pythonhosted.org/packages/91/77/3f0f53856e86af32b1d3c86652815277f7b5f880002584eb30db115b6df5/bpemb-0.3.2-py3-none-any.whl\n",
            "Requirement already satisfied: numpy in /usr/local/lib/python3.6/dist-packages (from bpemb) (1.19.5)\n",
            "Requirement already satisfied: requests in /usr/local/lib/python3.6/dist-packages (from bpemb) (2.23.0)\n",
            "Collecting sentencepiece\n",
            "\u001b[?25l  Downloading https://files.pythonhosted.org/packages/14/67/e42bd1181472c95c8cda79305df848264f2a7f62740995a46945d9797b67/sentencepiece-0.1.95-cp36-cp36m-manylinux2014_x86_64.whl (1.2MB)\n",
            "\u001b[K     |████████████████████████████████| 1.2MB 7.0MB/s \n",
            "\u001b[?25hRequirement already satisfied: tqdm in /usr/local/lib/python3.6/dist-packages (from bpemb) (4.41.1)\n",
            "Requirement already satisfied: gensim in /usr/local/lib/python3.6/dist-packages (from bpemb) (3.6.0)\n",
            "Requirement already satisfied: urllib3!=1.25.0,!=1.25.1,<1.26,>=1.21.1 in /usr/local/lib/python3.6/dist-packages (from requests->bpemb) (1.24.3)\n",
            "Requirement already satisfied: chardet<4,>=3.0.2 in /usr/local/lib/python3.6/dist-packages (from requests->bpemb) (3.0.4)\n",
            "Requirement already satisfied: idna<3,>=2.5 in /usr/local/lib/python3.6/dist-packages (from requests->bpemb) (2.10)\n",
            "Requirement already satisfied: certifi>=2017.4.17 in /usr/local/lib/python3.6/dist-packages (from requests->bpemb) (2020.12.5)\n",
            "Requirement already satisfied: scipy>=0.18.1 in /usr/local/lib/python3.6/dist-packages (from gensim->bpemb) (1.4.1)\n",
            "Requirement already satisfied: smart-open>=1.2.1 in /usr/local/lib/python3.6/dist-packages (from gensim->bpemb) (4.1.2)\n",
            "Requirement already satisfied: six>=1.5.0 in /usr/local/lib/python3.6/dist-packages (from gensim->bpemb) (1.15.0)\n",
            "Installing collected packages: sentencepiece, bpemb\n",
            "Successfully installed bpemb-0.3.2 sentencepiece-0.1.95\n"
          ],
          "name": "stdout"
        }
      ]
    },
    {
      "cell_type": "code",
      "metadata": {
        "id": "Svqd0hQ0YFBw"
      },
      "source": [
        "from bpemb import BPEmb\r\n",
        "import re\r\n",
        "bpemb_da = BPEmb(lang=\"da\",vs=50000)"
      ],
      "execution_count": 61,
      "outputs": []
    },
    {
      "cell_type": "code",
      "metadata": {
        "colab": {
          "base_uri": "https://localhost:8080/"
        },
        "id": "fgkw4d3CYWuQ",
        "outputId": "58a4c228-bb18-4679-abb9-2fe094fe4c7a"
      },
      "source": [
        "def rem_us_token(text):\r\n",
        "    return [re.sub(r'\\▁','',t) for t in bpemb_da.encode(text)]\r\n",
        "rem_us_token(target_sentence.values[0])"
      ],
      "execution_count": 80,
      "outputs": [
        {
          "output_type": "execute_result",
          "data": {
            "text/plain": [
              "['ifølge',\n",
              " 'dansk',\n",
              " 'kennel',\n",
              " 'klub',\n",
              " 'angriber',\n",
              " 'muskel',\n",
              " 'hunde',\n",
              " 'dyr',\n",
              " 'og',\n",
              " 'mennesker',\n",
              " 'cirka',\n",
              " 'hver',\n",
              " '00.',\n",
              " 'dag',\n",
              " '.']"
            ]
          },
          "metadata": {
            "tags": []
          },
          "execution_count": 80
        }
      ]
    },
    {
      "cell_type": "markdown",
      "metadata": {
        "id": "rwp5s-E3Zcqc"
      },
      "source": [
        "### Cosine similarity on TF-IDF vectorizer"
      ]
    },
    {
      "cell_type": "code",
      "metadata": {
        "id": "S2x-k36c5Ol6"
      },
      "source": [
        "new_stop_words = [rem_us_token(stop_word)[0] for stop_word in stopwords_da]\r\n",
        "# new_stop_words"
      ],
      "execution_count": 102,
      "outputs": []
    },
    {
      "cell_type": "code",
      "metadata": {
        "colab": {
          "base_uri": "https://localhost:8080/"
        },
        "id": "4P4bZ-YFZcqr",
        "outputId": "3444947d-1a05-40f5-cf6d-642d082ee91c"
      },
      "source": [
        "# fit count vectorizer with Danish stop words\n",
        "# use the custom tokenizer with Danish Stemmer\n",
        "tfidf_vect_bpsw = TfidfVectorizer(tokenizer=rem_us_token, stop_words = new_stop_words)\n",
        "# fit on cleaned text\n",
        "tfidf_vect_matrix_bpsw = tfidf_vect_bpsw.fit_transform(sentence_df_cp_op1)\n",
        "# vocab sze 7058\n",
        "tfidf_vect_matrix_bpsw.shape"
      ],
      "execution_count": 93,
      "outputs": [
        {
          "output_type": "execute_result",
          "data": {
            "text/plain": [
              "(5000, 12937)"
            ]
          },
          "metadata": {
            "tags": []
          },
          "execution_count": 93
        }
      ]
    },
    {
      "cell_type": "code",
      "metadata": {
        "id": "Kgx4iRYPZcqr"
      },
      "source": [
        "# find cosine similarity for the count vector matrix\n",
        "cosine_matrix_ti_bpsw = cosine_similarity(tfidf_vect_matrix_bpsw)"
      ],
      "execution_count": 94,
      "outputs": []
    },
    {
      "cell_type": "code",
      "metadata": {
        "id": "HfmivbOcZcqs"
      },
      "source": [
        "# convert to Data Frame\n",
        "cosine_df_ti_bpsw = pd.DataFrame(cosine_matrix_ti_bpsw, columns = sentence_df['id'], index = sentence_df['id'])"
      ],
      "execution_count": 95,
      "outputs": []
    },
    {
      "cell_type": "code",
      "metadata": {
        "colab": {
          "base_uri": "https://localhost:8080/"
        },
        "id": "0DLRvmJ-Zcqs",
        "outputId": "098b80e5-a65f-46e2-c230-5d5439c06b03"
      },
      "source": [
        "# select the row for target sentence\n",
        "target_cosine_array = cosine_df_ti_bpsw.loc['7-21-440',:]\n",
        "# sort descending\n",
        "target_cosine_array.sort_values(ascending = False)[:10]"
      ],
      "execution_count": 96,
      "outputs": [
        {
          "output_type": "execute_result",
          "data": {
            "text/plain": [
              "id\n",
              "7-21-440      1.000000\n",
              "34-2-723      0.193555\n",
              "38-78-1469    0.177428\n",
              "42-15-38      0.149892\n",
              "51-34-3098    0.142000\n",
              "38-32-1285    0.126503\n",
              "6-37-308      0.125849\n",
              "36-77-1455    0.123605\n",
              "38-19-3921    0.120880\n",
              "34-15-2241    0.119859\n",
              "Name: 7-21-440, dtype: float64"
            ]
          },
          "metadata": {
            "tags": []
          },
          "execution_count": 96
        }
      ]
    },
    {
      "cell_type": "code",
      "metadata": {
        "id": "Uq5so6rpZcqt"
      },
      "source": [
        "# gather indices for top 10 similar sentences\n",
        "top_10_similarity = target_cosine_array.sort_values(ascending = False)[:10].index.tolist()"
      ],
      "execution_count": 97,
      "outputs": []
    },
    {
      "cell_type": "code",
      "metadata": {
        "colab": {
          "base_uri": "https://localhost:8080/",
          "height": 35
        },
        "id": "00AGCPdAZcqt",
        "outputId": "f3610b96-6ca5-43fb-e27d-0d7006bc4903"
      },
      "source": [
        "sentence_df.loc[sentence_df.id == top_10_similarity[1],'text'].values[0]"
      ],
      "execution_count": 98,
      "outputs": [
        {
          "output_type": "execute_result",
          "data": {
            "application/vnd.google.colaboratory.intrinsic+json": {
              "type": "string"
            },
            "text/plain": [
              "'Hvad er det dog, vi mennesker gør ved dig?'"
            ]
          },
          "metadata": {
            "tags": []
          },
          "execution_count": 98
        }
      ]
    },
    {
      "cell_type": "code",
      "metadata": {
        "colab": {
          "base_uri": "https://localhost:8080/",
          "height": 35
        },
        "id": "kvmCJH0DZcqu",
        "outputId": "9ecd3014-ae55-4715-d658-fe5773be727c"
      },
      "source": [
        "sentence_df.loc[sentence_df.id == top_10_similarity[2],'text'].values[0]"
      ],
      "execution_count": 99,
      "outputs": [
        {
          "output_type": "execute_result",
          "data": {
            "application/vnd.google.colaboratory.intrinsic+json": {
              "type": "string"
            },
            "text/plain": [
              "'Men det fik ikke den farlige angriber til at skåne City.'"
            ]
          },
          "metadata": {
            "tags": []
          },
          "execution_count": 99
        }
      ]
    },
    {
      "cell_type": "code",
      "metadata": {
        "colab": {
          "base_uri": "https://localhost:8080/",
          "height": 35
        },
        "id": "DIJx1ZK3Zcqu",
        "outputId": "482bb441-7b0c-43f5-ac1c-0e5090bb942d"
      },
      "source": [
        "sentence_df.loc[sentence_df.id == top_10_similarity[3],'text'].values[0]"
      ],
      "execution_count": 100,
      "outputs": [
        {
          "output_type": "execute_result",
          "data": {
            "application/vnd.google.colaboratory.intrinsic+json": {
              "type": "string"
            },
            "text/plain": [
              "'Derudover er der to hunde, som kan kaldes ind med kort varsel, hvis det bliver nødvendigt.'"
            ]
          },
          "metadata": {
            "tags": []
          },
          "execution_count": 100
        }
      ]
    },
    {
      "cell_type": "code",
      "metadata": {
        "colab": {
          "base_uri": "https://localhost:8080/",
          "height": 35
        },
        "id": "OtrJVtudZcqv",
        "outputId": "8d96efe1-b74d-4149-9848-0958e1123d42"
      },
      "source": [
        "sentence_df.loc[sentence_df.id == top_10_similarity[4],'text'].values[0]"
      ],
      "execution_count": 101,
      "outputs": [
        {
          "output_type": "execute_result",
          "data": {
            "application/vnd.google.colaboratory.intrinsic+json": {
              "type": "string"
            },
            "text/plain": [
              "'Man kan ikke forvente at mennesker kan tåle at spise planter og dyr fra en fremmed planet, da vi ikke under vores udvikling er blevet udsat for noget sådant.'"
            ]
          },
          "metadata": {
            "tags": []
          },
          "execution_count": 101
        }
      ]
    },
    {
      "cell_type": "code",
      "metadata": {
        "colab": {
          "base_uri": "https://localhost:8080/",
          "height": 35
        },
        "id": "Frr3lavvZcqv",
        "outputId": "8bfbb907-d491-42fa-9103-ef3afff36f04"
      },
      "source": [
        "sentence_df.loc[sentence_df.id == top_10_similarity[5],'text'].values[0]"
      ],
      "execution_count": 90,
      "outputs": [
        {
          "output_type": "execute_result",
          "data": {
            "application/vnd.google.colaboratory.intrinsic+json": {
              "type": "string"
            },
            "text/plain": [
              "'Kunne ikke spørge ham.'"
            ]
          },
          "metadata": {
            "tags": []
          },
          "execution_count": 90
        }
      ]
    },
    {
      "cell_type": "markdown",
      "metadata": {
        "id": "ivmotCQ094Tp"
      },
      "source": [
        "### Cosine similarity on Count vectorizer"
      ]
    },
    {
      "cell_type": "code",
      "metadata": {
        "colab": {
          "base_uri": "https://localhost:8080/"
        },
        "id": "UKm1Xyfl94Tz",
        "outputId": "ee315208-a84b-403f-e4e1-f3cf6fd1210d"
      },
      "source": [
        "# fit count vectorizer with Danish stop words\n",
        "# use the custom tokenizer with Danish Stemmer\n",
        "count_vect_bpsw = CountVectorizer(tokenizer=rem_us_token, stop_words = new_stop_words)\n",
        "# fit on cleaned text\n",
        "count_vect_matrix_bpsw = count_vect_bpsw.fit_transform(sentence_df_cp_op1)\n",
        "# vocab sze 7058\n",
        "count_vect_matrix_bpsw.shape"
      ],
      "execution_count": 103,
      "outputs": [
        {
          "output_type": "execute_result",
          "data": {
            "text/plain": [
              "(5000, 12937)"
            ]
          },
          "metadata": {
            "tags": []
          },
          "execution_count": 103
        }
      ]
    },
    {
      "cell_type": "code",
      "metadata": {
        "id": "PsAyzENy94T1"
      },
      "source": [
        "# find cosine similarity for the count vector matrix\n",
        "cosine_matrix_count_bpsw = cosine_similarity(count_vect_matrix_bpsw)"
      ],
      "execution_count": 104,
      "outputs": []
    },
    {
      "cell_type": "code",
      "metadata": {
        "id": "_WTSDzlV94T2"
      },
      "source": [
        "# convert to Data Frame\n",
        "cosine_df_count_bpsw = pd.DataFrame(cosine_matrix_count_bpsw, columns = sentence_df['id'], index = sentence_df['id'])"
      ],
      "execution_count": 105,
      "outputs": []
    },
    {
      "cell_type": "code",
      "metadata": {
        "colab": {
          "base_uri": "https://localhost:8080/"
        },
        "id": "oLdUVlyo94T3",
        "outputId": "ff4b7020-0456-45ed-d009-c5204d986fce"
      },
      "source": [
        "# select the row for target sentence\n",
        "target_cosine_array = cosine_df_count_bpsw.loc['7-21-440',:]\n",
        "# sort descending\n",
        "target_cosine_array.sort_values(ascending = False)[:10]"
      ],
      "execution_count": 106,
      "outputs": [
        {
          "output_type": "execute_result",
          "data": {
            "text/plain": [
              "id\n",
              "7-21-440      1.000000\n",
              "38-32-1285    0.250000\n",
              "34-2-723      0.204124\n",
              "28-58-176     0.181902\n",
              "38-17-2222    0.176777\n",
              "6-45-1332     0.176777\n",
              "40-81-2158    0.176777\n",
              "38-10-1798    0.176777\n",
              "6-47-638      0.167705\n",
              "51-34-3098    0.166667\n",
              "Name: 7-21-440, dtype: float64"
            ]
          },
          "metadata": {
            "tags": []
          },
          "execution_count": 106
        }
      ]
    },
    {
      "cell_type": "code",
      "metadata": {
        "id": "1cBSjJPl94T3"
      },
      "source": [
        "# gather indices for top 10 similar sentences\n",
        "top_10_similarity = target_cosine_array.sort_values(ascending = False)[:10].index.tolist()"
      ],
      "execution_count": 107,
      "outputs": []
    },
    {
      "cell_type": "code",
      "metadata": {
        "colab": {
          "base_uri": "https://localhost:8080/",
          "height": 35
        },
        "id": "vp-V-Few94T4",
        "outputId": "d3ca5a5e-7f30-4029-a62e-19fdd2de1eef"
      },
      "source": [
        "sentence_df.loc[sentence_df.id == top_10_similarity[1],'text'].values[0]"
      ],
      "execution_count": 108,
      "outputs": [
        {
          "output_type": "execute_result",
          "data": {
            "application/vnd.google.colaboratory.intrinsic+json": {
              "type": "string"
            },
            "text/plain": [
              "'Kunne ikke spørge ham.'"
            ]
          },
          "metadata": {
            "tags": []
          },
          "execution_count": 108
        }
      ]
    },
    {
      "cell_type": "code",
      "metadata": {
        "colab": {
          "base_uri": "https://localhost:8080/",
          "height": 35
        },
        "id": "F9grX4bx94T5",
        "outputId": "0f4a2048-49c1-4081-d80f-2e76e8909aaa"
      },
      "source": [
        "sentence_df.loc[sentence_df.id == top_10_similarity[2],'text'].values[0]"
      ],
      "execution_count": 109,
      "outputs": [
        {
          "output_type": "execute_result",
          "data": {
            "application/vnd.google.colaboratory.intrinsic+json": {
              "type": "string"
            },
            "text/plain": [
              "'Hvad er det dog, vi mennesker gør ved dig?'"
            ]
          },
          "metadata": {
            "tags": []
          },
          "execution_count": 109
        }
      ]
    },
    {
      "cell_type": "code",
      "metadata": {
        "colab": {
          "base_uri": "https://localhost:8080/",
          "height": 35
        },
        "id": "AWk-suvA94T5",
        "outputId": "1be2f5d2-4606-4cad-8112-041e5e3a322a"
      },
      "source": [
        "sentence_df.loc[sentence_df.id == top_10_similarity[3],'text'].values[0]"
      ],
      "execution_count": 110,
      "outputs": [
        {
          "output_type": "execute_result",
          "data": {
            "application/vnd.google.colaboratory.intrinsic+json": {
              "type": "string"
            },
            "text/plain": [
              "'Elbiler er for dyre, så længe produktionstallet er lavt, og så længe bilerne er dyre, er de svære at sælge.'"
            ]
          },
          "metadata": {
            "tags": []
          },
          "execution_count": 110
        }
      ]
    },
    {
      "cell_type": "code",
      "metadata": {
        "colab": {
          "base_uri": "https://localhost:8080/",
          "height": 35
        },
        "id": "YOdC0dHU94T6",
        "outputId": "e4692199-3927-4d70-e570-94d3abe2aef3"
      },
      "source": [
        "sentence_df.loc[sentence_df.id == top_10_similarity[4],'text'].values[0]"
      ],
      "execution_count": 111,
      "outputs": [
        {
          "output_type": "execute_result",
          "data": {
            "application/vnd.google.colaboratory.intrinsic+json": {
              "type": "string"
            },
            "text/plain": [
              "'Måske har du den forkerte læge?'"
            ]
          },
          "metadata": {
            "tags": []
          },
          "execution_count": 111
        }
      ]
    },
    {
      "cell_type": "code",
      "metadata": {
        "colab": {
          "base_uri": "https://localhost:8080/",
          "height": 35
        },
        "id": "eBcBYfar94T7",
        "outputId": "8c8257e0-2bbc-47bb-8100-3da19e50fe14"
      },
      "source": [
        "sentence_df.loc[sentence_df.id == top_10_similarity[5],'text'].values[0]"
      ],
      "execution_count": 112,
      "outputs": [
        {
          "output_type": "execute_result",
          "data": {
            "application/vnd.google.colaboratory.intrinsic+json": {
              "type": "string"
            },
            "text/plain": [
              "'Jeg kan kun spørge:'"
            ]
          },
          "metadata": {
            "tags": []
          },
          "execution_count": 112
        }
      ]
    },
    {
      "cell_type": "markdown",
      "metadata": {
        "id": "_7u1CtSuAXjC"
      },
      "source": [
        "## Option 7: Byte-pair encoding > embedding vectors > cosine similarity"
      ]
    },
    {
      "cell_type": "code",
      "metadata": {
        "id": "HlgtPbZp94T7",
        "outputId": "830497b2-f30c-4bda-f8c0-4fbc62d2be81",
        "colab": {
          "base_uri": "https://localhost:8080/"
        }
      },
      "source": [
        "# get the embedding vectors for each sub-word in a sentence \r\n",
        "bpemb_da_ids = bpemb_da.encode_ids(target_sentence.values[0])\r\n",
        "# embedding mean for each sentence with dimension - (1, embedding dim)\r\n",
        "bpemb_da.vectors[bpemb_da_ids].mean(axis = 0).shape"
      ],
      "execution_count": 174,
      "outputs": [
        {
          "output_type": "execute_result",
          "data": {
            "text/plain": [
              "(100,)"
            ]
          },
          "metadata": {
            "tags": []
          },
          "execution_count": 174
        }
      ]
    },
    {
      "cell_type": "code",
      "metadata": {
        "id": "-8Yous4k_C3f",
        "outputId": "c69d6872-5eeb-48ba-e362-7c8ede3246ba",
        "colab": {
          "base_uri": "https://localhost:8080/"
        }
      },
      "source": [
        "# apply on the cleaned sentences\r\n",
        "bpemb_da_vect_mat = sentence_df_cp_op1.apply(lambda x: bpemb_da.embed(x).mean(axis = 0))\r\n",
        "# convert to ndarray\r\n",
        "bpemb_da_vect_mat = np.array(bpemb_da_vect_mat.tolist())"
      ],
      "execution_count": 148,
      "outputs": [
        {
          "output_type": "stream",
          "text": [
            "/usr/local/lib/python3.6/dist-packages/ipykernel_launcher.py:1: RuntimeWarning: Mean of empty slice.\n",
            "  \"\"\"Entry point for launching an IPython kernel.\n"
          ],
          "name": "stderr"
        }
      ]
    },
    {
      "cell_type": "code",
      "metadata": {
        "id": "UhGzZM1_FED3",
        "outputId": "ace87acb-2a94-4e01-b8d2-807e98a52729",
        "colab": {
          "base_uri": "https://localhost:8080/"
        }
      },
      "source": [
        "# cases where emedding value is NaN\r\n",
        "print(np.where(np.isnan(bpemb_da_vect_mat)))\r\n",
        "# convert them to 0\r\n",
        "bpemb_da_vect_mat_cln = np.nan_to_num(bpemb_da_vect_mat)"
      ],
      "execution_count": 160,
      "outputs": [
        {
          "output_type": "stream",
          "text": [
            "(array([ 246,  246,  246, ..., 4211, 4211, 4211]), array([ 0,  1,  2, ..., 97, 98, 99]))\n"
          ],
          "name": "stdout"
        }
      ]
    },
    {
      "cell_type": "code",
      "metadata": {
        "id": "filOzxRiFVe5",
        "outputId": "ecbcdd7c-2e9a-42d8-e0c0-54b1f9155491",
        "colab": {
          "base_uri": "https://localhost:8080/"
        }
      },
      "source": [
        "# check few sample values\r\n",
        "bpemb_da_vect_mat_cln[4211,1]"
      ],
      "execution_count": 162,
      "outputs": [
        {
          "output_type": "execute_result",
          "data": {
            "text/plain": [
              "0.0"
            ]
          },
          "metadata": {
            "tags": []
          },
          "execution_count": 162
        }
      ]
    },
    {
      "cell_type": "markdown",
      "metadata": {
        "id": "sCMSDpT9CNaX"
      },
      "source": [
        "### Cosine similarity"
      ]
    },
    {
      "cell_type": "code",
      "metadata": {
        "id": "d-nEauzcCNad"
      },
      "source": [
        "# pairewise cosine similarity between sentence embeddings\n",
        "cosine_matrix = cosine_similarity(bpemb_da_vect_mat_cln)"
      ],
      "execution_count": 163,
      "outputs": []
    },
    {
      "cell_type": "code",
      "metadata": {
        "id": "paIfBthKCNaf"
      },
      "source": [
        "# convert to dataframe\n",
        "cosine_df = pd.DataFrame(cosine_matrix, columns = sentence_df['id'], index = sentence_df['id'])"
      ],
      "execution_count": 164,
      "outputs": []
    },
    {
      "cell_type": "code",
      "metadata": {
        "id": "f9kvvf1dCNag",
        "outputId": "543e7e40-d46e-4229-bd1c-a43b1ad279cd",
        "colab": {
          "base_uri": "https://localhost:8080/"
        }
      },
      "source": [
        "# select the row for target sentence\n",
        "target_cosine_array = cosine_df.loc['7-21-440',:]\n",
        "# sort descending\n",
        "target_cosine_array.sort_values(ascending = False)[:10]"
      ],
      "execution_count": 165,
      "outputs": [
        {
          "output_type": "execute_result",
          "data": {
            "text/plain": [
              "id\n",
              "7-21-440      1.000000\n",
              "7-61-865      0.585707\n",
              "34-86-122     0.585339\n",
              "34-89-799     0.579532\n",
              "6-47-994      0.576989\n",
              "36-84-3253    0.571422\n",
              "46-55-17      0.570974\n",
              "36-75-1782    0.569270\n",
              "38-13-1403    0.566970\n",
              "51-87-5225    0.561458\n",
              "Name: 7-21-440, dtype: float32"
            ]
          },
          "metadata": {
            "tags": []
          },
          "execution_count": 165
        }
      ]
    },
    {
      "cell_type": "code",
      "metadata": {
        "id": "i02R_DlJCNai"
      },
      "source": [
        "# gather indices for top 10 similr sentences\n",
        "top_10_similarity = target_cosine_array.sort_values(ascending = False)[:10].index.tolist()"
      ],
      "execution_count": 166,
      "outputs": []
    },
    {
      "cell_type": "code",
      "metadata": {
        "id": "jbMV3EBICNaj",
        "outputId": "9e4a5f0b-9d02-4ed7-996b-53646b235ffc",
        "colab": {
          "base_uri": "https://localhost:8080/",
          "height": 35
        }
      },
      "source": [
        "sentence_df.loc[sentence_df.id == top_10_similarity[1],'text'].values[0]"
      ],
      "execution_count": 167,
      "outputs": [
        {
          "output_type": "execute_result",
          "data": {
            "application/vnd.google.colaboratory.intrinsic+json": {
              "type": "string"
            },
            "text/plain": [
              "'En hund er et rovdyr.'"
            ]
          },
          "metadata": {
            "tags": []
          },
          "execution_count": 167
        }
      ]
    },
    {
      "cell_type": "code",
      "metadata": {
        "id": "Qdjvfr8bCNak",
        "outputId": "5a2ec7b3-d28d-49e3-c162-e14f406d4c01",
        "colab": {
          "base_uri": "https://localhost:8080/",
          "height": 35
        }
      },
      "source": [
        "sentence_df.loc[sentence_df.id == top_10_similarity[2],'text'].values[0]"
      ],
      "execution_count": 168,
      "outputs": [
        {
          "output_type": "execute_result",
          "data": {
            "application/vnd.google.colaboratory.intrinsic+json": {
              "type": "string"
            },
            "text/plain": [
              "'De danske håndbold- musketerer bruger ikke kun bold og harpiks.'"
            ]
          },
          "metadata": {
            "tags": []
          },
          "execution_count": 168
        }
      ]
    },
    {
      "cell_type": "code",
      "metadata": {
        "id": "SGXHCN8OCNal",
        "outputId": "38ef44ec-62d4-4403-bd6a-a06fd735cc4d",
        "colab": {
          "base_uri": "https://localhost:8080/",
          "height": 35
        }
      },
      "source": [
        "sentence_df.loc[sentence_df.id == top_10_similarity[3],'text'].values[0]"
      ],
      "execution_count": 169,
      "outputs": [
        {
          "output_type": "execute_result",
          "data": {
            "application/vnd.google.colaboratory.intrinsic+json": {
              "type": "string"
            },
            "text/plain": [
              "'Eller 1350 kroner for hver af de otte deltagere.'"
            ]
          },
          "metadata": {
            "tags": []
          },
          "execution_count": 169
        }
      ]
    },
    {
      "cell_type": "code",
      "metadata": {
        "id": "x60BsDFACNal",
        "outputId": "a75a0588-de99-46e2-fbb4-c64527f69e8e",
        "colab": {
          "base_uri": "https://localhost:8080/",
          "height": 35
        }
      },
      "source": [
        "sentence_df.loc[sentence_df.id == top_10_similarity[4],'text'].values[0]"
      ],
      "execution_count": 170,
      "outputs": [
        {
          "output_type": "execute_result",
          "data": {
            "application/vnd.google.colaboratory.intrinsic+json": {
              "type": "string"
            },
            "text/plain": [
              "'I dag er der ca.'"
            ]
          },
          "metadata": {
            "tags": []
          },
          "execution_count": 170
        }
      ]
    },
    {
      "cell_type": "code",
      "metadata": {
        "id": "FCg6GcCfCNam",
        "outputId": "8f06b5fc-0c4c-447b-aca6-3159d3731904",
        "colab": {
          "base_uri": "https://localhost:8080/",
          "height": 35
        }
      },
      "source": [
        "sentence_df.loc[sentence_df.id == top_10_similarity[5],'text'].values[0]"
      ],
      "execution_count": 171,
      "outputs": [
        {
          "output_type": "execute_result",
          "data": {
            "application/vnd.google.colaboratory.intrinsic+json": {
              "type": "string"
            },
            "text/plain": [
              "'Derudover er der flere danske profiler, som vender hjem fra udlandet.'"
            ]
          },
          "metadata": {
            "tags": []
          },
          "execution_count": 171
        }
      ]
    },
    {
      "cell_type": "code",
      "metadata": {
        "id": "2UVTFYcqGNDS"
      },
      "source": [
        ""
      ],
      "execution_count": null,
      "outputs": []
    }
  ]
}