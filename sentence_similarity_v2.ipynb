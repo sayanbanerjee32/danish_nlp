{
 "cells": [
  {
   "cell_type": "markdown",
   "metadata": {
    "colab_type": "text",
    "id": "view-in-github"
   },
   "source": [
    "<a href=\"https://colab.research.google.com/github/sayanbanerjee32/danish_nlp/blob/main/sentence_similarity_collab.ipynb\" target=\"_parent\"><img src=\"https://colab.research.google.com/assets/colab-badge.svg\" alt=\"Open In Colab\"/></a>"
   ]
  },
  {
   "cell_type": "markdown",
   "metadata": {
    "id": "SysYG9RiBA32"
   },
   "source": [
    "# Danish Sentence similarity"
   ]
  },
  {
   "cell_type": "code",
   "execution_count": 5,
   "metadata": {
    "id": "gEO5qpcxBA4U"
   },
   "outputs": [],
   "source": [
    "import pandas as pd\n",
    "from sklearn.metrics.pairwise import cosine_similarity\n",
    "import numpy as np"
   ]
  },
  {
   "cell_type": "code",
   "execution_count": 6,
   "metadata": {
    "id": "1yBp73D8BA4V"
   },
   "outputs": [],
   "source": [
    "# import os\n",
    "# os.chdir('D:/DataScienceWorkSpace/danish_sentence_similarty/src')"
   ]
  },
  {
   "cell_type": "code",
   "execution_count": 7,
   "metadata": {
    "id": "8x5EkZY2BA4W"
   },
   "outputs": [],
   "source": [
    "# data fie path in local\n",
    "data_file = 'https://raw.githubusercontent.com/lassehjorthmadsen/data-science-assignment/master/data/sentences.csv'\n",
    "#'../data/sentences.csv'"
   ]
  },
  {
   "cell_type": "code",
   "execution_count": 8,
   "metadata": {
    "colab": {
     "base_uri": "https://localhost:8080/",
     "height": 204
    },
    "id": "eE-fQPOmBA4W",
    "outputId": "c3399b1f-d87d-4c35-8b95-c0adf8786e4f"
   },
   "outputs": [
    {
     "data": {
      "text/html": [
       "<div>\n",
       "<style scoped>\n",
       "    .dataframe tbody tr th:only-of-type {\n",
       "        vertical-align: middle;\n",
       "    }\n",
       "\n",
       "    .dataframe tbody tr th {\n",
       "        vertical-align: top;\n",
       "    }\n",
       "\n",
       "    .dataframe thead th {\n",
       "        text-align: right;\n",
       "    }\n",
       "</style>\n",
       "<table border=\"1\" class=\"dataframe\">\n",
       "  <thead>\n",
       "    <tr style=\"text-align: right;\">\n",
       "      <th></th>\n",
       "      <th>id</th>\n",
       "      <th>text</th>\n",
       "    </tr>\n",
       "  </thead>\n",
       "  <tbody>\n",
       "    <tr>\n",
       "      <th>0</th>\n",
       "      <td>10-12-176</td>\n",
       "      <td>Vanddamp er en usynlig gas, der forekommer i s...</td>\n",
       "    </tr>\n",
       "    <tr>\n",
       "      <th>1</th>\n",
       "      <td>10-13-182</td>\n",
       "      <td>Er der nogen herinde der har erfaring med at k...</td>\n",
       "    </tr>\n",
       "    <tr>\n",
       "      <th>2</th>\n",
       "      <td>10-14-29</td>\n",
       "      <td>Ved ikke lige hvordan disse er i størrelsen?</td>\n",
       "    </tr>\n",
       "    <tr>\n",
       "      <th>3</th>\n",
       "      <td>10-16-39</td>\n",
       "      <td>Dog kan jeg godt lide pang farver;)</td>\n",
       "    </tr>\n",
       "    <tr>\n",
       "      <th>4</th>\n",
       "      <td>10-17-297</td>\n",
       "      <td>Pengene bliver dog ofte først udbetalt efter 5...</td>\n",
       "    </tr>\n",
       "  </tbody>\n",
       "</table>\n",
       "</div>"
      ],
      "text/plain": [
       "          id                                               text\n",
       "0  10-12-176  Vanddamp er en usynlig gas, der forekommer i s...\n",
       "1  10-13-182  Er der nogen herinde der har erfaring med at k...\n",
       "2   10-14-29       Ved ikke lige hvordan disse er i størrelsen?\n",
       "3   10-16-39                Dog kan jeg godt lide pang farver;)\n",
       "4  10-17-297  Pengene bliver dog ofte først udbetalt efter 5..."
      ]
     },
     "execution_count": 8,
     "metadata": {
      "tags": []
     },
     "output_type": "execute_result"
    }
   ],
   "source": [
    "# read the sentences in a dataframe\n",
    "sentence_df = pd.read_csv(data_file)\n",
    "sentence_df.head()"
   ]
  },
  {
   "cell_type": "code",
   "execution_count": 9,
   "metadata": {
    "colab": {
     "base_uri": "https://localhost:8080/",
     "height": 35
    },
    "id": "QyBr6QlnBA4X",
    "outputId": "8b10a531-6c04-4e5d-eba7-45eadad26428"
   },
   "outputs": [
    {
     "data": {
      "application/vnd.google.colaboratory.intrinsic+json": {
       "type": "string"
      },
      "text/plain": [
       "'Ifølge Dansk Kennelklub angriber muskelhunde dyr og mennesker cirka hver 14. dag.'"
      ]
     },
     "execution_count": 9,
     "metadata": {
      "tags": []
     },
     "output_type": "execute_result"
    }
   ],
   "source": [
    "# target sentence for finding similar senences\n",
    "target_sentence = sentence_df.loc[sentence_df['id']=='7-21-440','text']\n",
    "target_sentence.values[0]"
   ]
  },
  {
   "cell_type": "markdown",
   "metadata": {
    "id": "RGe9Rt8JBA4Y"
   },
   "source": [
    "English translation for this sentence - __According to the Danish Kennel Club, muscular dogs attack animals and humans approximately every 14 days.__"
   ]
  },
  {
   "cell_type": "markdown",
   "metadata": {
    "id": "TY11MG2dBA4Y"
   },
   "source": [
    "## Option 1: Toenization > cleaning > Count vectorizer / TF-IDF vectorizer > Similarity"
   ]
  },
  {
   "cell_type": "code",
   "execution_count": 25,
   "metadata": {
    "colab": {
     "base_uri": "https://localhost:8080/"
    },
    "id": "UDpY5OCmaueb",
    "outputId": "509dea65-1b19-4845-9416-3f63c52b2bc7"
   },
   "outputs": [
    {
     "name": "stdout",
     "output_type": "stream",
     "text": [
      "Collecting clean-text\n",
      "  Downloading https://files.pythonhosted.org/packages/78/30/7013e9bf37e00ad81406c771e8f5b071c624b8ab27a7984cd9b8434bed4f/clean_text-0.3.0-py3-none-any.whl\n",
      "Collecting ftfy<6.0,>=5.8\n",
      "\u001b[?25l  Downloading https://files.pythonhosted.org/packages/ff/e2/3b51c53dffb1e52d9210ebc01f1fb9f2f6eba9b3201fa971fd3946643c71/ftfy-5.8.tar.gz (64kB)\n",
      "\u001b[K     |████████████████████████████████| 71kB 6.9MB/s \n",
      "\u001b[?25hCollecting emoji\n",
      "\u001b[?25l  Downloading https://files.pythonhosted.org/packages/24/fa/b3368f41b95a286f8d300e323449ab4e86b85334c2e0b477e94422b8ed0f/emoji-1.2.0-py3-none-any.whl (131kB)\n",
      "\u001b[K     |████████████████████████████████| 133kB 18.2MB/s \n",
      "\u001b[?25hRequirement already satisfied: wcwidth in /usr/local/lib/python3.6/dist-packages (from ftfy<6.0,>=5.8->clean-text) (0.2.5)\n",
      "Building wheels for collected packages: ftfy\n",
      "  Building wheel for ftfy (setup.py) ... \u001b[?25l\u001b[?25hdone\n",
      "  Created wheel for ftfy: filename=ftfy-5.8-cp36-none-any.whl size=45613 sha256=70df5f4f3a6266b7f560c3dc239da5f3c5c003f5c3fbdbfc65b7975ae87c65fc\n",
      "  Stored in directory: /root/.cache/pip/wheels/ba/c0/ef/f28c4da5ac84a4e06ac256ca9182fc34fa57fefffdbc68425b\n",
      "Successfully built ftfy\n",
      "Installing collected packages: ftfy, emoji, clean-text\n",
      "Successfully installed clean-text-0.3.0 emoji-1.2.0 ftfy-5.8\n"
     ]
    }
   ],
   "source": [
    "#!pip install clean-text"
   ]
  },
  {
   "cell_type": "code",
   "execution_count": 26,
   "metadata": {
    "colab": {
     "base_uri": "https://localhost:8080/"
    },
    "id": "eM8wwm3uBA4Z",
    "outputId": "e2230178-62c9-4c5c-d941-74ab94cf6d09"
   },
   "outputs": [
    {
     "name": "stderr",
     "output_type": "stream",
     "text": [
      "Since the GPL-licensed package `unidecode` is not installed, using Python's `unicodedata` package which yields worse results.\n"
     ]
    }
   ],
   "source": [
    "import nltk\n",
    "from nltk.corpus import stopwords\n",
    "from sklearn.feature_extraction.text import CountVectorizer, TfidfVectorizer\n",
    "from nltk.stem.snowball import DanishStemmer\n",
    "\n",
    "\n",
    "from cleantext import clean"
   ]
  },
  {
   "cell_type": "code",
   "execution_count": 29,
   "metadata": {
    "colab": {
     "base_uri": "https://localhost:8080/"
    },
    "id": "uQId98B1BA4Z",
    "outputId": "3cfbb666-70c7-4b0a-b34a-77b1e262c8d3"
   },
   "outputs": [
    {
     "data": {
      "text/plain": [
       "['iflg',\n",
       " 'dansk',\n",
       " 'kennelklub',\n",
       " 'angrib',\n",
       " 'muskelhund',\n",
       " 'dyr',\n",
       " 'og',\n",
       " 'mennesk',\n",
       " 'cirka',\n",
       " 'hver',\n",
       " 'dag']"
      ]
     },
     "execution_count": 29,
     "metadata": {
      "tags": []
     },
     "output_type": "execute_result"
    }
   ],
   "source": [
    "# tokenization function with Danish language Stemmer\n",
    "def tokenize(text):\n",
    "    tokens = nltk.word_tokenize(text)\n",
    "    stems = []\n",
    "    for item in tokens:\n",
    "        stems.append(DanishStemmer().stem(item))\n",
    "    return stems\n",
    "\n",
    "# clean text by lowering abd removing email, number, url, currency, punctuation, \n",
    "def normalize_text(text):\n",
    "    return clean(text,\n",
    "     no_urls=True,                  # replace all URLs with a special token\n",
    "    no_emails=True,                # replace all email addresses with a special token\n",
    "    no_phone_numbers=True,         # replace all phone numbers with a special token\n",
    "    no_numbers=True,               # replace all numbers with a special token\n",
    "    no_digits=True,                # replace all digits with a special token\n",
    "    no_currency_symbols=True,      # replace all currency symbols with a special token\n",
    "    no_punct=True,\n",
    "    replace_with_punct=\"\",          # instead of removing punctuations you may replace them\n",
    "    replace_with_url=\"\",\n",
    "    replace_with_email=\"\",\n",
    "    replace_with_phone_number=\"\",\n",
    "    replace_with_number=\"\",\n",
    "    replace_with_currency_symbol=\"\",\n",
    "#     replace_with_punct=\" ~PUNCT~ \",          # instead of removing punctuations you may replace them\n",
    "#     replace_with_url=\" ~URL~ \",\n",
    "#     replace_with_email=\" ~EMAIL~ \",\n",
    "#     replace_with_phone_number=\" ~PHONE~ \",\n",
    "#     replace_with_number=\" ~NUMBER~ \",\n",
    "#     replace_with_currency_symbol=\" ~CUR~ \",\n",
    "    lang=\"de\") # german is used as assumed that german would be closeer to Danish that english\n",
    "\n",
    "# sample output for the target text\n",
    "tokenize(normalize_text(target_sentence.values[0]))"
   ]
  },
  {
   "cell_type": "code",
   "execution_count": 34,
   "metadata": {
    "colab": {
     "base_uri": "https://localhost:8080/"
    },
    "id": "xbAAB00uBA4a",
    "outputId": "56cc6e18-e256-401a-de02-502552770654"
   },
   "outputs": [
    {
     "data": {
      "text/plain": [
       "0       vanddamp er en usynlig gas der forekommer i st...\n",
       "1       er der nogen herinde der har erfaring med at k...\n",
       "2              ved ikke lige hvordan disse er i strrelsen\n",
       "3                       dog kan jeg godt lide pang farver\n",
       "4       pengene bliver dog ofte frst udbetalt efter da...\n",
       "                              ...                        \n",
       "4995    i dag i idrt skulle vi sa have bip test hvor j...\n",
       "4996    p men tnkt nu hvis de bragte mere fra danskspr...\n",
       "4997                             kathani hejsa allesammen\n",
       "4998    weeeeeee jeg har mega optur pa de var begge mi...\n",
       "4999    archon der blev jo ikke sagt noget om hvem der...\n",
       "Name: text, Length: 5000, dtype: object"
      ]
     },
     "execution_count": 34,
     "metadata": {
      "tags": []
     },
     "output_type": "execute_result"
    }
   ],
   "source": [
    "# create a replica of the sentence dataframe for processing\n",
    "sentence_df_cp_op1 = sentence_df.copy()\n",
    "sentence_df_cp_op1 = sentence_df_cp_op1.text.apply(normalize_text)\n",
    "sentence_df_cp_op1"
   ]
  },
  {
   "cell_type": "markdown",
   "metadata": {
    "id": "WkFJg4kaBA4b"
   },
   "source": [
    "### Cosine similarity on count vectorizer"
   ]
  },
  {
   "cell_type": "code",
   "execution_count": null,
   "metadata": {
    "id": "9Vz9dCbIBA4b",
    "outputId": "de828b81-4ca4-4b34-a1b5-8cdb800c60a9"
   },
   "outputs": [
    {
     "data": {
      "text/plain": [
       "(5000, 13574)"
      ]
     },
     "execution_count": 111,
     "metadata": {
      "tags": []
     },
     "output_type": "execute_result"
    }
   ],
   "source": [
    "# fit count vectorizer with Danish stop words\n",
    "# use the custom tokenizer with Danish Stemmer\n",
    "count_vect = CountVectorizer(tokenizer=tokenize, stop_words=stopwords.words('danish'))\n",
    "# fit on cleaned text\n",
    "count_vect_matrix = count_vect.fit_transform(sentence_df_cp_op1)\n",
    "# vocab sze 13574\n",
    "count_vect_matrix.shape"
   ]
  },
  {
   "cell_type": "code",
   "execution_count": null,
   "metadata": {
    "id": "paR8bIPhBA4c"
   },
   "outputs": [],
   "source": [
    "# find cosine similarity for the count vector matrix\n",
    "cosine_matrix_cv = cosine_similarity(count_vect_matrix)"
   ]
  },
  {
   "cell_type": "code",
   "execution_count": null,
   "metadata": {
    "id": "vWL5GTs5BA4c"
   },
   "outputs": [],
   "source": [
    "# convert to Data Frame\n",
    "cosine_df_cv = pd.DataFrame(cosine_matrix_cv, columns = sentence_df['id'], index = sentence_df['id'])"
   ]
  },
  {
   "cell_type": "code",
   "execution_count": null,
   "metadata": {
    "id": "gC-BEQFABA4c",
    "outputId": "48d471fd-119c-4c1b-c2d9-4acaa41711c6"
   },
   "outputs": [
    {
     "data": {
      "text/plain": [
       "id\n",
       "7-21-440      1.000000\n",
       "47-2-28       0.316228\n",
       "51-33-2622    0.258199\n",
       "36-0-1231     0.239046\n",
       "42-26-238     0.239046\n",
       "6-37-308      0.223607\n",
       "45-86-368     0.223607\n",
       "38-8-2425     0.223607\n",
       "51-89-2877    0.223607\n",
       "20-10-28      0.223607\n",
       "Name: 7-21-440, dtype: float64"
      ]
     },
     "execution_count": 114,
     "metadata": {
      "tags": []
     },
     "output_type": "execute_result"
    }
   ],
   "source": [
    "# select the row for target sentence\n",
    "target_cosine_array = cosine_df_cv.loc['7-21-440',:]\n",
    "# sort descending\n",
    "target_cosine_array.sort_values(ascending = False)[:10]"
   ]
  },
  {
   "cell_type": "code",
   "execution_count": null,
   "metadata": {
    "id": "fwWdFZZrBA4d"
   },
   "outputs": [],
   "source": [
    "# gather indices for top 10 similar sentences\n",
    "top_10_similarity = target_cosine_array.sort_values(ascending = False)[:10].index.tolist()"
   ]
  },
  {
   "cell_type": "code",
   "execution_count": null,
   "metadata": {
    "id": "JKZJY0dbBA4d",
    "outputId": "35416994-cda2-42d3-aa1a-b7daf9c1d2b8"
   },
   "outputs": [
    {
     "data": {
      "text/plain": [
       "'I dag'"
      ]
     },
     "execution_count": 123,
     "metadata": {
      "tags": []
     },
     "output_type": "execute_result"
    }
   ],
   "source": [
    "sentence_df.loc[sentence_df.id == top_10_similarity[1],'text'].values[0]"
   ]
  },
  {
   "cell_type": "code",
   "execution_count": null,
   "metadata": {
    "id": "RGY6rWLuBA4e",
    "outputId": "90570a13-6747-424f-cd3e-71760c820d07"
   },
   "outputs": [
    {
     "data": {
      "text/plain": [
       "'Hver dag i december op til juleaften sendes et afsnit.'"
      ]
     },
     "execution_count": 122,
     "metadata": {
      "tags": []
     },
     "output_type": "execute_result"
    }
   ],
   "source": [
    "sentence_df.loc[sentence_df.id == top_10_similarity[2],'text'].values[0]"
   ]
  },
  {
   "cell_type": "code",
   "execution_count": null,
   "metadata": {
    "id": "DFNa9TNNBA4e",
    "outputId": "6a7616a0-0f38-49b6-edb5-882d603ce875"
   },
   "outputs": [
    {
     "data": {
      "text/plain": [
       "'Det er der min arbejdsinteresse ligger, og det er noget, som jeg kan bruge hver dag.'"
      ]
     },
     "execution_count": 118,
     "metadata": {
      "tags": []
     },
     "output_type": "execute_result"
    }
   ],
   "source": [
    "sentence_df.loc[sentence_df.id == top_10_similarity[3],'text'].values[0]"
   ]
  },
  {
   "cell_type": "code",
   "execution_count": null,
   "metadata": {
    "id": "V7OL-OeHBA4e",
    "outputId": "6d225d3e-ddd5-439a-e153-047d1edc8cd8"
   },
   "outputs": [
    {
     "data": {
      "text/plain": [
       "'Danskerne er blandt de europæere, som hver for sig producerer mest affald.'"
      ]
     },
     "execution_count": 119,
     "metadata": {
      "tags": []
     },
     "output_type": "execute_result"
    }
   ],
   "source": [
    "sentence_df.loc[sentence_df.id == top_10_similarity[4],'text'].values[0]"
   ]
  },
  {
   "cell_type": "code",
   "execution_count": null,
   "metadata": {
    "id": "qa-7A0Q9BA4f",
    "outputId": "e925385e-3fcd-49ef-889c-bd85b1d0d3ba"
   },
   "outputs": [
    {
     "data": {
      "text/plain": [
       "'Hovedårsagen til, at Katrina blev så dyr, at skaderne blev så omfangsrige, er ganske enkelt, at der i dag bor langt flere mennesker i kystområderne end tidligere.'"
      ]
     },
     "execution_count": 120,
     "metadata": {
      "tags": []
     },
     "output_type": "execute_result"
    }
   ],
   "source": [
    "sentence_df.loc[sentence_df.id == top_10_similarity[5],'text'].values[0]"
   ]
  },
  {
   "cell_type": "markdown",
   "metadata": {
    "id": "uWd3V9NpBA4f"
   },
   "source": [
    "### Cosine similarity on TF-IDF vectorizer"
   ]
  },
  {
   "cell_type": "code",
   "execution_count": null,
   "metadata": {
    "id": "WJtrTtX4BA4f",
    "outputId": "7ba772c1-9205-4cb0-8a0d-bf1d3d770268"
   },
   "outputs": [
    {
     "name": "stderr",
     "output_type": "stream",
     "text": [
      "D:\\Anaconda\\envs\\danish_nlp\\lib\\site-packages\\sklearn\\feature_extraction\\text.py:386: UserWarning: Your stop_words may be inconsistent with your preprocessing. Tokenizing the stop words generated tokens ['all', 'and', 'bliv', 'dis', 'eft', 'ell', 'hav', 'havd', 'hend', 'ikk', 'kun', 'mang', 'meg', 'nog', 'nogl', 'skul', 'und', 'vær'] not in stop_words.\n",
      "  'stop_words.' % sorted(inconsistent))\n"
     ]
    },
    {
     "data": {
      "text/plain": [
       "(5000, 13574)"
      ]
     },
     "execution_count": 127,
     "metadata": {
      "tags": []
     },
     "output_type": "execute_result"
    }
   ],
   "source": [
    "# fit tf-idf vectorizer with Danish stop words\n",
    "# use the custom tokenizer with Danish Stemmer\n",
    "tfidf_vect = TfidfVectorizer(tokenizer=tokenize, stop_words=stopwords.words('danish'))\n",
    "# fit on cleaned text\n",
    "tfidf_vect_matrix = tfidf_vect.fit_transform(sentence_df_cp_op1)\n",
    "tfidf_vect_matrix.shape"
   ]
  },
  {
   "cell_type": "code",
   "execution_count": null,
   "metadata": {
    "id": "4kI114NJBA4g"
   },
   "outputs": [],
   "source": [
    "# pairwise cosine similarity for tf-idf vector matrix\n",
    "cosine_matrix_ti = cosine_similarity(tfidf_vect_matrix)"
   ]
  },
  {
   "cell_type": "code",
   "execution_count": null,
   "metadata": {
    "id": "FNmyVxtfBA4i"
   },
   "outputs": [],
   "source": [
    "# convert to DF\n",
    "cosine_df_ti = pd.DataFrame(cosine_matrix_ti, columns = sentence_df['id'], index = sentence_df['id'])"
   ]
  },
  {
   "cell_type": "code",
   "execution_count": null,
   "metadata": {
    "id": "0xzUG-CQBA4j",
    "outputId": "6efe8a83-8ad6-43a6-c191-0efef2b784a1"
   },
   "outputs": [
    {
     "data": {
      "text/plain": [
       "id\n",
       "7-21-440      1.000000\n",
       "47-2-28       0.216134\n",
       "38-20-1059    0.180219\n",
       "45-86-368     0.179803\n",
       "36-0-1231     0.174177\n",
       "38-78-1469    0.167071\n",
       "34-2-723      0.166653\n",
       "6-37-308      0.166108\n",
       "40-81-2158    0.154190\n",
       "51-33-2622    0.152718\n",
       "Name: 7-21-440, dtype: float64"
      ]
     },
     "execution_count": 130,
     "metadata": {
      "tags": []
     },
     "output_type": "execute_result"
    }
   ],
   "source": [
    "# select row for target sentence\n",
    "target_cosine_array = cosine_df_ti.loc['7-21-440',:]\n",
    "# sort descending\n",
    "target_cosine_array.sort_values(ascending = False)[:10]"
   ]
  },
  {
   "cell_type": "code",
   "execution_count": null,
   "metadata": {
    "id": "G7Rrsh0DBA4j"
   },
   "outputs": [],
   "source": [
    "# Indices for top 10 similr sentences\n",
    "top_10_similarity = target_cosine_array.sort_values(ascending = False)[:10].index.tolist()"
   ]
  },
  {
   "cell_type": "code",
   "execution_count": null,
   "metadata": {
    "id": "9yS0zRgBBA4j",
    "outputId": "1cb7ac7a-7f1f-4d8b-f2d9-636cc0d08992"
   },
   "outputs": [
    {
     "data": {
      "text/plain": [
       "'I dag'"
      ]
     },
     "execution_count": 132,
     "metadata": {
      "tags": []
     },
     "output_type": "execute_result"
    }
   ],
   "source": [
    "sentence_df.loc[sentence_df.id == top_10_similarity[1],'text'].values[0]"
   ]
  },
  {
   "cell_type": "code",
   "execution_count": null,
   "metadata": {
    "id": "toXHMiRhBA4k",
    "outputId": "27d70c87-78d6-4220-910d-92b9ff9dd652"
   },
   "outputs": [
    {
     "data": {
      "text/plain": [
       "'Jeg ved, at niveauet er højt blandt alle angriberne i Serie A og kræver en toppræstation hver eneste gang.'"
      ]
     },
     "execution_count": 133,
     "metadata": {
      "tags": []
     },
     "output_type": "execute_result"
    }
   ],
   "source": [
    "sentence_df.loc[sentence_df.id == top_10_similarity[2],'text'].values[0]"
   ]
  },
  {
   "cell_type": "code",
   "execution_count": null,
   "metadata": {
    "id": "OYvvzkXLBA4l",
    "outputId": "d4d85fb5-904d-4edd-a00e-04bfdd8c05b2"
   },
   "outputs": [
    {
     "data": {
      "text/plain": [
       "'Hvad er dyrets yndlingsfoder?'"
      ]
     },
     "execution_count": 134,
     "metadata": {
      "tags": []
     },
     "output_type": "execute_result"
    }
   ],
   "source": [
    "sentence_df.loc[sentence_df.id == top_10_similarity[3],'text'].values[0]"
   ]
  },
  {
   "cell_type": "code",
   "execution_count": null,
   "metadata": {
    "id": "EaYOzsNWBA4l",
    "outputId": "b61c4321-11b8-4b50-8166-8d011abab286"
   },
   "outputs": [
    {
     "data": {
      "text/plain": [
       "'Det er der min arbejdsinteresse ligger, og det er noget, som jeg kan bruge hver dag.'"
      ]
     },
     "execution_count": 135,
     "metadata": {
      "tags": []
     },
     "output_type": "execute_result"
    }
   ],
   "source": [
    "sentence_df.loc[sentence_df.id == top_10_similarity[4],'text'].values[0]"
   ]
  },
  {
   "cell_type": "code",
   "execution_count": null,
   "metadata": {
    "id": "iIWROOGkBA4m",
    "outputId": "441d7ab6-1b79-408d-ace8-2950032e72c7"
   },
   "outputs": [
    {
     "data": {
      "text/plain": [
       "'Men det fik ikke den farlige angriber til at skåne City.'"
      ]
     },
     "execution_count": 136,
     "metadata": {
      "tags": []
     },
     "output_type": "execute_result"
    }
   ],
   "source": [
    "sentence_df.loc[sentence_df.id == top_10_similarity[5],'text'].values[0]"
   ]
  },
  {
   "cell_type": "markdown",
   "metadata": {
    "id": "Ysev0_7BBA4n"
   },
   "source": [
    "## Option 2: spaCy word embedding vector for sentence similarity"
   ]
  },
  {
   "cell_type": "code",
   "execution_count": null,
   "metadata": {
    "id": "StexwZIxBA4n"
   },
   "outputs": [],
   "source": [
    "import spacy"
   ]
  },
  {
   "cell_type": "code",
   "execution_count": null,
   "metadata": {
    "id": "a33Q9tO1BA4n"
   },
   "outputs": [],
   "source": [
    "# load a spaCy model, depending on language, scale, etc.\n",
    "nlp = spacy.load(\"da_core_news_md\")"
   ]
  },
  {
   "cell_type": "code",
   "execution_count": null,
   "metadata": {
    "id": "0Rc_GSf1BA4o",
    "outputId": "e5352762-d8eb-4cd1-d18a-fce4be1b0dcb"
   },
   "outputs": [
    {
     "data": {
      "text/html": [
       "<div>\n",
       "<style scoped>\n",
       "    .dataframe tbody tr th:only-of-type {\n",
       "        vertical-align: middle;\n",
       "    }\n",
       "\n",
       "    .dataframe tbody tr th {\n",
       "        vertical-align: top;\n",
       "    }\n",
       "\n",
       "    .dataframe thead th {\n",
       "        text-align: right;\n",
       "    }\n",
       "</style>\n",
       "<table border=\"1\" class=\"dataframe\">\n",
       "  <thead>\n",
       "    <tr style=\"text-align: right;\">\n",
       "      <th></th>\n",
       "      <th>text</th>\n",
       "    </tr>\n",
       "    <tr>\n",
       "      <th>id</th>\n",
       "      <th></th>\n",
       "    </tr>\n",
       "  </thead>\n",
       "  <tbody>\n",
       "    <tr>\n",
       "      <th>10-12-176</th>\n",
       "      <td>vanddamp er en usynlig gas der forekommer i st...</td>\n",
       "    </tr>\n",
       "    <tr>\n",
       "      <th>10-13-182</th>\n",
       "      <td>er der nogen herinde der har erfaring med at k...</td>\n",
       "    </tr>\n",
       "    <tr>\n",
       "      <th>10-14-29</th>\n",
       "      <td>ved ikke lige hvordan disse er i strrelsen</td>\n",
       "    </tr>\n",
       "    <tr>\n",
       "      <th>10-16-39</th>\n",
       "      <td>dog kan jeg godt lide pang farver</td>\n",
       "    </tr>\n",
       "    <tr>\n",
       "      <th>10-17-297</th>\n",
       "      <td>pengene bliver dog ofte frst udbetalt efter da...</td>\n",
       "    </tr>\n",
       "  </tbody>\n",
       "</table>\n",
       "</div>"
      ],
      "text/plain": [
       "                                                        text\n",
       "id                                                          \n",
       "10-12-176  vanddamp er en usynlig gas der forekommer i st...\n",
       "10-13-182  er der nogen herinde der har erfaring med at k...\n",
       "10-14-29          ved ikke lige hvordan disse er i strrelsen\n",
       "10-16-39                   dog kan jeg godt lide pang farver\n",
       "10-17-297  pengene bliver dog ofte frst udbetalt efter da..."
      ]
     },
     "execution_count": 15,
     "metadata": {
      "tags": []
     },
     "output_type": "execute_result"
    }
   ],
   "source": [
    "# create replica for cleaned text df from last section\n",
    "sentence_df_cp_op2 = sentence_df_cp_op1.copy()\n",
    "sentence_df_cp_op2 = pd.DataFrame(sentence_df_cp_op2.values, columns = ['text'], index = sentence_df['id'])\n",
    "sentence_df_cp_op2.head() "
   ]
  },
  {
   "cell_type": "code",
   "execution_count": null,
   "metadata": {
    "id": "S_ShmAA9BA4o"
   },
   "outputs": [],
   "source": [
    "# nlp pipeline for target sentence\n",
    "base = nlp(sentence_df_cp_op2.loc['7-21-440',:].values[0])"
   ]
  },
  {
   "cell_type": "code",
   "execution_count": null,
   "metadata": {
    "id": "ZqBE338WBA4p"
   },
   "outputs": [],
   "source": [
    "# custom function for similarity scoring between 2 sentences\n",
    "def calculate_similarity(text2):\n",
    "    compare = nlp(text2)\n",
    "    return base.similarity(compare)"
   ]
  },
  {
   "cell_type": "code",
   "execution_count": null,
   "metadata": {
    "id": "MRUP3q9QBA4q",
    "outputId": "683526ec-2970-4702-b530-7201d3c2533c"
   },
   "outputs": [
    {
     "name": "stderr",
     "output_type": "stream",
     "text": [
      "D:\\Anaconda\\envs\\danish_nlp\\lib\\site-packages\\ipykernel_launcher.py:3: UserWarning: [W008] Evaluating Doc.similarity based on empty vectors.\n",
      "  This is separate from the ipykernel package so we can avoid doing imports until\n"
     ]
    }
   ],
   "source": [
    "# apply on each row\n",
    "sentence_df_cp_op2['sim_score'] = sentence_df_cp_op2['text'].apply(calculate_similarity)"
   ]
  },
  {
   "cell_type": "code",
   "execution_count": null,
   "metadata": {
    "id": "a8PbIuCXBA4q"
   },
   "outputs": [],
   "source": [
    "# sort descending\n",
    "sentence_df_cp_op2.sort_values(by = ['sim_score'], ascending = False, inplace = True)"
   ]
  },
  {
   "cell_type": "code",
   "execution_count": null,
   "metadata": {
    "id": "ucsOu4pmBA4r"
   },
   "outputs": [],
   "source": [
    "# top 10 similar sentences, index 0 being the sentence itself\n",
    "top_10 = sentence_df_cp_op2.iloc[:10,:]['text']"
   ]
  },
  {
   "cell_type": "code",
   "execution_count": null,
   "metadata": {
    "id": "PG2sXooBBA4r",
    "outputId": "8e5a2b71-7a36-47d5-f5f9-3704348a49e5"
   },
   "outputs": [
    {
     "data": {
      "text/plain": [
       "'nar man kommer slbende med vrkende kn og ildrd nse efter timers vandring gr det godt at stte sig til bordet sammen med de andre gster og bliver krset for i en fransk bjerghytte'"
      ]
     },
     "execution_count": 39,
     "metadata": {
      "tags": []
     },
     "output_type": "execute_result"
    }
   ],
   "source": [
    "top_10[1]"
   ]
  },
  {
   "cell_type": "code",
   "execution_count": null,
   "metadata": {
    "id": "sZqE-yMCBA4s",
    "outputId": "03c23db9-b677-4383-c026-ed877226fdf9"
   },
   "outputs": [
    {
     "data": {
      "text/plain": [
       "'stadig flere danskere fatter interesse for den kontante sportsgren hvor veltrnede mnd pa langt over kilo kaster sig efter hinanden'"
      ]
     },
     "execution_count": 34,
     "metadata": {
      "tags": []
     },
     "output_type": "execute_result"
    }
   ],
   "source": [
    "top_10[2]"
   ]
  },
  {
   "cell_type": "code",
   "execution_count": null,
   "metadata": {
    "id": "BbtNlMXYBA4s",
    "outputId": "2fd33028-3e46-4bce-e1af-c997043f6687"
   },
   "outputs": [
    {
     "data": {
      "text/plain": [
       "'det tager i hvert fald en hel dag at overvre indmarchen af de snorlige rkker af musketerer farverige flagkastere grnne skytter krigere med armbrster byens skyttedronning og de forskellige madvogne som helt bogstaveligt smider brd og plser i hovedet pa publikum'"
      ]
     },
     "execution_count": 35,
     "metadata": {
      "tags": []
     },
     "output_type": "execute_result"
    }
   ],
   "source": [
    "top_10[3]"
   ]
  },
  {
   "cell_type": "code",
   "execution_count": null,
   "metadata": {
    "id": "kX_cFgBgBA4t",
    "outputId": "b25eac5e-4256-47fa-b434-4541ae727951"
   },
   "outputs": [
    {
     "data": {
      "text/plain": [
       "'og nok stter to unge mnd sig pa fortovscafeen og far en kop kaffe og taler arabisk men det er cafe latte de taler ogsa dansk og de har parkeret en stor kassevogn foran cafeen'"
      ]
     },
     "execution_count": 36,
     "metadata": {
      "tags": []
     },
     "output_type": "execute_result"
    }
   ],
   "source": [
    "top_10[4]"
   ]
  },
  {
   "cell_type": "code",
   "execution_count": null,
   "metadata": {
    "id": "8LgxUdRMBA4t",
    "outputId": "ca627d81-4823-496a-9847-98e79cddc037"
   },
   "outputs": [
    {
     "data": {
      "text/plain": [
       "'hver lrdag klokken mdes en gruppe kinesiske forldre og deres brn i little mermaid chinese culture school der startede som et privat initiativ i mens forldrene sludrer og dyrker tai chi far brnene undervisning i kinesisk sprog og kultur i de lante klasselokaler'"
      ]
     },
     "execution_count": 37,
     "metadata": {
      "tags": []
     },
     "output_type": "execute_result"
    }
   ],
   "source": [
    "top_10[5]"
   ]
  },
  {
   "cell_type": "markdown",
   "metadata": {
    "id": "M5AoVaCJBA4u"
   },
   "source": [
    "## Option 3: BERT embedding for Danish > Similarity"
   ]
  },
  {
   "cell_type": "code",
   "execution_count": null,
   "metadata": {
    "id": "5EYsrBA5BA4u"
   },
   "outputs": [],
   "source": [
    "# BERT based sentence embedding for Danish\n",
    "from danish_bert_embeddings import DanishBertEmbeddings\n",
    "embedder = DanishBertEmbeddings()"
   ]
  },
  {
   "cell_type": "code",
   "execution_count": null,
   "metadata": {
    "id": "MQpG4CPeBA4u"
   },
   "outputs": [],
   "source": [
    "# sample embedding\n",
    "embedding = embedder.embed(target_sentence.values[0])"
   ]
  },
  {
   "cell_type": "code",
   "execution_count": null,
   "metadata": {
    "id": "3ve3WJgBBA4v",
    "outputId": "826cf76b-e5a5-4c5c-efb2-de49a8a9239a"
   },
   "outputs": [
    {
     "data": {
      "text/plain": [
       "torch.Size([768])"
      ]
     },
     "execution_count": 12,
     "metadata": {
      "tags": []
     },
     "output_type": "execute_result"
    }
   ],
   "source": [
    "embedding.shape"
   ]
  },
  {
   "cell_type": "code",
   "execution_count": null,
   "metadata": {
    "id": "clmi4KzVBA4v"
   },
   "outputs": [],
   "source": [
    "# convert to embedding for each sentence\n",
    "sentence_df_embed = sentence_df['text'].apply(embedder.embed)"
   ]
  },
  {
   "cell_type": "code",
   "execution_count": null,
   "metadata": {
    "id": "yCqVw4UoBA4v"
   },
   "outputs": [],
   "source": [
    "# convert to np array\n",
    "sentence_embed_list = [t.numpy() for t in sentence_df_embed]"
   ]
  },
  {
   "cell_type": "markdown",
   "metadata": {
    "id": "MCraL9YdBA4w"
   },
   "source": [
    "### Cosine similarity"
   ]
  },
  {
   "cell_type": "code",
   "execution_count": null,
   "metadata": {
    "id": "T9n7SZYpBA4w"
   },
   "outputs": [],
   "source": [
    "# pairewwise cosine similarity between sentence embeddings\n",
    "cosine_matrix = cosine_similarity(sentence_embed_list)"
   ]
  },
  {
   "cell_type": "code",
   "execution_count": null,
   "metadata": {
    "id": "6Ik6b5hdBA4w"
   },
   "outputs": [],
   "source": [
    "# convert to dataframe\n",
    "cosine_df = pd.DataFrame(cosine_matrix, columns = sentence_df['id'], index = sentence_df['id'])"
   ]
  },
  {
   "cell_type": "code",
   "execution_count": null,
   "metadata": {
    "id": "M5v3FuShBA4x",
    "outputId": "b5638a00-b44c-4c58-c595-4b6b6a0d2ce0"
   },
   "outputs": [
    {
     "data": {
      "text/plain": [
       "id\n",
       "7-21-440      1.000000\n",
       "38-21-615     0.713109\n",
       "36-0-2615     0.705893\n",
       "6-37-308      0.705858\n",
       "51-3-3235     0.699858\n",
       "36-7-877      0.694900\n",
       "40-44-510     0.693219\n",
       "3-28-67       0.692790\n",
       "38-59-1673    0.692642\n",
       "51-34-3098    0.692097\n",
       "Name: 7-21-440, dtype: float32"
      ]
     },
     "execution_count": 52,
     "metadata": {
      "tags": []
     },
     "output_type": "execute_result"
    }
   ],
   "source": [
    "# select the row for target sentence\n",
    "target_cosine_array = cosine_df.loc['7-21-440',:]\n",
    "# sort descending\n",
    "target_cosine_array.sort_values(ascending = False)[:10]"
   ]
  },
  {
   "cell_type": "code",
   "execution_count": null,
   "metadata": {
    "id": "sw0DE2s7BA4x"
   },
   "outputs": [],
   "source": [
    "# gather indices for top 10 similr sentences\n",
    "top_10_similarity = target_cosine_array.sort_values(ascending = False)[:10].index.tolist()"
   ]
  },
  {
   "cell_type": "code",
   "execution_count": null,
   "metadata": {
    "id": "XagZkf4yBA4x",
    "outputId": "1caed1af-f889-4b3b-dfe6-27baae1e1f6e"
   },
   "outputs": [
    {
     "data": {
      "text/plain": [
       "'Han er fossilekspert, og foruden at være museumsinspektør ved Geomuseum Faxe er han forsker ved Københavns Universitet:\" Over revet var der 200- 400 meter havvand, og Thoracosaurus har- akkurat som nulevende havkrokodiller- jagtet sit bytte i de øvre vandlag.'"
      ]
     },
     "execution_count": 61,
     "metadata": {
      "tags": []
     },
     "output_type": "execute_result"
    }
   ],
   "source": [
    "sentence_df.loc[sentence_df.id == top_10_similarity[1],'text'].values[0]"
   ]
  },
  {
   "cell_type": "code",
   "execution_count": null,
   "metadata": {
    "id": "GuB6F9mlBA4y",
    "outputId": "cfb6ee98-1f71-4e22-9525-95e2dd7ad1a5"
   },
   "outputs": [
    {
     "data": {
      "text/plain": [
       "'På 24 timer mellem 15. og 16. april 1949 fløj 1. 398 maskiner i alt 12. 849 tons fragt ind til den isolerede storby'"
      ]
     },
     "execution_count": 62,
     "metadata": {
      "tags": []
     },
     "output_type": "execute_result"
    }
   ],
   "source": [
    "sentence_df.loc[sentence_df.id == top_10_similarity[2],'text'].values[0]"
   ]
  },
  {
   "cell_type": "code",
   "execution_count": null,
   "metadata": {
    "id": "XtWb2gYPBA4y",
    "outputId": "8f27b199-10cb-4963-be1c-be48048ad4b1"
   },
   "outputs": [
    {
     "data": {
      "text/plain": [
       "'Hovedårsagen til, at Katrina blev så dyr, at skaderne blev så omfangsrige, er ganske enkelt, at der i dag bor langt flere mennesker i kystområderne end tidligere.'"
      ]
     },
     "execution_count": 63,
     "metadata": {
      "tags": []
     },
     "output_type": "execute_result"
    }
   ],
   "source": [
    "sentence_df.loc[sentence_df.id == top_10_similarity[3],'text'].values[0]"
   ]
  },
  {
   "cell_type": "code",
   "execution_count": null,
   "metadata": {
    "id": "faRTVbmwBA4y",
    "outputId": "36ddd70d-d879-4981-988f-1847ff4c349e"
   },
   "outputs": [
    {
     "data": {
      "text/plain": [
       "'Men indtil nu er alle teorierne kommet mere eller mindre til kort, da man hele tiden kan finde dyr, der har noget, der ligner menneskelige egenskaber.'"
      ]
     },
     "execution_count": 64,
     "metadata": {
      "tags": []
     },
     "output_type": "execute_result"
    }
   ],
   "source": [
    "sentence_df.loc[sentence_df.id == top_10_similarity[4],'text'].values[0]"
   ]
  },
  {
   "cell_type": "code",
   "execution_count": null,
   "metadata": {
    "id": "xJe-IvnbBA4z",
    "outputId": "5fcaf871-9f03-4551-ff66-beaf77d2687d"
   },
   "outputs": [
    {
     "data": {
      "text/plain": [
       "'Børshandlere er såvidt vides udstyret med samme biologiske profil som alle andre mennesker.'"
      ]
     },
     "execution_count": 65,
     "metadata": {
      "tags": []
     },
     "output_type": "execute_result"
    }
   ],
   "source": [
    "sentence_df.loc[sentence_df.id == top_10_similarity[5],'text'].values[0]"
   ]
  },
  {
   "cell_type": "markdown",
   "metadata": {
    "id": "_-GmyRDfBA4z"
   },
   "source": [
    "## Option 4: Sub word tokenization > TF-IDF vercorization > cosine similarity"
   ]
  },
  {
   "cell_type": "code",
   "execution_count": 48,
   "metadata": {
    "id": "r3e3N2EWBA40"
   },
   "outputs": [],
   "source": [
    "import sentencepiece as spm"
   ]
  },
  {
   "cell_type": "code",
   "execution_count": 51,
   "metadata": {
    "id": "-Ybu5_e4BA40"
   },
   "outputs": [],
   "source": [
    "# file for subword tokenization training\n",
    "sub_word_file = 'sub_word_training.txt'"
   ]
  },
  {
   "cell_type": "code",
   "execution_count": 52,
   "metadata": {
    "id": "GJHdOnLnBA40"
   },
   "outputs": [],
   "source": [
    "# cconsolidate all sentences in a file\n",
    "all_sentences = '\\n'.join(sentence_df['text'])\n",
    "with open(sub_word_file, 'w') as _file:\n",
    "    _file.write(all_sentences)"
   ]
  },
  {
   "cell_type": "code",
   "execution_count": 54,
   "metadata": {
    "id": "Y74c8_kuBA40"
   },
   "outputs": [],
   "source": [
    "# train sentencepiece model from sub_word_file and makes `m.model` and `m.vocab`\n",
    "# `m.vocab` is just a reference. not used in the segmentation.\n",
    "spm.SentencePieceTrainer.train('--input=sub_word_training.txt --model_prefix=m --vocab_size=10000')"
   ]
  },
  {
   "cell_type": "code",
   "execution_count": 55,
   "metadata": {
    "colab": {
     "base_uri": "https://localhost:8080/"
    },
    "id": "bIhRMbUEBA41",
    "outputId": "e9cab9e1-d78f-4d29-ad74-460f39cf745c"
   },
   "outputs": [
    {
     "data": {
      "text/plain": [
       "True"
      ]
     },
     "execution_count": 55,
     "metadata": {
      "tags": []
     },
     "output_type": "execute_result"
    }
   ],
   "source": [
    "# makes segmenter instance and loads the model file (m.model)\n",
    "sp = spm.SentencePieceProcessor()\n",
    "sp.load('m.model')"
   ]
  },
  {
   "cell_type": "code",
   "execution_count": 56,
   "metadata": {
    "colab": {
     "base_uri": "https://localhost:8080/"
    },
    "id": "cmGUkviuBA41",
    "outputId": "9c7a2450-1db1-4f23-eb43-4597ff85be46"
   },
   "outputs": [
    {
     "name": "stdout",
     "output_type": "stream",
     "text": [
      "['▁I', 'følge', '▁Dansk', '▁Kenne', 'l', 'klub', '▁angriber', '▁mu', 'skel', 'hund', 'e', '▁dyr', '▁og', '▁mennesker', '▁cirk', 'a', '▁hver', '▁14', '.', '▁dag', '.']\n",
      "[52, 458, 360, 3112, 185, 2736, 3224, 2246, 4454, 3534, 11, 1032, 7, 332, 1330, 66, 149, 511, 4, 121, 4]\n"
     ]
    }
   ],
   "source": [
    "# encode: text => id\n",
    "print(sp.encode_as_pieces(target_sentence.values[0]))\n",
    "print(sp.encode_as_ids(target_sentence.values[0]))"
   ]
  },
  {
   "cell_type": "markdown",
   "metadata": {
    "id": "mEOKPzJPBA44"
   },
   "source": [
    "### Cosine similarity on TF-IDF vectorizer"
   ]
  },
  {
   "cell_type": "code",
   "execution_count": 57,
   "metadata": {
    "colab": {
     "base_uri": "https://localhost:8080/"
    },
    "id": "K3p-B5rDBA44",
    "outputId": "a97b9f13-8d0c-4a5f-d193-e956958e1c8b"
   },
   "outputs": [
    {
     "data": {
      "text/plain": [
       "(5000, 6394)"
      ]
     },
     "execution_count": 57,
     "metadata": {
      "tags": []
     },
     "output_type": "execute_result"
    }
   ],
   "source": [
    "# fit TF-IDF vectorizer without Danish stop words\n",
    "# use the sub word tokenizer\n",
    "tfidf_vect_sw = TfidfVectorizer(tokenizer=sp.encode_as_ids)#, stop_words=stopwords.words('danish'))\n",
    "# fit on cleaned text\n",
    "tfidf_vect_matrix_sw = tfidf_vect_sw.fit_transform(sentence_df_cp_op1)\n",
    "# vocab sze 13574\n",
    "tfidf_vect_matrix_sw.shape"
   ]
  },
  {
   "cell_type": "code",
   "execution_count": 58,
   "metadata": {
    "id": "zd9Fuq9PBA45"
   },
   "outputs": [],
   "source": [
    "# find cosine similarity for the count vector matrix\n",
    "cosine_matrix_ti_sw = cosine_similarity(tfidf_vect_matrix_sw)"
   ]
  },
  {
   "cell_type": "code",
   "execution_count": 59,
   "metadata": {
    "id": "rEa1v8GhBA45"
   },
   "outputs": [],
   "source": [
    "# convert to Data Frame\n",
    "cosine_df_ti_sw = pd.DataFrame(cosine_matrix_ti_sw, columns = sentence_df['id'], index = sentence_df['id'])"
   ]
  },
  {
   "cell_type": "code",
   "execution_count": 60,
   "metadata": {
    "colab": {
     "base_uri": "https://localhost:8080/"
    },
    "id": "XTu4pUcTBA45",
    "outputId": "69d54e93-79c2-449a-9ff1-bc9b87313acc"
   },
   "outputs": [
    {
     "data": {
      "text/plain": [
       "id\n",
       "7-21-440      1.000000\n",
       "47-2-28       0.214849\n",
       "51-58-1495    0.178410\n",
       "34-7-768      0.167955\n",
       "38-20-1059    0.153800\n",
       "42-33-69      0.150390\n",
       "3-55-8        0.148307\n",
       "6-37-308      0.148256\n",
       "38-78-1469    0.141425\n",
       "6-47-994      0.140513\n",
       "Name: 7-21-440, dtype: float64"
      ]
     },
     "execution_count": 60,
     "metadata": {
      "tags": []
     },
     "output_type": "execute_result"
    }
   ],
   "source": [
    "# select the row for target sentence\n",
    "target_cosine_array = cosine_df_ti_sw.loc['7-21-440',:]\n",
    "# sort descending\n",
    "target_cosine_array.sort_values(ascending = False)[:10]"
   ]
  },
  {
   "cell_type": "code",
   "execution_count": 61,
   "metadata": {
    "id": "-dXS-9RABA46"
   },
   "outputs": [],
   "source": [
    "# gather indices for top 10 similar sentences\n",
    "top_10_similarity = target_cosine_array.sort_values(ascending = False)[:10].index.tolist()"
   ]
  },
  {
   "cell_type": "code",
   "execution_count": 62,
   "metadata": {
    "colab": {
     "base_uri": "https://localhost:8080/",
     "height": 35
    },
    "id": "rwiKSc4nBA46",
    "outputId": "a130e376-0b43-4d3c-90ab-c9391e27647d"
   },
   "outputs": [
    {
     "data": {
      "application/vnd.google.colaboratory.intrinsic+json": {
       "type": "string"
      },
      "text/plain": [
       "'I dag'"
      ]
     },
     "execution_count": 62,
     "metadata": {
      "tags": []
     },
     "output_type": "execute_result"
    }
   ],
   "source": [
    "sentence_df.loc[sentence_df.id == top_10_similarity[1],'text'].values[0]"
   ]
  },
  {
   "cell_type": "code",
   "execution_count": 63,
   "metadata": {
    "colab": {
     "base_uri": "https://localhost:8080/",
     "height": 35
    },
    "id": "F378EHiDBA47",
    "outputId": "9a555daa-bb7c-4a2a-d71e-71999d660a1f"
   },
   "outputs": [
    {
     "data": {
      "application/vnd.google.colaboratory.intrinsic+json": {
       "type": "string"
      },
      "text/plain": [
       "'Paa Marken;'"
      ]
     },
     "execution_count": 63,
     "metadata": {
      "tags": []
     },
     "output_type": "execute_result"
    }
   ],
   "source": [
    "sentence_df.loc[sentence_df.id == top_10_similarity[2],'text'].values[0]"
   ]
  },
  {
   "cell_type": "code",
   "execution_count": 64,
   "metadata": {
    "colab": {
     "base_uri": "https://localhost:8080/",
     "height": 35
    },
    "id": "OvXMBlygBA47",
    "outputId": "bbe319b7-c0dc-4fa4-8b2c-a24403f630c8"
   },
   "outputs": [
    {
     "data": {
      "application/vnd.google.colaboratory.intrinsic+json": {
       "type": "string"
      },
      "text/plain": [
       "'Hvor forbrugernes valgmuligheder for 20 år siden kunne tælles på en hånd eller to, så kan de i dag vælge mellem cirka 150 forskellige realkreditlån.'"
      ]
     },
     "execution_count": 64,
     "metadata": {
      "tags": []
     },
     "output_type": "execute_result"
    }
   ],
   "source": [
    "sentence_df.loc[sentence_df.id == top_10_similarity[3],'text'].values[0]"
   ]
  },
  {
   "cell_type": "code",
   "execution_count": 65,
   "metadata": {
    "colab": {
     "base_uri": "https://localhost:8080/",
     "height": 35
    },
    "id": "n5BwixmWBA47",
    "outputId": "21797985-bfcc-4f2e-9638-ff86bcc76e98"
   },
   "outputs": [
    {
     "data": {
      "application/vnd.google.colaboratory.intrinsic+json": {
       "type": "string"
      },
      "text/plain": [
       "'Jeg ved, at niveauet er højt blandt alle angriberne i Serie A og kræver en toppræstation hver eneste gang.'"
      ]
     },
     "execution_count": 65,
     "metadata": {
      "tags": []
     },
     "output_type": "execute_result"
    }
   ],
   "source": [
    "sentence_df.loc[sentence_df.id == top_10_similarity[4],'text'].values[0]"
   ]
  },
  {
   "cell_type": "code",
   "execution_count": 66,
   "metadata": {
    "colab": {
     "base_uri": "https://localhost:8080/",
     "height": 35
    },
    "id": "l6bkY1GVBA48",
    "outputId": "f0f4e387-8428-4ee3-b830-cfb16090c533"
   },
   "outputs": [
    {
     "data": {
      "application/vnd.google.colaboratory.intrinsic+json": {
       "type": "string"
      },
      "text/plain": [
       "'KAN MAN SKÆRE MUGGEN VÆK?'"
      ]
     },
     "execution_count": 66,
     "metadata": {
      "tags": []
     },
     "output_type": "execute_result"
    }
   ],
   "source": [
    "sentence_df.loc[sentence_df.id == top_10_similarity[5],'text'].values[0]"
   ]
  },
  {
   "cell_type": "markdown",
   "metadata": {
    "id": "w903pDxwBA48"
   },
   "source": [
    "## Option 5: TOP2VEC for topic clustering with sentence transformer"
   ]
  },
  {
   "cell_type": "code",
   "execution_count": null,
   "metadata": {
    "id": "TlhMY9fwBA48"
   },
   "outputs": [],
   "source": [
    "from top2vec import Top2Vec"
   ]
  },
  {
   "cell_type": "code",
   "execution_count": null,
   "metadata": {
    "colab": {
     "base_uri": "https://localhost:8080/"
    },
    "id": "3p_5KBJBBA49",
    "outputId": "df86424a-f86f-4d96-b70a-75684f69cca1"
   },
   "outputs": [
    {
     "name": "stderr",
     "output_type": "stream",
     "text": [
      "2021-02-01 15:23:58,104 - top2vec - INFO - Pre-processing documents for training\n",
      "2021-02-01 15:23:58,470 - top2vec - INFO - Downloading distiluse-base-multilingual-cased model\n",
      "100%|██████████| 504M/504M [00:55<00:00, 9.12MB/s]\n",
      "2021-02-01 15:25:05,350 - top2vec - INFO - Creating joint document/word embedding\n",
      "2021-02-01 15:29:00,761 - top2vec - INFO - Creating lower dimension embedding of documents\n",
      "2021-02-01 15:29:37,390 - top2vec - INFO - Finding dense areas of documents\n",
      "2021-02-01 15:29:37,647 - top2vec - INFO - Finding topics\n"
     ]
    }
   ],
   "source": [
    "# topic modelling using BERT based sentence transformer\n",
    "topic_model = Top2Vec(list(sentence_df.text),embedding_model='distiluse-base-multilingual-cased',speed=\"deep-learn\")"
   ]
  },
  {
   "cell_type": "code",
   "execution_count": null,
   "metadata": {
    "colab": {
     "base_uri": "https://localhost:8080/"
    },
    "id": "K1PdaQo3BA49",
    "outputId": "88ab91bd-fbd3-4cad-d61a-b7493111d1e3"
   },
   "outputs": [
    {
     "data": {
      "text/plain": [
       "39"
      ]
     },
     "execution_count": 9,
     "metadata": {
      "tags": []
     },
     "output_type": "execute_result"
    }
   ],
   "source": [
    "# total number of topics discovered\n",
    "topic_model.get_num_topics()"
   ]
  },
  {
   "cell_type": "code",
   "execution_count": null,
   "metadata": {
    "colab": {
     "base_uri": "https://localhost:8080/"
    },
    "id": "WAN3mDCpBA4-",
    "outputId": "f24e407d-7576-451a-fb15-81a8e0d342a9"
   },
   "outputs": [
    {
     "data": {
      "text/plain": [
       "(array([412, 314, 279, 207, 207, 203, 202, 184, 158, 150, 135, 126, 126,\n",
       "        126, 122, 122, 115, 115, 113, 110,  99,  98,  97,  93,  92,  91,\n",
       "         91,  88,  87,  82,  74,  71,  69,  69,  68,  61,  52,  47,  45]),\n",
       " array([ 0,  1,  2,  3,  4,  5,  6,  7,  8,  9, 10, 11, 12, 13, 14, 15, 16,\n",
       "        17, 18, 19, 20, 21, 22, 23, 24, 25, 26, 27, 28, 29, 30, 31, 32, 33,\n",
       "        34, 35, 36, 37, 38]))"
      ]
     },
     "execution_count": 10,
     "metadata": {
      "tags": []
     },
     "output_type": "execute_result"
    }
   ],
   "source": [
    "# num of senteces in topic\n",
    "topic_sizes, topic_nums = topic_model.get_topic_sizes()\n",
    "topic_sizes, topic_nums"
   ]
  },
  {
   "cell_type": "code",
   "execution_count": null,
   "metadata": {
    "colab": {
     "base_uri": "https://localhost:8080/"
    },
    "id": "zSbpax_0BA4-",
    "outputId": "c7f0121a-8feb-4bde-db25-6d1a46e04538"
   },
   "outputs": [
    {
     "data": {
      "text/plain": [
       "[{'Document_id': 3906,\n",
       "  'Score': 0.88263214,\n",
       "  'text': 'Hansen( DF)',\n",
       "  'topic_id': 0},\n",
       " {'Document_id': 3404, 'Score': 0.87143725, 'text': 'Lao Tzu¹', 'topic_id': 0}]"
      ]
     },
     "execution_count": 22,
     "metadata": {
      "tags": []
     },
     "output_type": "execute_result"
    }
   ],
   "source": [
    "# setence to topic mapping\n",
    "doc_topic_list = []\n",
    "for s, n in zip(topic_sizes, topic_nums):\n",
    "    documents, document_scores, document_ids = topic_model.search_documents_by_topic(topic_num=n, num_docs = s)\n",
    "    \n",
    "    for doc, score, doc_id in zip(documents, document_scores, document_ids):\n",
    "        doc_topic_list.append({\"Document_id\": doc_id,\n",
    "                               \"Score\": score,\n",
    "                               \"text\":doc,\n",
    "                               \"topic_id\": n})\n",
    "doc_topic_list[:2]"
   ]
  },
  {
   "cell_type": "code",
   "execution_count": null,
   "metadata": {
    "colab": {
     "base_uri": "https://localhost:8080/",
     "height": 204
    },
    "id": "8mDG5A2aPBBD",
    "outputId": "9c3f152b-795c-4c16-cf28-12edf3bafd08"
   },
   "outputs": [
    {
     "data": {
      "text/html": [
       "<div>\n",
       "<style scoped>\n",
       "    .dataframe tbody tr th:only-of-type {\n",
       "        vertical-align: middle;\n",
       "    }\n",
       "\n",
       "    .dataframe tbody tr th {\n",
       "        vertical-align: top;\n",
       "    }\n",
       "\n",
       "    .dataframe thead th {\n",
       "        text-align: right;\n",
       "    }\n",
       "</style>\n",
       "<table border=\"1\" class=\"dataframe\">\n",
       "  <thead>\n",
       "    <tr style=\"text-align: right;\">\n",
       "      <th></th>\n",
       "      <th>Document_id</th>\n",
       "      <th>Score</th>\n",
       "      <th>text</th>\n",
       "      <th>topic_id</th>\n",
       "    </tr>\n",
       "  </thead>\n",
       "  <tbody>\n",
       "    <tr>\n",
       "      <th>0</th>\n",
       "      <td>0</td>\n",
       "      <td>0.171193</td>\n",
       "      <td>Vanddamp er en usynlig gas, der forekommer i s...</td>\n",
       "      <td>9</td>\n",
       "    </tr>\n",
       "    <tr>\n",
       "      <th>1</th>\n",
       "      <td>1</td>\n",
       "      <td>0.164515</td>\n",
       "      <td>Er der nogen herinde der har erfaring med at k...</td>\n",
       "      <td>13</td>\n",
       "    </tr>\n",
       "    <tr>\n",
       "      <th>2</th>\n",
       "      <td>2</td>\n",
       "      <td>0.297734</td>\n",
       "      <td>Ved ikke lige hvordan disse er i størrelsen?</td>\n",
       "      <td>3</td>\n",
       "    </tr>\n",
       "    <tr>\n",
       "      <th>3</th>\n",
       "      <td>3</td>\n",
       "      <td>0.398476</td>\n",
       "      <td>Dog kan jeg godt lide pang farver;)</td>\n",
       "      <td>6</td>\n",
       "    </tr>\n",
       "    <tr>\n",
       "      <th>4</th>\n",
       "      <td>4</td>\n",
       "      <td>0.384771</td>\n",
       "      <td>Pengene bliver dog ofte først udbetalt efter 5...</td>\n",
       "      <td>28</td>\n",
       "    </tr>\n",
       "  </tbody>\n",
       "</table>\n",
       "</div>"
      ],
      "text/plain": [
       "   Document_id  ...  topic_id\n",
       "0            0  ...         9\n",
       "1            1  ...        13\n",
       "2            2  ...         3\n",
       "3            3  ...         6\n",
       "4            4  ...        28\n",
       "\n",
       "[5 rows x 4 columns]"
      ]
     },
     "execution_count": 36,
     "metadata": {
      "tags": []
     },
     "output_type": "execute_result"
    }
   ],
   "source": [
    "# sentence to topic mapping in dataframe\n",
    "doc_topc_df = pd.DataFrame(doc_topic_list)\n",
    "doc_topc_df.sort_values(by = [\"Document_id\"], ascending = True, inplace= True)\n",
    "doc_topc_df = doc_topc_df.reset_index(drop=True)\n",
    "doc_topc_df.head()"
   ]
  },
  {
   "cell_type": "code",
   "execution_count": null,
   "metadata": {
    "id": "dqwFJPtMRybE"
   },
   "outputs": [],
   "source": [
    "# add original sentence id\n",
    "doc_topc_df = pd.concat([doc_topc_df, sentence_df[['id']]], axis = 1)\n"
   ]
  },
  {
   "cell_type": "code",
   "execution_count": null,
   "metadata": {
    "colab": {
     "base_uri": "https://localhost:8080/",
     "height": 80
    },
    "id": "CrgkyrwOSXgS",
    "outputId": "6f321c5b-0755-4712-90de-7a79c44e0f9a"
   },
   "outputs": [
    {
     "data": {
      "text/html": [
       "<div>\n",
       "<style scoped>\n",
       "    .dataframe tbody tr th:only-of-type {\n",
       "        vertical-align: middle;\n",
       "    }\n",
       "\n",
       "    .dataframe tbody tr th {\n",
       "        vertical-align: top;\n",
       "    }\n",
       "\n",
       "    .dataframe thead th {\n",
       "        text-align: right;\n",
       "    }\n",
       "</style>\n",
       "<table border=\"1\" class=\"dataframe\">\n",
       "  <thead>\n",
       "    <tr style=\"text-align: right;\">\n",
       "      <th></th>\n",
       "      <th>Document_id</th>\n",
       "      <th>Score</th>\n",
       "      <th>text</th>\n",
       "      <th>topic_id</th>\n",
       "      <th>id</th>\n",
       "    </tr>\n",
       "  </thead>\n",
       "  <tbody>\n",
       "    <tr>\n",
       "      <th>4659</th>\n",
       "      <td>4659</td>\n",
       "      <td>0.310199</td>\n",
       "      <td>Ifølge Dansk Kennelklub angriber muskelhunde d...</td>\n",
       "      <td>4</td>\n",
       "      <td>7-21-440</td>\n",
       "    </tr>\n",
       "  </tbody>\n",
       "</table>\n",
       "</div>"
      ],
      "text/plain": [
       "      Document_id     Score  ... topic_id        id\n",
       "4659         4659  0.310199  ...        4  7-21-440\n",
       "\n",
       "[1 rows x 5 columns]"
      ]
     },
     "execution_count": 38,
     "metadata": {
      "tags": []
     },
     "output_type": "execute_result"
    }
   ],
   "source": [
    "# Topic for target sentence\n",
    "doc_topc_df.loc[doc_topc_df['id']=='7-21-440',:]"
   ]
  },
  {
   "cell_type": "code",
   "execution_count": null,
   "metadata": {
    "colab": {
     "base_uri": "https://localhost:8080/"
    },
    "id": "QyWMFGDkS8Tz",
    "outputId": "5e90a848-7ef5-43fa-d74d-09feabe595ab"
   },
   "outputs": [
    {
     "name": "stderr",
     "output_type": "stream",
     "text": [
      "/usr/local/lib/python3.6/dist-packages/ipykernel_launcher.py:2: SettingWithCopyWarning: \n",
      "A value is trying to be set on a copy of a slice from a DataFrame\n",
      "\n",
      "See the caveats in the documentation: https://pandas.pydata.org/pandas-docs/stable/user_guide/indexing.html#returning-a-view-versus-a-copy\n",
      "  \n"
     ]
    },
    {
     "data": {
      "text/plain": [
       "(11, 5)"
      ]
     },
     "execution_count": 47,
     "metadata": {
      "tags": []
     },
     "output_type": "execute_result"
    }
   ],
   "source": [
    "# select other sentences in that topic\n",
    "topic4_df = doc_topc_df.loc[doc_topc_df['topic_id']==4,:]\n",
    "topic4_df.sort_values(by = ['Score'], ascending = False, inplace = True) \n",
    "# select other sentences with similer score\n",
    "topic4_df_sim = topic4_df.loc[(topic4_df['Score'] >= 0.28) & (topic4_df['Score'] <= 0.32),:]\n",
    "topic4_df_sim.shape"
   ]
  },
  {
   "cell_type": "code",
   "execution_count": null,
   "metadata": {
    "colab": {
     "base_uri": "https://localhost:8080/"
    },
    "id": "4p32yG6yTzHt",
    "outputId": "8a743a70-d5d0-48b0-8edb-5ad0cfd8bc58"
   },
   "outputs": [
    {
     "data": {
      "text/plain": [
       "array(['20 pct. af Europas bønder 80 pct. af EU s samlede landbrugsstøtte, og hvis vi ikke får bremset op for den udvikling, ja, så ender det jo med, at der kun er tre gårde tilbage i et sogn.',\n",
       "       'Enhedslisten har fremsat forslag om, at regeringen skal indgå aftale med Kommunernes Landsforening og Danske Regioner om økologisk indkøb af fødevarer i det offentlige og om omlægning til økologisk produktion på al offentligt ejet jord.',\n",
       "       'Vores svenske nabo har ratificeret den.',\n",
       "       'I 900- tallet ankom svenske vikinger for første gang byen Konstantinopel( som de kaldte Miklagård).',\n",
       "       'Og så ikke mindst et euroforbehold.',\n",
       "       'Ifølge Dansk Kennelklub angriber muskelhunde dyr og mennesker cirka hver 14. dag.',\n",
       "       'Indridason er selv nået til bind nummer ni, og nu udkommer bind seks, Manden i søen, som fjerde Erlendur- udgivelse på dansk.',\n",
       "       'Læreruddannelsen på KDAS, som er del af Professionshøjskolen København, har på hjemmesiden for KLM formuleret fagets bidrag til de almene lærerkvalifikationer.',\n",
       "       'På www. venstre. dk i toppen finder du VenstreTV, og her kan du se alle indslagene fra Venstres Landsmøde.',\n",
       "       'Hans ledelseskoncept byggede på stærke lokale ledelser og en skandinavisk ledelsesfilosofimed respekt, omsorg for mennesker, uddannelse og en uformel omgangstone.',\n",
       "       'På grund af sin isolation mellem den enorme indlandsis og havets pakis forekom der ikke en sådan kolonisering af Østgrønland, området forblev praktisk talt ukendt for alle andre end befolkningen ved Ammassalik'],\n",
       "      dtype=object)"
      ]
     },
     "execution_count": 49,
     "metadata": {
      "tags": []
     },
     "output_type": "execute_result"
    }
   ],
   "source": [
    "# Similar sentences\n",
    "topic4_df_sim.text.values"
   ]
  },
  {
   "cell_type": "markdown",
   "metadata": {
    "id": "ro26EpGrXygd"
   },
   "source": [
    "## Option 6: Pre-trained subword token > tf-idf > cosine"
   ]
  },
  {
   "cell_type": "code",
   "execution_count": 67,
   "metadata": {
    "colab": {
     "base_uri": "https://localhost:8080/"
    },
    "id": "Svqd0hQ0YFBw",
    "outputId": "da6c783a-a128-4352-8663-87ee1f23d9ed"
   },
   "outputs": [
    {
     "name": "stderr",
     "output_type": "stream",
     "text": [
      "100%|██████████| 1112255/1112255 [00:00<00:00, 16929838.82B/s]"
     ]
    },
    {
     "name": "stdout",
     "output_type": "stream",
     "text": [
      "downloading https://nlp.h-its.org/bpemb/da/da.wiki.bpe.vs50000.model\n",
      "downloading https://nlp.h-its.org/bpemb/da/da.wiki.bpe.vs50000.d100.w2v.bin.tar.gz\n"
     ]
    },
    {
     "name": "stderr",
     "output_type": "stream",
     "text": [
      "\n",
      "100%|██████████| 18979337/18979337 [00:00<00:00, 63414044.91B/s]\n"
     ]
    }
   ],
   "source": [
    "# pre-traied sub-word tokens in Danish\n",
    "from bpemb import BPEmb\n",
    "bpemb_da = BPEmb(lang=\"da\",vs=50000)"
   ]
  },
  {
   "cell_type": "code",
   "execution_count": 68,
   "metadata": {
    "colab": {
     "base_uri": "https://localhost:8080/"
    },
    "id": "fgkw4d3CYWuQ",
    "outputId": "774273ad-58ad-48bd-d006-0cd0b8c0f241"
   },
   "outputs": [
    {
     "data": {
      "text/plain": [
       "['▁ifølge',\n",
       " '▁dansk',\n",
       " '▁kennel',\n",
       " 'klub',\n",
       " '▁angriber',\n",
       " '▁muskel',\n",
       " 'hunde',\n",
       " '▁dyr',\n",
       " '▁og',\n",
       " '▁mennesker',\n",
       " '▁cirka',\n",
       " '▁hver',\n",
       " '▁00.',\n",
       " '▁dag',\n",
       " '.']"
      ]
     },
     "execution_count": 68,
     "metadata": {
      "tags": []
     },
     "output_type": "execute_result"
    }
   ],
   "source": [
    "# suword tokenization for target senetence\n",
    "bpemb_da.encode(target_sentence.values[0])"
   ]
  },
  {
   "cell_type": "markdown",
   "metadata": {
    "id": "rwp5s-E3Zcqc"
   },
   "source": [
    "### Cosine similarity on TF-IDF vectorizer"
   ]
  },
  {
   "cell_type": "code",
   "execution_count": 70,
   "metadata": {
    "colab": {
     "base_uri": "https://localhost:8080/"
    },
    "id": "4P4bZ-YFZcqr",
    "outputId": "08fe8b2a-5e12-4723-dd1a-23f216fec274"
   },
   "outputs": [
    {
     "data": {
      "text/plain": [
       "(5000, 14825)"
      ]
     },
     "execution_count": 70,
     "metadata": {
      "tags": []
     },
     "output_type": "execute_result"
    }
   ],
   "source": [
    "# fit tf-idf vectorizer with Danish stop words\n",
    "# use the pre-trained subword tokenizer tokenizer\n",
    "tfidf_vect_bpsw = TfidfVectorizer(tokenizer=bpemb_da.encode)\n",
    "# fit on cleaned text\n",
    "tfidf_vect_matrix_bpsw = tfidf_vect_bpsw.fit_transform(sentence_df_cp_op1)\n",
    "# vocab size 14k\n",
    "tfidf_vect_matrix_bpsw.shape"
   ]
  },
  {
   "cell_type": "code",
   "execution_count": 71,
   "metadata": {
    "id": "Kgx4iRYPZcqr"
   },
   "outputs": [],
   "source": [
    "# find cosine similarity for the count vector matrix\n",
    "cosine_matrix_ti_bpsw = cosine_similarity(tfidf_vect_matrix_bpsw)"
   ]
  },
  {
   "cell_type": "code",
   "execution_count": 72,
   "metadata": {
    "id": "HfmivbOcZcqs"
   },
   "outputs": [],
   "source": [
    "# convert to Data Frame\n",
    "cosine_df_ti_bpsw = pd.DataFrame(cosine_matrix_ti_bpsw, columns = sentence_df['id'], index = sentence_df['id'])"
   ]
  },
  {
   "cell_type": "code",
   "execution_count": 73,
   "metadata": {
    "colab": {
     "base_uri": "https://localhost:8080/"
    },
    "id": "0DLRvmJ-Zcqs",
    "outputId": "9eb3306e-8e54-4887-9391-3a036d3add93"
   },
   "outputs": [
    {
     "data": {
      "text/plain": [
       "id\n",
       "7-21-440      1.000000\n",
       "47-2-28       0.178211\n",
       "40-81-2158    0.141524\n",
       "38-78-1469    0.134001\n",
       "36-90-2811    0.133627\n",
       "34-7-768      0.130969\n",
       "6-37-308      0.121556\n",
       "7-25-687      0.121070\n",
       "36-0-1231     0.120413\n",
       "51-33-2622    0.120093\n",
       "Name: 7-21-440, dtype: float64"
      ]
     },
     "execution_count": 73,
     "metadata": {
      "tags": []
     },
     "output_type": "execute_result"
    }
   ],
   "source": [
    "# select the row for target sentence\n",
    "target_cosine_array = cosine_df_ti_bpsw.loc['7-21-440',:]\n",
    "# sort descending\n",
    "target_cosine_array.sort_values(ascending = False)[:10]"
   ]
  },
  {
   "cell_type": "code",
   "execution_count": 74,
   "metadata": {
    "id": "Uq5so6rpZcqt"
   },
   "outputs": [],
   "source": [
    "# gather indices for top 10 similar sentences\n",
    "top_10_similarity = target_cosine_array.sort_values(ascending = False)[:10].index.tolist()"
   ]
  },
  {
   "cell_type": "code",
   "execution_count": 75,
   "metadata": {
    "colab": {
     "base_uri": "https://localhost:8080/",
     "height": 35
    },
    "id": "00AGCPdAZcqt",
    "outputId": "8651e04d-6aa6-486f-b9bd-ee056b79ec03"
   },
   "outputs": [
    {
     "data": {
      "application/vnd.google.colaboratory.intrinsic+json": {
       "type": "string"
      },
      "text/plain": [
       "'I dag'"
      ]
     },
     "execution_count": 75,
     "metadata": {
      "tags": []
     },
     "output_type": "execute_result"
    }
   ],
   "source": [
    "sentence_df.loc[sentence_df.id == top_10_similarity[1],'text'].values[0]"
   ]
  },
  {
   "cell_type": "code",
   "execution_count": 76,
   "metadata": {
    "colab": {
     "base_uri": "https://localhost:8080/",
     "height": 35
    },
    "id": "kvmCJH0DZcqu",
    "outputId": "86773930-e1e4-4f85-b0bb-6f25f6a2ea3a"
   },
   "outputs": [
    {
     "data": {
      "application/vnd.google.colaboratory.intrinsic+json": {
       "type": "string"
      },
      "text/plain": [
       "'Ifølge Henning Otte Hansen må forbrugerne herhjemme nu nok under alle omstændigheder affinde sig med, at maden er relativt dyr:'"
      ]
     },
     "execution_count": 76,
     "metadata": {
      "tags": []
     },
     "output_type": "execute_result"
    }
   ],
   "source": [
    "sentence_df.loc[sentence_df.id == top_10_similarity[2],'text'].values[0]"
   ]
  },
  {
   "cell_type": "code",
   "execution_count": 77,
   "metadata": {
    "colab": {
     "base_uri": "https://localhost:8080/",
     "height": 35
    },
    "id": "DIJx1ZK3Zcqu",
    "outputId": "5e756a06-7ca4-4cc2-fbfe-922ae01ab07a"
   },
   "outputs": [
    {
     "data": {
      "application/vnd.google.colaboratory.intrinsic+json": {
       "type": "string"
      },
      "text/plain": [
       "'Men det fik ikke den farlige angriber til at skåne City.'"
      ]
     },
     "execution_count": 77,
     "metadata": {
      "tags": []
     },
     "output_type": "execute_result"
    }
   ],
   "source": [
    "sentence_df.loc[sentence_df.id == top_10_similarity[3],'text'].values[0]"
   ]
  },
  {
   "cell_type": "code",
   "execution_count": 78,
   "metadata": {
    "colab": {
     "base_uri": "https://localhost:8080/",
     "height": 35
    },
    "id": "OtrJVtudZcqv",
    "outputId": "6780f8c3-76ec-480a-cf4f-35db5ec87fc4"
   },
   "outputs": [
    {
     "data": {
      "application/vnd.google.colaboratory.intrinsic+json": {
       "type": "string"
      },
      "text/plain": [
       "'De seneste 10 år har der ifølge Søfartsstyrelsen'"
      ]
     },
     "execution_count": 78,
     "metadata": {
      "tags": []
     },
     "output_type": "execute_result"
    }
   ],
   "source": [
    "sentence_df.loc[sentence_df.id == top_10_similarity[4],'text'].values[0]"
   ]
  },
  {
   "cell_type": "code",
   "execution_count": 79,
   "metadata": {
    "colab": {
     "base_uri": "https://localhost:8080/",
     "height": 35
    },
    "id": "Frr3lavvZcqv",
    "outputId": "691aa4ca-ec45-4507-ce1c-c94349d0e6ab"
   },
   "outputs": [
    {
     "data": {
      "application/vnd.google.colaboratory.intrinsic+json": {
       "type": "string"
      },
      "text/plain": [
       "'Hvor forbrugernes valgmuligheder for 20 år siden kunne tælles på en hånd eller to, så kan de i dag vælge mellem cirka 150 forskellige realkreditlån.'"
      ]
     },
     "execution_count": 79,
     "metadata": {
      "tags": []
     },
     "output_type": "execute_result"
    }
   ],
   "source": [
    "sentence_df.loc[sentence_df.id == top_10_similarity[5],'text'].values[0]"
   ]
  },
  {
   "cell_type": "code",
   "execution_count": 45,
   "metadata": {
    "id": "nfAMY53saJ2P"
   },
   "outputs": [],
   "source": []
  }
 ],
 "metadata": {
  "colab": {
   "include_colab_link": true,
   "name": "sentence_similarity.ipynb",
   "provenance": []
  },
  "kernelspec": {
   "display_name": "Python 3",
   "language": "python",
   "name": "python3"
  },
  "language_info": {
   "codemirror_mode": {
    "name": "ipython",
    "version": 3
   },
   "file_extension": ".py",
   "mimetype": "text/x-python",
   "name": "python",
   "nbconvert_exporter": "python",
   "pygments_lexer": "ipython3",
   "version": "3.7.9"
  }
 },
 "nbformat": 4,
 "nbformat_minor": 4
}
